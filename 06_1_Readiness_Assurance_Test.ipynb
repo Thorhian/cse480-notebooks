{
 "cells": [
  {
   "cell_type": "markdown",
   "metadata": {
    "colab_type": "text",
    "id": "view-in-github"
   },
   "source": [
    "<a href=\"https://colab.research.google.com/github/byui-cse/cse480-notebooks/blob/master/06_1_Readiness_Assurance_Test.ipynb\" target=\"_parent\"><img src=\"https://colab.research.google.com/assets/colab-badge.svg\" alt=\"Open In Colab\"/></a>"
   ]
  },
  {
   "cell_type": "markdown",
   "metadata": {
    "id": "UEhvJzZ5EiIK"
   },
   "source": [
    "# Readiness Assurance Test\n",
    "## Due: Monday, 8 February 2021, 2:30pm"
   ]
  },
  {
   "cell_type": "markdown",
   "metadata": {
    "id": "wqar4fgvSBxR"
   },
   "source": [
    "## Imports, then the actual RAT"
   ]
  },
  {
   "cell_type": "code",
   "execution_count": 1,
   "metadata": {
    "id": "y863_jSu1Fad",
    "run_control": {
     "frozen": false,
     "read_only": false
    },
    "scrolled": true
   },
   "outputs": [
    {
     "name": "stdout",
     "output_type": "stream",
     "text": [
      "You may use any of these help commands:\n",
      "help(ResetStNum)\n",
      "help(NxtStateStr)\n",
      "\n",
      "You may use any of these help commands:\n",
      "help(md2mc)\n",
      ".. and if you want to dig more, then ..\n",
      "help(default_line_attr)\n",
      "help(length_ok_input_items)\n",
      "help(union_line_attr_list_fld)\n",
      "help(extend_rsltdict)\n",
      "help(form_delta)\n",
      "help(get_machine_components)\n",
      "\n",
      "You may use any of these help commands:\n",
      "help(mkp_dfa)\n",
      "help(mk_dfa)\n",
      "help(totalize_dfa)\n",
      "help(addtosigma_delta)\n",
      "help(step_dfa)\n",
      "help(run_dfa)\n",
      "help(accepts_dfa)\n",
      "help(comp_dfa)\n",
      "help(union_dfa)\n",
      "help(intersect_dfa)\n",
      "help(pruneUnreach)\n",
      "help(iso_dfa)\n",
      "help(langeq_dfa)\n",
      "help(same_status)\n",
      "help(h_langeq_dfa)\n",
      "help(fixptDist)\n",
      "help(min_dfa)\n",
      "help(pairFR)\n",
      "help(state_combos)\n",
      "help(sepFinNonFin)\n",
      "help(bash_eql_classes)\n",
      "help(listminus)\n",
      "help(bash_1)\n",
      "help(mk_rep_eqc)\n",
      "help(F_of)\n",
      "help(rep_of_s)\n",
      "help(q0_of)\n",
      "help(Delta_of)\n",
      "help(mk_state_eqc_name)\n",
      "\n",
      "You may use any of these help commands:\n",
      "help(mk_nfa)\n",
      "help(totalize_nfa)\n",
      "help(step_nfa)\n",
      "help(run_nfa)\n",
      "help(ec_step_nfa)\n",
      "help(Eclosure)\n",
      "help(Echelp)\n",
      "help(accepts_nfa)\n",
      "help(nfa2dfa)\n",
      "help(n2d)\n",
      "help(inSets)\n",
      "help(rev_dfa)\n",
      "help(min_dfa_brz)\n",
      "\n",
      "You may use any of these help commands:\n",
      "help(RE2Str)\n",
      "help(mk_gnfa)\n",
      "help(mk_gnfa_from_D)\n",
      "help(dfa2nfa)\n",
      "help(del_gnfa_states)\n",
      "help(gnfa_w_REStr)\n",
      "help(del_one_gnfa_state)\n",
      "help(Edges_Exist_Via)\n",
      "help(choose_state_to_del)\n",
      "help(form_alt_RE)\n",
      "help(form_concat_RE)\n",
      "help(form_kleene_RE)\n",
      "\n",
      "You may use any of these help commands:\n",
      "help(re2nfa)\n",
      "\n",
      " \"help(AnimateNFA)\" gives you info on how to use animations with NFA \n"
     ]
    }
   ],
   "source": [
    "#~~~~~~~~~~~~~~~~~~~~~~~~~~~~~~~~~~~~~~~~~~~~~~~~~~~~~~~\n",
    "import sys\n",
    "\n",
    "# -- Detect if in Own Install or in Colab\n",
    "try:\n",
    "    import google.colab\n",
    "    OWN_INSTALL = False\n",
    "except:\n",
    "    OWN_INSTALL = True\n",
    "    \n",
    "if OWN_INSTALL:\n",
    "  \n",
    "  sys.path[0:0] = ['../../../../..',  '../../../../../3rdparty',  \n",
    "                   '../../../..',  '../../../../3rdparty',  \n",
    "                   '../../..',     '../../../3rdparty', \n",
    "                   '../..',        '../../3rdparty',\n",
    "                   '..',           '../3rdparty',\n",
    "                   '../Jove',      '../Jove/jove']\n",
    "\n",
    "else: # In colab\n",
    "  ! if [ ! -d Jove ]; then git clone https://github.com/ganeshutah/Jove Jove; fi\n",
    "  sys.path.append('./Jove')\n",
    "  sys.path.append('./Jove/jove')\n",
    "\n",
    "# -- common imports --\n",
    "from jove.DotBashers import *\n",
    "from jove.Def_md2mc  import *\n",
    "from jove.Def_NFA    import *\n",
    "from jove.Def_DFA    import *\n",
    "from jove.Def_NFA2RE import *\n",
    "from jove.Def_RE2NFA import *\n",
    "from jove.AnimateNFA import *\n",
    "#~~~~~~~~~~~~~~~~~~~~~~~~~~~~~~~~~~~~~~~~~~~~~~~~~~~~~~~"
   ]
  },
  {
   "cell_type": "markdown",
   "metadata": {
    "id": "glhcbfJwE2hp"
   },
   "source": [
    "# DFA and NFA"
   ]
  },
  {
   "cell_type": "markdown",
   "metadata": {
    "id": "rxMsOSQ6FMMs"
   },
   "source": [
    "## DFA conform to the rules of NFA, but not (always) vice versa."
   ]
  },
  {
   "cell_type": "markdown",
   "metadata": {
    "id": "VMRBbidSFRNW"
   },
   "source": [
    "### Formal Definition of DFA\n",
    "A DFA is a 5-tuple $(Q, \\Sigma, \\delta, q_0, F)$, where\n",
    "\n",
    "1. $Q$ is a finite set called the **states**,\n",
    "2. $\\Sigma$ is a finite set called the **alphabet**,\n",
    "3. $\\delta: Q \\times \\Sigma \\rightarrow Q$ is the **transition function**,\n",
    "4. $q_0 \\in Q$ is the **start state**, and\n",
    "5. $F \\subseteq Q$ is the **set of accept states** (or **final** states)."
   ]
  },
  {
   "cell_type": "markdown",
   "metadata": {
    "id": "pSlG0bzMF78_"
   },
   "source": [
    "### Formal Definition of NFA\n",
    "An NFA is a 5-tuple $(Q, \\Sigma, \\delta, Q_0, F)$, where\n",
    "\n",
    "1. $Q$ is a finite set called the **states**,\n",
    "2. $\\Sigma$ is a finite set called the **alphabet** (which does not include $\\varepsilon$),\n",
    "3. $\\delta: Q \\times \\Sigma_{\\varepsilon} \\rightarrow \\mathcal{P}(Q)$ is the **transition function** ($\\Sigma_{\\varepsilon}$ is short for $\\Sigma \\cup \\{\\varepsilon\\})$,\n",
    "4. $Q_0 \\subseteq Q$ is the **set of start states**, and\n",
    "5. $F \\subseteq Q$ is the **set of accept states** (or **final** states)."
   ]
  },
  {
   "cell_type": "markdown",
   "metadata": {
    "id": "dkSUGkfIHnQs"
   },
   "source": [
    "## Equivalence"
   ]
  },
  {
   "cell_type": "markdown",
   "metadata": {
    "id": "-t-l3eTmHpui"
   },
   "source": [
    "NFA can be converted into DFA because they both represent regular languages, which can be represented by regular expressions, which can be converted to and from NFA."
   ]
  },
  {
   "cell_type": "markdown",
   "metadata": {
    "id": "DmHuN66WOdaA"
   },
   "source": [
    "### Formal Definition of RE (Regular Expressions)"
   ]
  },
  {
   "cell_type": "markdown",
   "metadata": {
    "id": "cidN1LJaOjIg"
   },
   "source": [
    "$R$ is a **regular expression** (an **RE** for short) if $R$ is any of\n",
    "\n",
    "\n",
    "* {} (the empty set $\\emptyset$) \n",
    "* {''} (the set containing the empty string $\\{\\varepsilon\\}$)\n",
    "* $\\{a\\}$ for some $a \\in \\Sigma$\n",
    "* $R_1 \\cup R_2$ where $R_1$ and $R_2$ are **RE**s \n",
    "* $R_1 \\circ R_2$ where $R_1$ and $R_2$ are **RE**s \n",
    "* $R^*$ where $R$ is an **RE**\n",
    "\n",
    "Some shorthand:\n",
    "\n",
    "* $a \\equiv \\{a\\}$\n",
    "* $\\varepsilon \\equiv \\{\\varepsilon\\}$\n",
    "* $R^+ \\equiv R \\circ R^*$\n",
    "* $R^* \\equiv R^+ \\cup \\varepsilon$\n",
    "* $R^k \\equiv R \\circ R \\circ R \\circ \\cdots \\circ R$ ($k$ times)\n",
    "\n",
    "Note: $R \\circ R$ is usually written without the $\\circ$ (concatenation operator), i.e., $RR$.\n",
    "\n",
    "In this regard, $\\circ$ is analogous to the multiplication operator.\n"
   ]
  },
  {
   "cell_type": "markdown",
   "metadata": {
    "id": "WNX6DyrNRsbH"
   },
   "source": [
    "## Question to Answer\n",
    "In what other way(s) is $\\circ$ analogous to the multiplication operator?"
   ]
  },
  {
   "cell_type": "markdown",
   "metadata": {
    "id": "vQFYWsd9R5MU"
   },
   "source": [
    "Exponentiation of strings and languages can also be fulfilled by concatenation.? I don't really understand what this question is asking."
   ]
  },
  {
   "cell_type": "markdown",
   "metadata": {
    "id": "mT0DF_CyHvxm"
   },
   "source": [
    "## Easy to Design"
   ]
  },
  {
   "cell_type": "code",
   "execution_count": 2,
   "metadata": {
    "id": "RS2nA43UHu8X"
   },
   "outputs": [
    {
     "data": {
      "image/svg+xml": [
       "<?xml version=\"1.0\" encoding=\"UTF-8\" standalone=\"no\"?>\n",
       "<!DOCTYPE svg PUBLIC \"-//W3C//DTD SVG 1.1//EN\"\n",
       " \"http://www.w3.org/Graphics/SVG/1.1/DTD/svg11.dtd\">\n",
       "<!-- Generated by graphviz version 2.46.0 (0)\n",
       " -->\n",
       "<!-- Pages: 1 -->\n",
       "<svg width=\"573pt\" height=\"147pt\"\n",
       " viewBox=\"0.00 0.00 573.48 147.30\" xmlns=\"http://www.w3.org/2000/svg\" xmlns:xlink=\"http://www.w3.org/1999/xlink\">\n",
       "<g id=\"graph0\" class=\"graph\" transform=\"scale(1 1) rotate(0) translate(4 143.3)\">\n",
       "<polygon fill=\"white\" stroke=\"transparent\" points=\"-4,4 -4,-143.3 569.48,-143.3 569.48,4 -4,4\"/>\n",
       "<!-- EMPTY -->\n",
       "<g id=\"node1\" class=\"node\">\n",
       "<title>EMPTY</title>\n",
       "</g>\n",
       "<!-- St7 -->\n",
       "<g id=\"node5\" class=\"node\">\n",
       "<title>St7</title>\n",
       "<ellipse fill=\"none\" stroke=\"black\" cx=\"117.65\" cy=\"-74.65\" rx=\"26.8\" ry=\"26.8\"/>\n",
       "<text text-anchor=\"middle\" x=\"117.65\" y=\"-70.95\" font-family=\"Times,serif\" font-size=\"14.00\">St7</text>\n",
       "</g>\n",
       "<!-- EMPTY&#45;&gt;St7 -->\n",
       "<g id=\"edge1\" class=\"edge\">\n",
       "<title>EMPTY&#45;&gt;St7</title>\n",
       "<path fill=\"none\" stroke=\"black\" d=\"M54.12,-74.65C62.41,-74.65 71.74,-74.65 80.61,-74.65\"/>\n",
       "<polygon fill=\"black\" stroke=\"black\" points=\"80.72,-78.15 90.72,-74.65 80.72,-71.15 80.72,-78.15\"/>\n",
       "</g>\n",
       "<!-- St5 -->\n",
       "<g id=\"node2\" class=\"node\">\n",
       "<title>St5</title>\n",
       "<ellipse fill=\"none\" stroke=\"black\" cx=\"220.94\" cy=\"-26.65\" rx=\"26.8\" ry=\"26.8\"/>\n",
       "<text text-anchor=\"middle\" x=\"220.94\" y=\"-22.95\" font-family=\"Times,serif\" font-size=\"14.00\">St5</text>\n",
       "</g>\n",
       "<!-- St5&#45;&gt;St5 -->\n",
       "<g id=\"edge5\" class=\"edge\">\n",
       "<title>St5&#45;&gt;St5</title>\n",
       "<path fill=\"none\" stroke=\"black\" d=\"M211.65,-51.89C211.01,-62.39 214.11,-71.3 220.94,-71.3 225.32,-71.3 228.17,-67.64 229.48,-62.26\"/>\n",
       "<polygon fill=\"black\" stroke=\"black\" points=\"233,-62.12 230.24,-51.89 226.02,-61.61 233,-62.12\"/>\n",
       "<text text-anchor=\"middle\" x=\"220.94\" y=\"-75.1\" font-family=\"Times,serif\" font-size=\"14.00\">0 </text>\n",
       "</g>\n",
       "<!-- St6 -->\n",
       "<g id=\"node3\" class=\"node\">\n",
       "<title>St6</title>\n",
       "<ellipse fill=\"none\" stroke=\"black\" cx=\"324.24\" cy=\"-86.65\" rx=\"26.8\" ry=\"26.8\"/>\n",
       "<text text-anchor=\"middle\" x=\"324.24\" y=\"-82.95\" font-family=\"Times,serif\" font-size=\"14.00\">St6</text>\n",
       "</g>\n",
       "<!-- St5&#45;&gt;St6 -->\n",
       "<g id=\"edge4\" class=\"edge\">\n",
       "<title>St5&#45;&gt;St6</title>\n",
       "<path fill=\"none\" stroke=\"black\" d=\"M244.17,-39.81C258.19,-48.12 276.51,-58.97 291.98,-68.13\"/>\n",
       "<polygon fill=\"black\" stroke=\"black\" points=\"290.32,-71.22 300.71,-73.3 293.89,-65.2 290.32,-71.22\"/>\n",
       "<text text-anchor=\"middle\" x=\"272.59\" y=\"-63.45\" font-family=\"Times,serif\" font-size=\"14.00\">1 </text>\n",
       "</g>\n",
       "<!-- St4 -->\n",
       "<g id=\"node4\" class=\"node\">\n",
       "<title>St4</title>\n",
       "<ellipse fill=\"none\" stroke=\"black\" cx=\"427.53\" cy=\"-42.65\" rx=\"26.8\" ry=\"26.8\"/>\n",
       "<text text-anchor=\"middle\" x=\"427.53\" y=\"-38.95\" font-family=\"Times,serif\" font-size=\"14.00\">St4</text>\n",
       "</g>\n",
       "<!-- St6&#45;&gt;St4 -->\n",
       "<g id=\"edge7\" class=\"edge\">\n",
       "<title>St6&#45;&gt;St4</title>\n",
       "<path fill=\"none\" stroke=\"black\" d=\"M348.99,-76.33C362.32,-70.54 379.16,-63.22 393.74,-56.89\"/>\n",
       "<polygon fill=\"black\" stroke=\"black\" points=\"395.16,-60.09 402.93,-52.9 392.37,-53.67 395.16,-60.09\"/>\n",
       "<text text-anchor=\"middle\" x=\"375.89\" y=\"-70.45\" font-family=\"Times,serif\" font-size=\"14.00\">0 </text>\n",
       "</g>\n",
       "<!-- St6&#45;&gt;St7 -->\n",
       "<g id=\"edge6\" class=\"edge\">\n",
       "<title>St6&#45;&gt;St7</title>\n",
       "<path fill=\"none\" stroke=\"black\" d=\"M297.94,-91.46C271.86,-95.71 230.09,-100.52 194.3,-95.65 180.55,-93.77 165.77,-90.07 152.96,-86.29\"/>\n",
       "<polygon fill=\"black\" stroke=\"black\" points=\"153.75,-82.87 143.17,-83.27 151.69,-89.56 153.75,-82.87\"/>\n",
       "<text text-anchor=\"middle\" x=\"220.94\" y=\"-101.45\" font-family=\"Times,serif\" font-size=\"14.00\">1 </text>\n",
       "</g>\n",
       "<!-- St4&#45;&gt;St5 -->\n",
       "<g id=\"edge9\" class=\"edge\">\n",
       "<title>St4&#45;&gt;St5</title>\n",
       "<path fill=\"none\" stroke=\"black\" d=\"M400.98,-40.14C386.33,-38.74 367.58,-37 350.89,-35.65 319.43,-33.1 283.63,-30.63 257.74,-28.93\"/>\n",
       "<polygon fill=\"black\" stroke=\"black\" points=\"257.85,-25.43 247.64,-28.27 257.39,-32.41 257.85,-25.43\"/>\n",
       "<text text-anchor=\"middle\" x=\"324.24\" y=\"-39.45\" font-family=\"Times,serif\" font-size=\"14.00\">0 </text>\n",
       "</g>\n",
       "<!-- St1 -->\n",
       "<g id=\"node6\" class=\"node\">\n",
       "<title>St1</title>\n",
       "<ellipse fill=\"none\" stroke=\"black\" cx=\"534.83\" cy=\"-42.65\" rx=\"26.78\" ry=\"26.78\"/>\n",
       "<ellipse fill=\"none\" stroke=\"black\" cx=\"534.83\" cy=\"-42.65\" rx=\"30.8\" ry=\"30.8\"/>\n",
       "<text text-anchor=\"middle\" x=\"534.83\" y=\"-38.95\" font-family=\"Times,serif\" font-size=\"14.00\">St1</text>\n",
       "</g>\n",
       "<!-- St4&#45;&gt;St1 -->\n",
       "<g id=\"edge8\" class=\"edge\">\n",
       "<title>St4&#45;&gt;St1</title>\n",
       "<path fill=\"none\" stroke=\"black\" d=\"M454.29,-42.65C466.11,-42.65 480.4,-42.65 493.59,-42.65\"/>\n",
       "<polygon fill=\"black\" stroke=\"black\" points=\"493.86,-46.15 503.86,-42.65 493.86,-39.15 493.86,-46.15\"/>\n",
       "<text text-anchor=\"middle\" x=\"479.18\" y=\"-46.45\" font-family=\"Times,serif\" font-size=\"14.00\">1 </text>\n",
       "</g>\n",
       "<!-- St7&#45;&gt;St5 -->\n",
       "<g id=\"edge3\" class=\"edge\">\n",
       "<title>St7&#45;&gt;St5</title>\n",
       "<path fill=\"none\" stroke=\"black\" d=\"M142.14,-63.51C155.57,-57.15 172.6,-49.08 187.31,-42.11\"/>\n",
       "<polygon fill=\"black\" stroke=\"black\" points=\"189.04,-45.17 196.58,-37.72 186.04,-38.84 189.04,-45.17\"/>\n",
       "<text text-anchor=\"middle\" x=\"169.3\" y=\"-57.45\" font-family=\"Times,serif\" font-size=\"14.00\">0 </text>\n",
       "</g>\n",
       "<!-- St7&#45;&gt;St7 -->\n",
       "<g id=\"edge2\" class=\"edge\">\n",
       "<title>St7&#45;&gt;St7</title>\n",
       "<path fill=\"none\" stroke=\"black\" d=\"M109.45,-100.34C108.98,-110.65 111.72,-119.3 117.65,-119.3 121.45,-119.3 123.93,-115.75 125.11,-110.48\"/>\n",
       "<polygon fill=\"black\" stroke=\"black\" points=\"128.61,-110.57 125.85,-100.34 121.63,-110.06 128.61,-110.57\"/>\n",
       "<text text-anchor=\"middle\" x=\"117.65\" y=\"-123.1\" font-family=\"Times,serif\" font-size=\"14.00\">1 </text>\n",
       "</g>\n",
       "<!-- St1&#45;&gt;St1 -->\n",
       "<g id=\"edge10\" class=\"edge\">\n",
       "<title>St1&#45;&gt;St1</title>\n",
       "<path fill=\"none\" stroke=\"black\" d=\"M529.77,-73.05C529.77,-83.19 531.45,-91.3 534.83,-91.3 536.94,-91.3 538.39,-88.13 539.18,-83.28\"/>\n",
       "<polygon fill=\"black\" stroke=\"black\" points=\"542.69,-83.27 539.89,-73.05 535.71,-82.79 542.69,-83.27\"/>\n",
       "<text text-anchor=\"middle\" x=\"534.83\" y=\"-95.1\" font-family=\"Times,serif\" font-size=\"14.00\">1 </text>\n",
       "</g>\n",
       "<!-- St1&#45;&gt;St1 -->\n",
       "<g id=\"edge11\" class=\"edge\">\n",
       "<title>St1&#45;&gt;St1</title>\n",
       "<path fill=\"none\" stroke=\"black\" d=\"M525.5,-72.11C523.07,-91.06 526.18,-109.3 534.83,-109.3 541.92,-109.3 545.29,-97.02 544.93,-82.16\"/>\n",
       "<polygon fill=\"black\" stroke=\"black\" points=\"548.41,-81.81 544.15,-72.11 541.43,-82.35 548.41,-81.81\"/>\n",
       "<text text-anchor=\"middle\" x=\"534.83\" y=\"-113.1\" font-family=\"Times,serif\" font-size=\"14.00\">0 </text>\n",
       "</g>\n",
       "</g>\n",
       "</svg>\n"
      ],
      "text/plain": [
       "<graphviz.dot.Digraph at 0x7fe9ac082f40>"
      ]
     },
     "execution_count": 2,
     "metadata": {},
     "output_type": "execute_result"
    }
   ],
   "source": [
    "nfa1 = '''\n",
    "NFA\n",
    "I    : 0|1 -> I\n",
    "I    : 0   -> S0\n",
    "S0   : 1   -> S01\n",
    "S01  : 0   -> S010\n",
    "S010 : 1   -> F\n",
    "F    : 0|1 -> F\n",
    "'''\n",
    "mc = md2mc(nfa1)\n",
    "dfa = min_dfa(nfa2dfa(mc))\n",
    "# try mc also changing dotObj_dfa to dotObj_nfa\n",
    "dotObj_dfa(dfa)"
   ]
  },
  {
   "cell_type": "markdown",
   "metadata": {
    "id": "adFHIInPH4Xz"
   },
   "source": [
    "A good name for ```nfa1``` is"
   ]
  },
  {
   "cell_type": "code",
   "execution_count": null,
   "metadata": {
    "id": "lWH9adn8H_9q"
   },
   "outputs": [],
   "source": [
    "name1 = 'dfa01Plus01*1'  #@param {type: \"string\"}"
   ]
  },
  {
   "cell_type": "markdown",
   "metadata": {
    "id": "NjlkkLAEI3e6"
   },
   "source": [
    "An RE for the language of ```nfa1``` is"
   ]
  },
  {
   "cell_type": "code",
   "execution_count": null,
   "metadata": {
    "id": "UVFNPQHaJD43"
   },
   "outputs": [],
   "source": [
    "re1 = '01 + 01*1'  #@param {type: \"string\"}"
   ]
  },
  {
   "cell_type": "code",
   "execution_count": 3,
   "metadata": {
    "id": "NIu7P0yIJGEF"
   },
   "outputs": [
    {
     "data": {
      "image/svg+xml": [
       "<?xml version=\"1.0\" encoding=\"UTF-8\" standalone=\"no\"?>\n",
       "<!DOCTYPE svg PUBLIC \"-//W3C//DTD SVG 1.1//EN\"\n",
       " \"http://www.w3.org/Graphics/SVG/1.1/DTD/svg11.dtd\">\n",
       "<!-- Generated by graphviz version 2.46.0 (0)\n",
       " -->\n",
       "<!-- Pages: 1 -->\n",
       "<svg width=\"333pt\" height=\"123pt\"\n",
       " viewBox=\"0.00 0.00 332.69 122.90\" xmlns=\"http://www.w3.org/2000/svg\" xmlns:xlink=\"http://www.w3.org/1999/xlink\">\n",
       "<g id=\"graph0\" class=\"graph\" transform=\"scale(1 1) rotate(0) translate(4 118.9)\">\n",
       "<polygon fill=\"white\" stroke=\"transparent\" points=\"-4,4 -4,-118.9 328.69,-118.9 328.69,4 -4,4\"/>\n",
       "<!-- EMPTY -->\n",
       "<g id=\"node1\" class=\"node\">\n",
       "<title>EMPTY</title>\n",
       "</g>\n",
       "<!-- IA -->\n",
       "<g id=\"node2\" class=\"node\">\n",
       "<title>IA</title>\n",
       "<ellipse fill=\"none\" stroke=\"black\" cx=\"111.8\" cy=\"-61.1\" rx=\"20.6\" ry=\"20.6\"/>\n",
       "<text text-anchor=\"middle\" x=\"111.8\" y=\"-57.4\" font-family=\"Times,serif\" font-size=\"14.00\">IA</text>\n",
       "</g>\n",
       "<!-- EMPTY&#45;&gt;IA -->\n",
       "<g id=\"edge1\" class=\"edge\">\n",
       "<title>EMPTY&#45;&gt;IA</title>\n",
       "<path fill=\"none\" stroke=\"black\" d=\"M54.2,-61.1C62.62,-61.1 72.01,-61.1 80.69,-61.1\"/>\n",
       "<polygon fill=\"black\" stroke=\"black\" points=\"80.81,-64.6 90.81,-61.1 80.81,-57.6 80.81,-64.6\"/>\n",
       "</g>\n",
       "<!-- IA&#45;&gt;IA -->\n",
       "<g id=\"edge2\" class=\"edge\">\n",
       "<title>IA&#45;&gt;IA</title>\n",
       "<path fill=\"none\" stroke=\"black\" d=\"M104.88,-81.07C103.93,-91.02 106.23,-99.9 111.8,-99.9 115.28,-99.9 117.48,-96.43 118.41,-91.4\"/>\n",
       "<polygon fill=\"black\" stroke=\"black\" points=\"121.92,-91.16 118.71,-81.07 114.92,-90.96 121.92,-91.16\"/>\n",
       "<text text-anchor=\"middle\" x=\"111.8\" y=\"-103.7\" font-family=\"Times,serif\" font-size=\"14.00\">a </text>\n",
       "</g>\n",
       "<!-- B -->\n",
       "<g id=\"node3\" class=\"node\">\n",
       "<title>B</title>\n",
       "<ellipse fill=\"none\" stroke=\"black\" cx=\"306.69\" cy=\"-58.1\" rx=\"18\" ry=\"18\"/>\n",
       "<text text-anchor=\"middle\" x=\"306.69\" y=\"-54.4\" font-family=\"Times,serif\" font-size=\"14.00\">B</text>\n",
       "</g>\n",
       "<!-- IA&#45;&gt;B -->\n",
       "<g id=\"edge3\" class=\"edge\">\n",
       "<title>IA&#45;&gt;B</title>\n",
       "<path fill=\"none\" stroke=\"black\" d=\"M129.76,-72.09C143.41,-80.24 163.42,-90.68 182.6,-95.1 206.89,-100.7 214.55,-101.33 238.69,-95.1 254.74,-90.97 271.06,-82.08 283.57,-74.05\"/>\n",
       "<polygon fill=\"black\" stroke=\"black\" points=\"285.59,-76.91 291.95,-68.44 281.69,-71.09 285.59,-76.91\"/>\n",
       "<text text-anchor=\"middle\" x=\"210.64\" y=\"-102.9\" font-family=\"Times,serif\" font-size=\"14.00\">a </text>\n",
       "</g>\n",
       "<!-- FC -->\n",
       "<g id=\"node4\" class=\"node\">\n",
       "<title>FC</title>\n",
       "<ellipse fill=\"none\" stroke=\"black\" cx=\"210.64\" cy=\"-58.1\" rx=\"24.09\" ry=\"24.09\"/>\n",
       "<ellipse fill=\"none\" stroke=\"black\" cx=\"210.64\" cy=\"-58.1\" rx=\"28.1\" ry=\"28.1\"/>\n",
       "<text text-anchor=\"middle\" x=\"210.64\" y=\"-54.4\" font-family=\"Times,serif\" font-size=\"14.00\">FC</text>\n",
       "</g>\n",
       "<!-- IA&#45;&gt;FC -->\n",
       "<g id=\"edge4\" class=\"edge\">\n",
       "<title>IA&#45;&gt;FC</title>\n",
       "<path fill=\"none\" stroke=\"black\" d=\"M132.86,-60.48C144.14,-60.13 158.59,-59.68 171.91,-59.27\"/>\n",
       "<polygon fill=\"black\" stroke=\"black\" points=\"172.37,-62.76 182.26,-58.95 172.15,-55.76 172.37,-62.76\"/>\n",
       "<text text-anchor=\"middle\" x=\"157.6\" y=\"-62.9\" font-family=\"Times,serif\" font-size=\"14.00\">b </text>\n",
       "</g>\n",
       "<!-- B&#45;&gt;IA -->\n",
       "<g id=\"edge5\" class=\"edge\">\n",
       "<title>B&#45;&gt;IA</title>\n",
       "<path fill=\"none\" stroke=\"black\" d=\"M293.9,-44.87C281.58,-32.14 260.98,-13.74 238.69,-6.1 215.11,1.98 206.15,2.06 182.6,-6.1 163.89,-12.59 146.39,-26.4 133.6,-38.56\"/>\n",
       "<polygon fill=\"black\" stroke=\"black\" points=\"130.9,-36.3 126.27,-45.83 135.83,-41.27 130.9,-36.3\"/>\n",
       "<text text-anchor=\"middle\" x=\"210.64\" y=\"-9.9\" font-family=\"Times,serif\" font-size=\"14.00\">a </text>\n",
       "</g>\n",
       "<!-- B&#45;&gt;B -->\n",
       "<g id=\"edge6\" class=\"edge\">\n",
       "<title>B&#45;&gt;B</title>\n",
       "<path fill=\"none\" stroke=\"black\" d=\"M299.31,-74.77C297.67,-84.73 300.13,-94.1 306.69,-94.1 310.9,-94.1 313.42,-90.26 314.25,-84.87\"/>\n",
       "<polygon fill=\"black\" stroke=\"black\" points=\"317.75,-84.7 314.07,-74.77 310.75,-84.83 317.75,-84.7\"/>\n",
       "<text text-anchor=\"middle\" x=\"306.69\" y=\"-97.9\" font-family=\"Times,serif\" font-size=\"14.00\">b </text>\n",
       "</g>\n",
       "<!-- FC&#45;&gt;IA -->\n",
       "<g id=\"edge7\" class=\"edge\">\n",
       "<title>FC&#45;&gt;IA</title>\n",
       "<path fill=\"none\" stroke=\"black\" d=\"M185.93,-44.68C175.2,-40.22 162.32,-37.06 150.6,-40.1 146.43,-41.18 142.23,-42.83 138.22,-44.75\"/>\n",
       "<polygon fill=\"black\" stroke=\"black\" points=\"136.48,-41.71 129.33,-49.53 139.79,-47.87 136.48,-41.71\"/>\n",
       "<text text-anchor=\"middle\" x=\"157.6\" y=\"-43.9\" font-family=\"Times,serif\" font-size=\"14.00\">b </text>\n",
       "</g>\n",
       "<!-- FC&#45;&gt;B -->\n",
       "<g id=\"edge8\" class=\"edge\">\n",
       "<title>FC&#45;&gt;B</title>\n",
       "<path fill=\"none\" stroke=\"black\" d=\"M238.85,-58.1C251.27,-58.1 265.94,-58.1 278.38,-58.1\"/>\n",
       "<polygon fill=\"black\" stroke=\"black\" points=\"278.61,-61.6 288.61,-58.1 278.61,-54.6 278.61,-61.6\"/>\n",
       "<text text-anchor=\"middle\" x=\"263.69\" y=\"-61.9\" font-family=\"Times,serif\" font-size=\"14.00\">b </text>\n",
       "</g>\n",
       "</g>\n",
       "</svg>\n"
      ],
      "text/plain": [
       "<graphviz.dot.Digraph at 0x7fe9ac082430>"
      ]
     },
     "execution_count": 3,
     "metadata": {},
     "output_type": "execute_result"
    }
   ],
   "source": [
    "nfa2 = md2mc('''NFA    \n",
    "IA : a -> IA          \n",
    "IA : a -> B           \n",
    "IA : b -> FC          \n",
    "B  : a -> IA          \n",
    "B  : b -> B           \n",
    "FC : b -> IA          \n",
    "FC : b -> B           \n",
    "''')                  \n",
    "dotObj_nfa(nfa2)"
   ]
  },
  {
   "cell_type": "markdown",
   "metadata": {
    "id": "HcQMri35JeME"
   },
   "source": [
    "A good name for ```nfa2``` is\n"
   ]
  },
  {
   "cell_type": "code",
   "execution_count": null,
   "metadata": {
    "id": "smSd9cVyJeMF"
   },
   "outputs": [],
   "source": [
    "name2 = 'nfa_a*b*b'  #@param {type: \"string\"}"
   ]
  },
  {
   "cell_type": "markdown",
   "metadata": {
    "id": "GX2KAjhTJeMF"
   },
   "source": [
    "An RE for the language of ```nfa2``` is"
   ]
  },
  {
   "cell_type": "code",
   "execution_count": null,
   "metadata": {
    "id": "CK3WXl8nJeMF"
   },
   "outputs": [],
   "source": [
    "re2 = 'a*b*b'  #@param {type: \"string\"}"
   ]
  },
  {
   "cell_type": "code",
   "execution_count": 4,
   "metadata": {
    "id": "zdSBHplOJrdO"
   },
   "outputs": [
    {
     "data": {
      "image/svg+xml": [
       "<?xml version=\"1.0\" encoding=\"UTF-8\" standalone=\"no\"?>\n",
       "<!DOCTYPE svg PUBLIC \"-//W3C//DTD SVG 1.1//EN\"\n",
       " \"http://www.w3.org/Graphics/SVG/1.1/DTD/svg11.dtd\">\n",
       "<!-- Generated by graphviz version 2.46.0 (0)\n",
       " -->\n",
       "<!-- Pages: 1 -->\n",
       "<svg width=\"489pt\" height=\"144pt\"\n",
       " viewBox=\"0.00 0.00 488.58 143.94\" xmlns=\"http://www.w3.org/2000/svg\" xmlns:xlink=\"http://www.w3.org/1999/xlink\">\n",
       "<g id=\"graph0\" class=\"graph\" transform=\"scale(1 1) rotate(0) translate(4 139.94)\">\n",
       "<polygon fill=\"white\" stroke=\"transparent\" points=\"-4,4 -4,-139.94 484.58,-139.94 484.58,4 -4,4\"/>\n",
       "<!-- EMPTY -->\n",
       "<g id=\"node1\" class=\"node\">\n",
       "<title>EMPTY</title>\n",
       "</g>\n",
       "<!-- IA -->\n",
       "<g id=\"node3\" class=\"node\">\n",
       "<title>IA</title>\n",
       "<ellipse fill=\"none\" stroke=\"black\" cx=\"111.8\" cy=\"-62.1\" rx=\"20.6\" ry=\"20.6\"/>\n",
       "<text text-anchor=\"middle\" x=\"111.8\" y=\"-58.4\" font-family=\"Times,serif\" font-size=\"14.00\">IA</text>\n",
       "</g>\n",
       "<!-- EMPTY&#45;&gt;IA -->\n",
       "<g id=\"edge1\" class=\"edge\">\n",
       "<title>EMPTY&#45;&gt;IA</title>\n",
       "<path fill=\"none\" stroke=\"black\" d=\"M54.2,-62.1C62.62,-62.1 72.01,-62.1 80.69,-62.1\"/>\n",
       "<polygon fill=\"black\" stroke=\"black\" points=\"80.81,-65.6 90.81,-62.1 80.81,-58.6 80.81,-65.6\"/>\n",
       "</g>\n",
       "<!-- B_IA -->\n",
       "<g id=\"node2\" class=\"node\">\n",
       "<title>B_IA</title>\n",
       "<ellipse fill=\"none\" stroke=\"black\" cx=\"320.54\" cy=\"-71.1\" rx=\"31.7\" ry=\"31.7\"/>\n",
       "<text text-anchor=\"middle\" x=\"320.54\" y=\"-67.4\" font-family=\"Times,serif\" font-size=\"14.00\">B_IA</text>\n",
       "</g>\n",
       "<!-- B_IA&#45;&gt;B_IA -->\n",
       "<g id=\"edge4\" class=\"edge\">\n",
       "<title>B_IA&#45;&gt;B_IA</title>\n",
       "<path fill=\"none\" stroke=\"black\" d=\"M310.05,-101.27C309.82,-112.11 313.32,-120.94 320.54,-120.94 325.28,-120.94 328.41,-117.14 329.94,-111.46\"/>\n",
       "<polygon fill=\"black\" stroke=\"black\" points=\"333.45,-111.59 331.03,-101.27 326.49,-110.84 333.45,-111.59\"/>\n",
       "<text text-anchor=\"middle\" x=\"320.54\" y=\"-124.74\" font-family=\"Times,serif\" font-size=\"14.00\">a </text>\n",
       "</g>\n",
       "<!-- B_FC -->\n",
       "<g id=\"node5\" class=\"node\">\n",
       "<title>B_FC</title>\n",
       "<ellipse fill=\"none\" stroke=\"black\" cx=\"441.48\" cy=\"-39.1\" rx=\"35.18\" ry=\"35.18\"/>\n",
       "<ellipse fill=\"none\" stroke=\"black\" cx=\"441.48\" cy=\"-39.1\" rx=\"39.19\" ry=\"39.19\"/>\n",
       "<text text-anchor=\"middle\" x=\"441.48\" y=\"-35.4\" font-family=\"Times,serif\" font-size=\"14.00\">B_FC</text>\n",
       "</g>\n",
       "<!-- B_IA&#45;&gt;B_FC -->\n",
       "<g id=\"edge5\" class=\"edge\">\n",
       "<title>B_IA&#45;&gt;B_FC</title>\n",
       "<path fill=\"none\" stroke=\"black\" d=\"M351.63,-63.62C362.03,-60.99 373.73,-57.97 384.39,-55.1 387.52,-54.25 390.74,-53.37 393.98,-52.47\"/>\n",
       "<polygon fill=\"black\" stroke=\"black\" points=\"395.02,-55.81 403.71,-49.75 393.14,-49.07 395.02,-55.81\"/>\n",
       "<text text-anchor=\"middle\" x=\"377.39\" y=\"-62.9\" font-family=\"Times,serif\" font-size=\"14.00\">b </text>\n",
       "</g>\n",
       "<!-- IA&#45;&gt;B_IA -->\n",
       "<g id=\"edge2\" class=\"edge\">\n",
       "<title>IA&#45;&gt;B_IA</title>\n",
       "<path fill=\"none\" stroke=\"black\" d=\"M129.34,-73.86C142.92,-82.75 163.03,-94.23 182.6,-99.1 215.84,-107.36 254.06,-98 281.66,-87.93\"/>\n",
       "<polygon fill=\"black\" stroke=\"black\" points=\"283.24,-91.08 291.32,-84.23 280.73,-84.54 283.24,-91.08\"/>\n",
       "<text text-anchor=\"middle\" x=\"210.64\" y=\"-105.9\" font-family=\"Times,serif\" font-size=\"14.00\">a </text>\n",
       "</g>\n",
       "<!-- FC -->\n",
       "<g id=\"node4\" class=\"node\">\n",
       "<title>FC</title>\n",
       "<ellipse fill=\"none\" stroke=\"black\" cx=\"210.64\" cy=\"-62.1\" rx=\"24.09\" ry=\"24.09\"/>\n",
       "<ellipse fill=\"none\" stroke=\"black\" cx=\"210.64\" cy=\"-62.1\" rx=\"28.1\" ry=\"28.1\"/>\n",
       "<text text-anchor=\"middle\" x=\"210.64\" y=\"-58.4\" font-family=\"Times,serif\" font-size=\"14.00\">FC</text>\n",
       "</g>\n",
       "<!-- IA&#45;&gt;FC -->\n",
       "<g id=\"edge3\" class=\"edge\">\n",
       "<title>IA&#45;&gt;FC</title>\n",
       "<path fill=\"none\" stroke=\"black\" d=\"M132.86,-62.1C144.14,-62.1 158.59,-62.1 171.91,-62.1\"/>\n",
       "<polygon fill=\"black\" stroke=\"black\" points=\"172.26,-65.6 182.26,-62.1 172.26,-58.6 172.26,-65.6\"/>\n",
       "<text text-anchor=\"middle\" x=\"157.6\" y=\"-65.9\" font-family=\"Times,serif\" font-size=\"14.00\">b </text>\n",
       "</g>\n",
       "<!-- FC&#45;&gt;B_IA -->\n",
       "<g id=\"edge6\" class=\"edge\">\n",
       "<title>FC&#45;&gt;B_IA</title>\n",
       "<path fill=\"none\" stroke=\"black\" d=\"M238.87,-64.37C250.79,-65.36 265.04,-66.55 278.22,-67.65\"/>\n",
       "<polygon fill=\"black\" stroke=\"black\" points=\"278.25,-71.16 288.5,-68.51 278.83,-64.19 278.25,-71.16\"/>\n",
       "<text text-anchor=\"middle\" x=\"263.69\" y=\"-69.9\" font-family=\"Times,serif\" font-size=\"14.00\">b </text>\n",
       "</g>\n",
       "<!-- B_FC&#45;&gt;B_IA -->\n",
       "<g id=\"edge8\" class=\"edge\">\n",
       "<title>B_FC&#45;&gt;B_IA</title>\n",
       "<path fill=\"none\" stroke=\"black\" d=\"M402.73,-32.68C392.06,-32.15 380.59,-32.82 370.39,-36.1 364.39,-38.02 358.5,-40.99 353.01,-44.39\"/>\n",
       "<polygon fill=\"black\" stroke=\"black\" points=\"351.04,-41.5 344.74,-50.02 354.98,-47.29 351.04,-41.5\"/>\n",
       "<text text-anchor=\"middle\" x=\"377.39\" y=\"-39.9\" font-family=\"Times,serif\" font-size=\"14.00\">b </text>\n",
       "</g>\n",
       "<!-- B_FC&#45;&gt;IA -->\n",
       "<g id=\"edge7\" class=\"edge\">\n",
       "<title>B_FC&#45;&gt;IA</title>\n",
       "<path fill=\"none\" stroke=\"black\" d=\"M403.11,-30.27C352.35,-19.81 259.18,-6.05 182.6,-25.1 166.85,-29.01 150.76,-37.21 137.99,-44.89\"/>\n",
       "<polygon fill=\"black\" stroke=\"black\" points=\"135.95,-42.05 129.34,-50.33 139.67,-47.97 135.95,-42.05\"/>\n",
       "<text text-anchor=\"middle\" x=\"263.69\" y=\"-19.9\" font-family=\"Times,serif\" font-size=\"14.00\">a </text>\n",
       "</g>\n",
       "</g>\n",
       "</svg>\n"
      ],
      "text/plain": [
       "<graphviz.dot.Digraph at 0x7fe9ae211310>"
      ]
     },
     "execution_count": 4,
     "metadata": {},
     "output_type": "execute_result"
    }
   ],
   "source": [
    "nfa3 = md2mc('''NFA              \n",
    "IA : a -> IA                    \n",
    "IA : a -> B                     \n",
    "IA : b -> FC                    \n",
    "B  : a -> IA                    \n",
    "B  : b -> B                     \n",
    "FC : b -> IA                    \n",
    "FC : b -> B                     \n",
    "''')                            \n",
    "                                \n",
    "dfa = nfa2dfa(totalize_nfa(nfa3))\n",
    "dotObj_dfa(dfa)"
   ]
  },
  {
   "cell_type": "markdown",
   "metadata": {
    "id": "TdFlRj46Kebu"
   },
   "source": [
    "A good name for ```nfa3``` is\n"
   ]
  },
  {
   "cell_type": "code",
   "execution_count": null,
   "metadata": {
    "id": "E42eZH56Kebu"
   },
   "outputs": [],
   "source": [
    "name3 = 'nfa_a*b*'  #@param {type: \"string\"}"
   ]
  },
  {
   "cell_type": "markdown",
   "metadata": {
    "id": "Nh3L-a0UKebv"
   },
   "source": [
    "An RE for the language of ```nfa3``` is"
   ]
  },
  {
   "cell_type": "code",
   "execution_count": null,
   "metadata": {
    "id": "G3an2JpsKebv"
   },
   "outputs": [],
   "source": [
    "re3 = ''  #@param {type: \"string\"}"
   ]
  },
  {
   "cell_type": "code",
   "execution_count": null,
   "metadata": {
    "id": "nHsYxEhfKuTt"
   },
   "outputs": [],
   "source": [
    "nfa4 = md2mc('''NFA    \n",
    "I : 0 -> A            \n",
    "A : '' -> F1          \n",
    "F1 : 0 -> F           \n",
    "F : '' -> I           \n",
    "''')                  \n",
    "                      \n",
    "dotObj_nfa(nfa4)"
   ]
  },
  {
   "cell_type": "markdown",
   "metadata": {
    "id": "pThRLjpFK3ac"
   },
   "source": [
    "A good name for ```nfa4``` is\n"
   ]
  },
  {
   "cell_type": "code",
   "execution_count": null,
   "metadata": {
    "id": "MaDIz34gK3ac"
   },
   "outputs": [],
   "source": [
    "name4 = ''  #@param {type: \"string\"}"
   ]
  },
  {
   "cell_type": "markdown",
   "metadata": {
    "id": "5pLQMGB6K3ac"
   },
   "source": [
    "An RE for the language of ```nfa4``` is"
   ]
  },
  {
   "cell_type": "code",
   "execution_count": null,
   "metadata": {
    "id": "CffzXbmeK3ac"
   },
   "outputs": [],
   "source": [
    "re4 = ''  #@param {type: \"string\"}"
   ]
  },
  {
   "cell_type": "markdown",
   "metadata": {
    "id": "mMO_bynFK6Wf"
   },
   "source": [
    "## Easy to Simulate"
   ]
  },
  {
   "cell_type": "markdown",
   "metadata": {
    "id": "2QwtfAW0K9DG"
   },
   "source": [
    "With code:"
   ]
  },
  {
   "cell_type": "code",
   "execution_count": null,
   "metadata": {
    "id": "AwlFOq4TLBJN"
   },
   "outputs": [],
   "source": [
    "nfa5 = md2mc('''NFA                                                 \n",
    "I    : 0|1 -> I                                                    \n",
    "I    : 0   -> S0                                                   \n",
    "S0   : 0|1   -> S01                                                \n",
    "S01  : 0|1   -> S010                                               \n",
    "S010 : 0|1   -> F                                                  \n",
    "''')                                                               \n",
    "                                                                   \n",
    "for i in range(200):                                               \n",
    "    into_the_depths = bin(i)[2:].zfill(5)                          \n",
    "    print(into_the_depths, ': ', accepts_nfa(nfa5, into_the_depths))"
   ]
  },
  {
   "cell_type": "markdown",
   "metadata": {
    "id": "fAPsLCFKLdas"
   },
   "source": [
    "With the Animation Panel:"
   ]
  }
 ],
 "metadata": {
  "colab": {
   "authorship_tag": "ABX9TyPG8xC1b+8aGXSEz1tn+9H5",
   "include_colab_link": true,
   "name": "06_1_Readiness_Assurance_Test.ipynb",
   "provenance": []
  },
  "kernelspec": {
   "display_name": "Python 3",
   "language": "python",
   "name": "python3"
  },
  "language_info": {
   "codemirror_mode": {
    "name": "ipython",
    "version": 3
   },
   "file_extension": ".py",
   "mimetype": "text/x-python",
   "name": "python",
   "nbconvert_exporter": "python",
   "pygments_lexer": "ipython3",
   "version": "3.9.1"
  }
 },
 "nbformat": 4,
 "nbformat_minor": 1
}
