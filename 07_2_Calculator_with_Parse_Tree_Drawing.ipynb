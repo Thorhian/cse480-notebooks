{
 "cells": [
  {
   "cell_type": "markdown",
   "metadata": {
    "colab_type": "text",
    "id": "view-in-github"
   },
   "source": [
    "<a href=\"https://colab.research.google.com/github/byui-cse/cse480-notebooks/blob/master/07_2_Calculator_with_Parse_Tree_Drawing.ipynb\" target=\"_parent\"><img src=\"https://colab.research.google.com/assets/colab-badge.svg\" alt=\"Open In Colab\"/></a>"
   ]
  },
  {
   "cell_type": "markdown",
   "metadata": {
    "id": "rWL5ElBILfn7"
   },
   "source": [
    "# Calculator with Parse Tree Drawing\n",
    "## Class Directed Learning\n",
    "### Due: Thursday, 18 February 2021, 11:59 pm"
   ]
  },
  {
   "cell_type": "markdown",
   "metadata": {
    "id": "rpO-5K7KZ1DR"
   },
   "source": [
    "## Imports first, then assignment"
   ]
  },
  {
   "cell_type": "code",
   "execution_count": 1,
   "metadata": {
    "id": "3aTAiJlvM-v_"
   },
   "outputs": [
    {
     "name": "stdout",
     "output_type": "stream",
     "text": [
      "You may use any of these help commands:\n",
      "help(ResetStNum)\n",
      "help(NxtStateStr)\n",
      "\n"
     ]
    }
   ],
   "source": [
    "#~~~~~~~~~~~~~~~~~~~~~~~~~~~~~~~~~~~~~~~~~~~~~~~~~~~~~~~\n",
    "import sys\n",
    "\n",
    "# -- Detect if in Own Install or in Colab\n",
    "try:\n",
    "    import google.colab\n",
    "    OWN_INSTALL = False\n",
    "except:\n",
    "    OWN_INSTALL = True\n",
    "    \n",
    "if OWN_INSTALL:\n",
    "\n",
    "  sys.path[0:0] = ['../../../../..',  '../../../../../3rdparty',  \n",
    "                   '../../../..',  '../../../../3rdparty',  \n",
    "                   '../../..',     '../../../3rdparty', \n",
    "                   '../..',        '../../3rdparty',\n",
    "                   '..',           '../3rdparty',\n",
    "                   '../Jove',      '../Jove/jove']\n",
    "\n",
    "else: # In colab\n",
    "  ! if [ ! -d Jove ]; then git clone https://github.com/ganeshutah/Jove Jove; fi\n",
    "  sys.path.append('./Jove')\n",
    "  sys.path.append('./Jove/jove')\n",
    "\n",
    "# -- common imports --\n",
    "from jove.SystemImports import *\n",
    "from jove.lex           import lex\n",
    "from jove.yacc          import yacc\n",
    "\n",
    "from jove.StateNameSanitizers import ResetStNum, NxtStateStr\n",
    "from IPython.display          import YouTubeVideo\n",
    "#~~~~~~~~~~~~~~~~~~~~~~~~~~~~~~~~~~~~~~~~~~~~~~~~~~~~~~~"
   ]
  },
  {
   "cell_type": "markdown",
   "metadata": {
    "id": "KsTHyaLSTDFF"
   },
   "source": [
    "## Investigate PLY\n",
    " "
   ]
  },
  {
   "cell_type": "markdown",
   "metadata": {
    "id": "4G5JUGcVTI96"
   },
   "source": [
    "Refer to the documentation for detailed information:\n",
    "\n",
    "https://www.dabeaz.com/ply/ply.html"
   ]
  },
  {
   "cell_type": "markdown",
   "metadata": {
    "id": "rb64nThwTNDz"
   },
   "source": [
    "### TODO Watch this YouTube video of a talk by David Beazley, the author of PLY."
   ]
  },
  {
   "cell_type": "markdown",
   "metadata": {
    "id": "g101b0eoTyqs"
   },
   "source": [
    "Direct path is https://youtu.be/zJ9z6Ge-vXs"
   ]
  },
  {
   "cell_type": "code",
   "execution_count": 2,
   "metadata": {
    "id": "7V40qoNSTZ7J"
   },
   "outputs": [
    {
     "data": {
      "image/jpeg": "[encoded data removed]",
      "text/html": [
       "\n",
       "        <iframe\n",
       "            width=\"400\"\n",
       "            height=\"300\"\n",
       "            src=\"https://www.youtube.com/embed/zJ9z6Ge-vXs\"\n",
       "            frameborder=\"0\"\n",
       "            allowfullscreen\n",
       "        ></iframe>\n",
       "        "
      ],
      "text/plain": [
       "<IPython.lib.display.YouTubeVideo at 0x7f4ebef32520>"
      ]
     },
     "execution_count": 2,
     "metadata": {},
     "output_type": "execute_result"
    }
   ],
   "source": [
    "YouTubeVideo('zJ9z6Ge-vXs')"
   ]
  },
  {
   "cell_type": "markdown",
   "metadata": {
    "id": "Nz2djtp1TgLY"
   },
   "source": [
    "### TODO Watch this Youtube video sequence (total 5 segments)\n",
    "that talks about designing a calculator."
   ]
  },
  {
   "cell_type": "markdown",
   "metadata": {
    "id": "kMB6KoB8T3RI"
   },
   "source": [
    "Direct path is https://youtu.be/Hh49BXmHxX8"
   ]
  },
  {
   "cell_type": "code",
   "execution_count": null,
   "metadata": {
    "id": "STC_LCgVTq7M"
   },
   "outputs": [],
   "source": [
    "YouTubeVideo('Hh49BXmHxX8')"
   ]
  },
  {
   "cell_type": "markdown",
   "metadata": {
    "id": "mK6o1AmBTwMT"
   },
   "source": [
    "### TODO Study this Arithmetic Expression Parser"
   ]
  },
  {
   "cell_type": "markdown",
   "metadata": {
    "id": "y9NhXDzcT26m"
   },
   "source": [
    "The goal is to discover differences with real parsers in the field."
   ]
  },
  {
   "cell_type": "markdown",
   "metadata": {
    "id": "_rdKyJUvWS5t"
   },
   "source": [
    "Background information about a calculator following these CFG rules:\n",
    "\n",
    "```\n",
    "Rule 0     S -> expression\n",
    "Rule 1     expression -> expression PLUS term\n",
    "Rule 2     expression -> expression MINUS term\n",
    "Rule 3     expression -> term\n",
    "Rule 4     term -> term TIMES factor\n",
    "Rule 5     term -> term DIVIDE factor\n",
    "Rule 6     term -> factor\n",
    "Rule 7     factor -> innerfactor EXP factor\n",
    "Rule 8     factor -> innerfactor\n",
    "Rule 9     innerfactor -> UMINUS innerfactor\n",
    "Rule 10    innerfactor -> LPAREN expression RPAREN\n",
    "Rule 11    innerfactor -> NUMBER\n",
    "```\n",
    "\n",
    "These rules are implemented in the following parser.\n",
    "\n",
    "Note the use of:\n",
    "* \"~\" (tilde) for unary minus,\n",
    "* \"-\" (regular minus) for binary infix minus, and\n",
    "* \"^\" for exponentiation."
   ]
  },
  {
   "cell_type": "code",
   "execution_count": 3,
   "metadata": {
    "id": "sUF7KuveUXtN"
   },
   "outputs": [],
   "source": [
    "# Following ideas from http://www.dabeaz.com/ply/example.html heavily\n",
    "tokens = ('NUMBER','LPAREN','RPAREN','PLUS','MINUS','TIMES','DIVIDE','UMINUS','EXP') \n",
    "\n",
    "# Tokens\n",
    "t_PLUS    = r'\\+'\n",
    "t_MINUS   = r'\\-'\n",
    "t_TIMES   = r'\\*'\n",
    "t_DIVIDE  = r'\\/'\n",
    "t_LPAREN  = r'\\('\n",
    "t_RPAREN  = r'\\)' \n",
    "t_UMINUS  = r'\\~' \n",
    "t_EXP     = r'\\^'\n",
    "\n",
    "# parsing + semantic actions in one place!\n",
    "def t_NUMBER(t):\n",
    "    r'\\d+'\n",
    "    try:\n",
    "        t.value = int(t.value)\n",
    "    except ValueError:\n",
    "        print(\"Integer value too large %d\", t.value)\n",
    "        t.value = 0\n",
    "    return t\n",
    "\n",
    "# Ignored characters\n",
    "t_ignore = \" \\t\"\n",
    "\n",
    "def t_newline(t):\n",
    "    r'\\n+'\n",
    "    t.lexer.lineno += t.value.count(\"\\n\")\n",
    "    \n",
    "def t_error(t):\n",
    "    print(\"Illegal character '%s'\" % t.value[0])\n",
    "    t.lexer.skip(1)"
   ]
  },
  {
   "cell_type": "code",
   "execution_count": 4,
   "metadata": {
    "id": "wOf0k2AxUagr"
   },
   "outputs": [],
   "source": [
    "\n",
    "def p_expression_1(t):\n",
    "    'expression : expression PLUS term'\n",
    "    #\n",
    "    t[0] = (t[1][0] + t[3][0],\n",
    "            attrDyadicInfix(\"+\", t[1][1], t[3][1]))   \n",
    "    \n",
    "def p_expression_2(t):\n",
    "    'expression : expression MINUS term'\n",
    "    #\n",
    "    t[0] = (t[1][0] - t[3][0],\n",
    "            attrDyadicInfix(\"-\", t[1][1], t[3][1]))   \n",
    "    \n",
    "def p_expression_3(t):\n",
    "    'expression : term'\n",
    "    #\n",
    "    t[0] = t[1]  \n",
    "    \n",
    "# Consult this excellent reference for info on precedences\n",
    "# https://www.cs.utah.edu/~zachary/isp/worksheets/operprec/operprec.html\n",
    "    \n",
    "    \n",
    "def p_term_1(t):\n",
    "    'term :  term TIMES factor'\n",
    "    #\n",
    "    t[0] = (t[1][0] * t[3][0],\n",
    "            attrDyadicInfix(\"*\", t[1][1], t[3][1])) \n",
    "\n",
    "    \n",
    "def p_term_2(t):\n",
    "    'term :  term DIVIDE factor'\n",
    "    #\n",
    "    if (t[3][0] == 0):\n",
    "        print(\"Error, divide by zero!\")\n",
    "        t[3][0] = 1 # fix it\n",
    "    t[0] = (t[1][0] / t[3][0],\n",
    "            attrDyadicInfix(\"/\", t[1][1], t[3][1]))\n",
    "\n",
    "\n",
    "def p_term_3(t):\n",
    "    'term :  factor'\n",
    "    #\n",
    "    t[0] = t[1]  \n",
    "\n",
    "def p_factor_1(t):\n",
    "    'factor : innerfactor EXP factor'\n",
    "    #\n",
    "    t[0] = (t[1][0] ** t[3][0],\n",
    "            attrDyadicInfix(\"^\", t[1][1], t[3][1])) \n",
    "\n",
    "def p_factor_2(t):\n",
    "    'factor : innerfactor'\n",
    "    #\n",
    "    t[0] = t[1]\n",
    "    \n",
    "def p_innerfactor_1(t):\n",
    "    'innerfactor : UMINUS innerfactor'\n",
    "    #\n",
    "    ast  = ('~', t[2][1]['ast'])\n",
    "    \n",
    "    nlin = t[2][1]['dig']['nl']\n",
    "    elin = t[2][1]['dig']['el']\n",
    "    \n",
    "    rootin = nlin[0]\n",
    "\n",
    "    root = NxtStateStr(\"~E_\") \n",
    "    left = NxtStateStr(\"~_\")\n",
    "\n",
    "    t[0] =(-t[2][0], \n",
    "           {'ast' : ast,\n",
    "            'dig' : {'nl' : [ root, left ] + nlin, # this order important for proper layout!\n",
    "                     'el' : elin + [ (root, left),\n",
    "                                     (root, rootin) ]\n",
    "                    }})\n",
    "\n",
    "    \n",
    "def p_innerfactor_2(t):\n",
    "    'innerfactor : LPAREN expression RPAREN'\n",
    "    #\n",
    "    ast  = t[2][1]['ast']\n",
    "    \n",
    "    nlin = t[2][1]['dig']['nl']\n",
    "    elin = t[2][1]['dig']['el']\n",
    "    \n",
    "    rootin = nlin[0]\n",
    "    \n",
    "    root = NxtStateStr(\"(E)_\")\n",
    "    left = NxtStateStr(\"(_\")\n",
    "    right= NxtStateStr(\")_\")\n",
    "    \n",
    "    t[0] =(t[2][0],\n",
    "           {'ast' : ast,\n",
    "            'dig' : {'nl' : [root, left] + nlin + [right], #order important f. proper layout!\n",
    "                     'el' : elin + [ (root, left),\n",
    "                                     (root, rootin),\n",
    "                                     (root, right) ]\n",
    "                    }})\n",
    "\n",
    "def p_innerfactor_3(t):\n",
    "    'innerfactor : NUMBER'\n",
    "    #\n",
    "    strn = str(t[1])\n",
    "    ast  = ('NUMBER', strn)           \n",
    "    t[0] =(t[1],\n",
    "           { 'ast' : ast,\n",
    "             'dig' : {'nl' : [ strn + NxtStateStr(\"_\") ],\n",
    "                      'el' : []\n",
    "                     }})\n",
    "\n",
    "\n",
    "def p_error(t):\n",
    "    print(\"Syntax error at '%s'\" % t.value)\n",
    "\n",
    "#--\n",
    "    \n",
    "def attrDyadicInfix(op, attr1, attr3):\n",
    "    ast  = (op, (attr1['ast'], attr3['ast']))\n",
    "    \n",
    "    nlin1 = attr1['dig']['nl']\n",
    "    nlin3 = attr3['dig']['nl']\n",
    "    nlin  = nlin1 + nlin3\n",
    "    \n",
    "    elin1 = attr1['dig']['el']\n",
    "    elin3 = attr3['dig']['el']\n",
    "    elin  = elin1 + elin3\n",
    "    \n",
    "    rootin1 = nlin1[0]\n",
    "    rootin3 = nlin3[0]    \n",
    "    \n",
    "    root   = NxtStateStr(\"E1\"+op+\"E2\"+\"_\") # NxtStateStr(\"$_\")\n",
    "    left   = rootin1\n",
    "    middle = NxtStateStr(op+\"_\")\n",
    "    right  = rootin3\n",
    "    \n",
    "    return {'ast' : ast,\n",
    "            'dig' : {'nl' : [ root, left, middle, right ] + nlin,\n",
    "                     'el' : elin + [ (root, left),\n",
    "                                     (root, middle),\n",
    "                                     (root, right) ]\n",
    "                     }}\n",
    "\n",
    "#===\n",
    "# This is the main function in this Jove file.  \n",
    "#===\n",
    "\n",
    "def parseExp(s):\n",
    "    \"\"\"In: a string s containing a regular expression.\n",
    "       Out: An attribute triple consisting of\n",
    "            1) An abstract syntax tree suitable for processing in the derivative-based scanner\n",
    "            2) A node-list for the parse-tree digraph generated. Good for drawing a parse tree \n",
    "               using the drawPT function below\n",
    "            3) An edge list for the parse-tree generated (again good for drawing using the\n",
    "               drawPT function below)\n",
    "    \"\"\"\n",
    "    mylexer  = lex()\n",
    "    myparser = yacc()\n",
    "    pt = myparser.parse(s, lexer = mylexer)\n",
    "    \n",
    "    # print('parsed result  is ', pt)\n",
    "    # (result, ast, nodes, edges)\n",
    "    return (pt[0], pt[1]['ast'], pt[1]['dig']['nl'], pt[1]['dig']['el'])\n",
    "\n",
    "def drawPT(ast_rslt_nl_el, comment=\"PT\"):\n",
    "    \"\"\"Given an (ast, nl, el) triple where nl is the node and el the edge-list,\n",
    "       draw the Parse Tree by returning a dot object.\n",
    "    \"\"\"\n",
    "    (rslt, ast, nl, el) = ast_rslt_nl_el\n",
    "    \n",
    "    print(\"Result calculated = \", rslt)\n",
    "    print(\"Drawing AST for \", ast)\n",
    "    \n",
    "    dotObj_pt = Digraph(comment)\n",
    "    dotObj_pt.graph_attr['rankdir'] = 'TB'\n",
    "    for n in nl:\n",
    "        prNam = n.split('_')[0]\n",
    "        dotObj_pt.node(n, prNam, shape=\"oval\", peripheries=\"1\")\n",
    "    for e in el:\n",
    "        dotObj_pt.edge(e[0], e[1])\n",
    "    return dotObj_pt"
   ]
  },
  {
   "cell_type": "markdown",
   "metadata": {
    "id": "MPqnSFFeUl7t"
   },
   "source": [
    "#### TODO Answer the question"
   ]
  },
  {
   "cell_type": "markdown",
   "metadata": {
    "id": "rdAZeAOsXD2_"
   },
   "source": [
    "How does the above calculator above parse ```~2^2```?"
   ]
  },
  {
   "cell_type": "code",
   "execution_count": 5,
   "metadata": {
    "id": "N-_B_smbUtTU"
   },
   "outputs": [
    {
     "name": "stdout",
     "output_type": "stream",
     "text": [
      "Result calculated =  4\n",
      "Drawing AST for  ('^', (('~', ('NUMBER', '2')), ('NUMBER', '2')))\n"
     ]
    },
    {
     "name": "stderr",
     "output_type": "stream",
     "text": [
      "Generating LALR tables\n"
     ]
    },
    {
     "data": {
      "image/svg+xml": [
       "<?xml version=\"1.0\" encoding=\"UTF-8\" standalone=\"no\"?>\n",
       "<!DOCTYPE svg PUBLIC \"-//W3C//DTD SVG 1.1//EN\"\n",
       " \"http://www.w3.org/Graphics/SVG/1.1/DTD/svg11.dtd\">\n",
       "<!-- Generated by graphviz version 2.46.0 (0)\n",
       " -->\n",
       "<!-- Title: PT Pages: 1 -->\n",
       "<svg width=\"242pt\" height=\"188pt\"\n",
       " viewBox=\"0.00 0.00 242.00 188.00\" xmlns=\"http://www.w3.org/2000/svg\" xmlns:xlink=\"http://www.w3.org/1999/xlink\">\n",
       "<g id=\"graph0\" class=\"graph\" transform=\"scale(1 1) rotate(0) translate(4 184)\">\n",
       "<title>PT</title>\n",
       "<polygon fill=\"white\" stroke=\"transparent\" points=\"-4,4 -4,-184 238,-184 238,4 -4,4\"/>\n",
       "<!-- E1^E2_5 -->\n",
       "<g id=\"node1\" class=\"node\">\n",
       "<title>E1^E2_5</title>\n",
       "<ellipse fill=\"none\" stroke=\"black\" cx=\"135\" cy=\"-162\" rx=\"44.39\" ry=\"18\"/>\n",
       "<text text-anchor=\"middle\" x=\"135\" y=\"-158.3\" font-family=\"Times,serif\" font-size=\"14.00\">E1^E2</text>\n",
       "</g>\n",
       "<!-- ~E_2 -->\n",
       "<g id=\"node2\" class=\"node\">\n",
       "<title>~E_2</title>\n",
       "<ellipse fill=\"none\" stroke=\"black\" cx=\"63\" cy=\"-90\" rx=\"27\" ry=\"18\"/>\n",
       "<text text-anchor=\"middle\" x=\"63\" y=\"-86.3\" font-family=\"Times,serif\" font-size=\"14.00\">~E</text>\n",
       "</g>\n",
       "<!-- E1^E2_5&#45;&gt;~E_2 -->\n",
       "<g id=\"edge3\" class=\"edge\">\n",
       "<title>E1^E2_5&#45;&gt;~E_2</title>\n",
       "<path fill=\"none\" stroke=\"black\" d=\"M118.66,-145.12C108.78,-135.51 96.05,-123.13 85.25,-112.63\"/>\n",
       "<polygon fill=\"black\" stroke=\"black\" points=\"87.41,-109.85 77.8,-105.39 82.53,-114.87 87.41,-109.85\"/>\n",
       "</g>\n",
       "<!-- ^_6 -->\n",
       "<g id=\"node3\" class=\"node\">\n",
       "<title>^_6</title>\n",
       "<ellipse fill=\"none\" stroke=\"black\" cx=\"135\" cy=\"-90\" rx=\"27\" ry=\"18\"/>\n",
       "<text text-anchor=\"middle\" x=\"135\" y=\"-86.3\" font-family=\"Times,serif\" font-size=\"14.00\">^</text>\n",
       "</g>\n",
       "<!-- E1^E2_5&#45;&gt;^_6 -->\n",
       "<g id=\"edge4\" class=\"edge\">\n",
       "<title>E1^E2_5&#45;&gt;^_6</title>\n",
       "<path fill=\"none\" stroke=\"black\" d=\"M135,-143.7C135,-135.98 135,-126.71 135,-118.11\"/>\n",
       "<polygon fill=\"black\" stroke=\"black\" points=\"138.5,-118.1 135,-108.1 131.5,-118.1 138.5,-118.1\"/>\n",
       "</g>\n",
       "<!-- 2_4 -->\n",
       "<g id=\"node4\" class=\"node\">\n",
       "<title>2_4</title>\n",
       "<ellipse fill=\"none\" stroke=\"black\" cx=\"207\" cy=\"-90\" rx=\"27\" ry=\"18\"/>\n",
       "<text text-anchor=\"middle\" x=\"207\" y=\"-86.3\" font-family=\"Times,serif\" font-size=\"14.00\">2</text>\n",
       "</g>\n",
       "<!-- E1^E2_5&#45;&gt;2_4 -->\n",
       "<g id=\"edge5\" class=\"edge\">\n",
       "<title>E1^E2_5&#45;&gt;2_4</title>\n",
       "<path fill=\"none\" stroke=\"black\" d=\"M151.34,-145.12C161.22,-135.51 173.95,-123.13 184.75,-112.63\"/>\n",
       "<polygon fill=\"black\" stroke=\"black\" points=\"187.47,-114.87 192.2,-105.39 182.59,-109.85 187.47,-114.87\"/>\n",
       "</g>\n",
       "<!-- ~_3 -->\n",
       "<g id=\"node5\" class=\"node\">\n",
       "<title>~_3</title>\n",
       "<ellipse fill=\"none\" stroke=\"black\" cx=\"27\" cy=\"-18\" rx=\"27\" ry=\"18\"/>\n",
       "<text text-anchor=\"middle\" x=\"27\" y=\"-14.3\" font-family=\"Times,serif\" font-size=\"14.00\">~</text>\n",
       "</g>\n",
       "<!-- ~E_2&#45;&gt;~_3 -->\n",
       "<g id=\"edge1\" class=\"edge\">\n",
       "<title>~E_2&#45;&gt;~_3</title>\n",
       "<path fill=\"none\" stroke=\"black\" d=\"M54.65,-72.76C50.29,-64.28 44.85,-53.71 39.96,-44.2\"/>\n",
       "<polygon fill=\"black\" stroke=\"black\" points=\"42.99,-42.44 35.3,-35.15 36.77,-45.64 42.99,-42.44\"/>\n",
       "</g>\n",
       "<!-- 2_1 -->\n",
       "<g id=\"node6\" class=\"node\">\n",
       "<title>2_1</title>\n",
       "<ellipse fill=\"none\" stroke=\"black\" cx=\"99\" cy=\"-18\" rx=\"27\" ry=\"18\"/>\n",
       "<text text-anchor=\"middle\" x=\"99\" y=\"-14.3\" font-family=\"Times,serif\" font-size=\"14.00\">2</text>\n",
       "</g>\n",
       "<!-- ~E_2&#45;&gt;2_1 -->\n",
       "<g id=\"edge2\" class=\"edge\">\n",
       "<title>~E_2&#45;&gt;2_1</title>\n",
       "<path fill=\"none\" stroke=\"black\" d=\"M71.35,-72.76C75.71,-64.28 81.15,-53.71 86.04,-44.2\"/>\n",
       "<polygon fill=\"black\" stroke=\"black\" points=\"89.23,-45.64 90.7,-35.15 83.01,-42.44 89.23,-45.64\"/>\n",
       "</g>\n",
       "</g>\n",
       "</svg>\n"
      ],
      "text/plain": [
       "<graphviz.dot.Digraph at 0x7f4ebeef2430>"
      ]
     },
     "execution_count": 5,
     "metadata": {},
     "output_type": "execute_result"
    }
   ],
   "source": [
    "drawPT(parseExp('~2^2'))"
   ]
  },
  {
   "cell_type": "markdown",
   "metadata": {
    "id": "Ii0ng5Z9UwZa"
   },
   "source": [
    "#### TODO Answer the question"
   ]
  },
  {
   "cell_type": "markdown",
   "metadata": {
    "id": "3RfEqNgVXIOo"
   },
   "source": [
    "How does this calculator differ from Python?"
   ]
  },
  {
   "cell_type": "code",
   "execution_count": 8,
   "metadata": {
    "id": "Ol3JrlmvU7W-"
   },
   "outputs": [
    {
     "data": {
      "text/plain": [
       "-4"
      ]
     },
     "execution_count": 8,
     "metadata": {},
     "output_type": "execute_result"
    }
   ],
   "source": [
    "# Python evaluation\n",
    "-2 ** 2"
   ]
  },
  {
   "cell_type": "code",
   "execution_count": 12,
   "metadata": {},
   "outputs": [
    {
     "name": "stderr",
     "output_type": "stream",
     "text": [
      "Generating LALR tables\n"
     ]
    },
    {
     "data": {
      "text/plain": [
       "(4,\n",
       " ('^', (('~', ('NUMBER', '2')), ('NUMBER', '2'))),\n",
       " ['E1^E2_29', '~E_26', '^_30', '2_28', '~E_26', '~_27', '2_25', '2_28'],\n",
       " [('~E_26', '~_27'),\n",
       "  ('~E_26', '2_25'),\n",
       "  ('E1^E2_29', '~E_26'),\n",
       "  ('E1^E2_29', '^_30'),\n",
       "  ('E1^E2_29', '2_28')])"
      ]
     },
     "execution_count": 12,
     "metadata": {},
     "output_type": "execute_result"
    }
   ],
   "source": [
    "parseExp('~2^2')"
   ]
  },
  {
   "cell_type": "markdown",
   "metadata": {},
   "source": [
    "The calculator actually returns the correct result. The python code isn't returning 4 like it should and instead doesn't consider the case of multiplying a negative number with a negative number an even amount of times. This calculator handles that correctly. This might be a operator order of operations problem."
   ]
  },
  {
   "cell_type": "markdown",
   "metadata": {
    "id": "egsPFIIGSkw7"
   },
   "source": [
    "#### TODO Answer the question"
   ]
  },
  {
   "cell_type": "markdown",
   "metadata": {
    "id": "ZS7-ammzW44j"
   },
   "source": [
    "How would you parenthesize the ```-2 ** 2``` expression so that Python would give the same answer?"
   ]
  },
  {
   "cell_type": "code",
   "execution_count": 13,
   "metadata": {
    "id": "AxR0txTqSx9J"
   },
   "outputs": [
    {
     "data": {
      "text/plain": [
       "4"
      ]
     },
     "execution_count": 13,
     "metadata": {},
     "output_type": "execute_result"
    }
   ],
   "source": [
    "# Put your answer here\n",
    "(-2) ** 2"
   ]
  },
  {
   "cell_type": "markdown",
   "metadata": {
    "id": "kZHrKCgETLr4"
   },
   "source": [
    "#### Now look at how ```2^~3^~4``` is parsed."
   ]
  },
  {
   "cell_type": "code",
   "execution_count": 14,
   "metadata": {
    "id": "hvv0k_tiTSIv"
   },
   "outputs": [
    {
     "name": "stdout",
     "output_type": "stream",
     "text": [
      "Result calculated =  1.008594091576999\n",
      "Drawing AST for  ('^', (('NUMBER', '2'), ('^', (('~', ('NUMBER', '3')), ('~', ('NUMBER', '4'))))))\n"
     ]
    },
    {
     "name": "stderr",
     "output_type": "stream",
     "text": [
      "Generating LALR tables\n"
     ]
    },
    {
     "data": {
      "image/svg+xml": [
       "<?xml version=\"1.0\" encoding=\"UTF-8\" standalone=\"no\"?>\n",
       "<!DOCTYPE svg PUBLIC \"-//W3C//DTD SVG 1.1//EN\"\n",
       " \"http://www.w3.org/Graphics/SVG/1.1/DTD/svg11.dtd\">\n",
       "<!-- Generated by graphviz version 2.46.0 (0)\n",
       " -->\n",
       "<!-- Title: PT Pages: 1 -->\n",
       "<svg width=\"349pt\" height=\"260pt\"\n",
       " viewBox=\"0.00 0.00 349.00 260.00\" xmlns=\"http://www.w3.org/2000/svg\" xmlns:xlink=\"http://www.w3.org/1999/xlink\">\n",
       "<g id=\"graph0\" class=\"graph\" transform=\"scale(1 1) rotate(0) translate(4 256)\">\n",
       "<title>PT</title>\n",
       "<polygon fill=\"white\" stroke=\"transparent\" points=\"-4,4 -4,-256 345,-256 345,4 -4,4\"/>\n",
       "<!-- E1^E2_40 -->\n",
       "<g id=\"node1\" class=\"node\">\n",
       "<title>E1^E2_40</title>\n",
       "<ellipse fill=\"none\" stroke=\"black\" cx=\"99\" cy=\"-234\" rx=\"44.39\" ry=\"18\"/>\n",
       "<text text-anchor=\"middle\" x=\"99\" y=\"-230.3\" font-family=\"Times,serif\" font-size=\"14.00\">E1^E2</text>\n",
       "</g>\n",
       "<!-- 2_31 -->\n",
       "<g id=\"node2\" class=\"node\">\n",
       "<title>2_31</title>\n",
       "<ellipse fill=\"none\" stroke=\"black\" cx=\"27\" cy=\"-162\" rx=\"27\" ry=\"18\"/>\n",
       "<text text-anchor=\"middle\" x=\"27\" y=\"-158.3\" font-family=\"Times,serif\" font-size=\"14.00\">2</text>\n",
       "</g>\n",
       "<!-- E1^E2_40&#45;&gt;2_31 -->\n",
       "<g id=\"edge8\" class=\"edge\">\n",
       "<title>E1^E2_40&#45;&gt;2_31</title>\n",
       "<path fill=\"none\" stroke=\"black\" d=\"M82.66,-217.12C72.78,-207.51 60.05,-195.13 49.25,-184.63\"/>\n",
       "<polygon fill=\"black\" stroke=\"black\" points=\"51.41,-181.85 41.8,-177.39 46.53,-186.87 51.41,-181.85\"/>\n",
       "</g>\n",
       "<!-- ^_41 -->\n",
       "<g id=\"node3\" class=\"node\">\n",
       "<title>^_41</title>\n",
       "<ellipse fill=\"none\" stroke=\"black\" cx=\"99\" cy=\"-162\" rx=\"27\" ry=\"18\"/>\n",
       "<text text-anchor=\"middle\" x=\"99\" y=\"-158.3\" font-family=\"Times,serif\" font-size=\"14.00\">^</text>\n",
       "</g>\n",
       "<!-- E1^E2_40&#45;&gt;^_41 -->\n",
       "<g id=\"edge9\" class=\"edge\">\n",
       "<title>E1^E2_40&#45;&gt;^_41</title>\n",
       "<path fill=\"none\" stroke=\"black\" d=\"M99,-215.7C99,-207.98 99,-198.71 99,-190.11\"/>\n",
       "<polygon fill=\"black\" stroke=\"black\" points=\"102.5,-190.1 99,-180.1 95.5,-190.1 102.5,-190.1\"/>\n",
       "</g>\n",
       "<!-- E1^E2_38 -->\n",
       "<g id=\"node4\" class=\"node\">\n",
       "<title>E1^E2_38</title>\n",
       "<ellipse fill=\"none\" stroke=\"black\" cx=\"188\" cy=\"-162\" rx=\"44.39\" ry=\"18\"/>\n",
       "<text text-anchor=\"middle\" x=\"188\" y=\"-158.3\" font-family=\"Times,serif\" font-size=\"14.00\">E1^E2</text>\n",
       "</g>\n",
       "<!-- E1^E2_40&#45;&gt;E1^E2_38 -->\n",
       "<g id=\"edge10\" class=\"edge\">\n",
       "<title>E1^E2_40&#45;&gt;E1^E2_38</title>\n",
       "<path fill=\"none\" stroke=\"black\" d=\"M118.75,-217.46C131.05,-207.79 147.05,-195.21 160.57,-184.58\"/>\n",
       "<polygon fill=\"black\" stroke=\"black\" points=\"162.91,-187.18 168.61,-178.25 158.59,-181.68 162.91,-187.18\"/>\n",
       "</g>\n",
       "<!-- ~E_33 -->\n",
       "<g id=\"node5\" class=\"node\">\n",
       "<title>~E_33</title>\n",
       "<ellipse fill=\"none\" stroke=\"black\" cx=\"116\" cy=\"-90\" rx=\"27\" ry=\"18\"/>\n",
       "<text text-anchor=\"middle\" x=\"116\" y=\"-86.3\" font-family=\"Times,serif\" font-size=\"14.00\">~E</text>\n",
       "</g>\n",
       "<!-- E1^E2_38&#45;&gt;~E_33 -->\n",
       "<g id=\"edge5\" class=\"edge\">\n",
       "<title>E1^E2_38&#45;&gt;~E_33</title>\n",
       "<path fill=\"none\" stroke=\"black\" d=\"M171.66,-145.12C161.78,-135.51 149.05,-123.13 138.25,-112.63\"/>\n",
       "<polygon fill=\"black\" stroke=\"black\" points=\"140.41,-109.85 130.8,-105.39 135.53,-114.87 140.41,-109.85\"/>\n",
       "</g>\n",
       "<!-- ^_39 -->\n",
       "<g id=\"node6\" class=\"node\">\n",
       "<title>^_39</title>\n",
       "<ellipse fill=\"none\" stroke=\"black\" cx=\"188\" cy=\"-90\" rx=\"27\" ry=\"18\"/>\n",
       "<text text-anchor=\"middle\" x=\"188\" y=\"-86.3\" font-family=\"Times,serif\" font-size=\"14.00\">^</text>\n",
       "</g>\n",
       "<!-- E1^E2_38&#45;&gt;^_39 -->\n",
       "<g id=\"edge6\" class=\"edge\">\n",
       "<title>E1^E2_38&#45;&gt;^_39</title>\n",
       "<path fill=\"none\" stroke=\"black\" d=\"M188,-143.7C188,-135.98 188,-126.71 188,-118.11\"/>\n",
       "<polygon fill=\"black\" stroke=\"black\" points=\"191.5,-118.1 188,-108.1 184.5,-118.1 191.5,-118.1\"/>\n",
       "</g>\n",
       "<!-- ~E_36 -->\n",
       "<g id=\"node7\" class=\"node\">\n",
       "<title>~E_36</title>\n",
       "<ellipse fill=\"none\" stroke=\"black\" cx=\"260\" cy=\"-90\" rx=\"27\" ry=\"18\"/>\n",
       "<text text-anchor=\"middle\" x=\"260\" y=\"-86.3\" font-family=\"Times,serif\" font-size=\"14.00\">~E</text>\n",
       "</g>\n",
       "<!-- E1^E2_38&#45;&gt;~E_36 -->\n",
       "<g id=\"edge7\" class=\"edge\">\n",
       "<title>E1^E2_38&#45;&gt;~E_36</title>\n",
       "<path fill=\"none\" stroke=\"black\" d=\"M204.34,-145.12C214.22,-135.51 226.95,-123.13 237.75,-112.63\"/>\n",
       "<polygon fill=\"black\" stroke=\"black\" points=\"240.47,-114.87 245.2,-105.39 235.59,-109.85 240.47,-114.87\"/>\n",
       "</g>\n",
       "<!-- ~_34 -->\n",
       "<g id=\"node8\" class=\"node\">\n",
       "<title>~_34</title>\n",
       "<ellipse fill=\"none\" stroke=\"black\" cx=\"80\" cy=\"-18\" rx=\"27\" ry=\"18\"/>\n",
       "<text text-anchor=\"middle\" x=\"80\" y=\"-14.3\" font-family=\"Times,serif\" font-size=\"14.00\">~</text>\n",
       "</g>\n",
       "<!-- ~E_33&#45;&gt;~_34 -->\n",
       "<g id=\"edge1\" class=\"edge\">\n",
       "<title>~E_33&#45;&gt;~_34</title>\n",
       "<path fill=\"none\" stroke=\"black\" d=\"M107.65,-72.76C103.29,-64.28 97.85,-53.71 92.96,-44.2\"/>\n",
       "<polygon fill=\"black\" stroke=\"black\" points=\"95.99,-42.44 88.3,-35.15 89.77,-45.64 95.99,-42.44\"/>\n",
       "</g>\n",
       "<!-- 3_32 -->\n",
       "<g id=\"node9\" class=\"node\">\n",
       "<title>3_32</title>\n",
       "<ellipse fill=\"none\" stroke=\"black\" cx=\"152\" cy=\"-18\" rx=\"27\" ry=\"18\"/>\n",
       "<text text-anchor=\"middle\" x=\"152\" y=\"-14.3\" font-family=\"Times,serif\" font-size=\"14.00\">3</text>\n",
       "</g>\n",
       "<!-- ~E_33&#45;&gt;3_32 -->\n",
       "<g id=\"edge2\" class=\"edge\">\n",
       "<title>~E_33&#45;&gt;3_32</title>\n",
       "<path fill=\"none\" stroke=\"black\" d=\"M124.35,-72.76C128.71,-64.28 134.15,-53.71 139.04,-44.2\"/>\n",
       "<polygon fill=\"black\" stroke=\"black\" points=\"142.23,-45.64 143.7,-35.15 136.01,-42.44 142.23,-45.64\"/>\n",
       "</g>\n",
       "<!-- ~_37 -->\n",
       "<g id=\"node10\" class=\"node\">\n",
       "<title>~_37</title>\n",
       "<ellipse fill=\"none\" stroke=\"black\" cx=\"242\" cy=\"-18\" rx=\"27\" ry=\"18\"/>\n",
       "<text text-anchor=\"middle\" x=\"242\" y=\"-14.3\" font-family=\"Times,serif\" font-size=\"14.00\">~</text>\n",
       "</g>\n",
       "<!-- ~E_36&#45;&gt;~_37 -->\n",
       "<g id=\"edge3\" class=\"edge\">\n",
       "<title>~E_36&#45;&gt;~_37</title>\n",
       "<path fill=\"none\" stroke=\"black\" d=\"M255.64,-72.05C253.61,-64.14 251.14,-54.54 248.86,-45.69\"/>\n",
       "<polygon fill=\"black\" stroke=\"black\" points=\"252.2,-44.6 246.32,-35.79 245.42,-46.35 252.2,-44.6\"/>\n",
       "</g>\n",
       "<!-- 4_35 -->\n",
       "<g id=\"node11\" class=\"node\">\n",
       "<title>4_35</title>\n",
       "<ellipse fill=\"none\" stroke=\"black\" cx=\"314\" cy=\"-18\" rx=\"27\" ry=\"18\"/>\n",
       "<text text-anchor=\"middle\" x=\"314\" y=\"-14.3\" font-family=\"Times,serif\" font-size=\"14.00\">4</text>\n",
       "</g>\n",
       "<!-- ~E_36&#45;&gt;4_35 -->\n",
       "<g id=\"edge4\" class=\"edge\">\n",
       "<title>~E_36&#45;&gt;4_35</title>\n",
       "<path fill=\"none\" stroke=\"black\" d=\"M271.98,-73.46C278.98,-64.4 287.94,-52.79 295.79,-42.61\"/>\n",
       "<polygon fill=\"black\" stroke=\"black\" points=\"298.71,-44.55 302.05,-34.49 293.17,-40.27 298.71,-44.55\"/>\n",
       "</g>\n",
       "</g>\n",
       "</svg>\n"
      ],
      "text/plain": [
       "<graphviz.dot.Digraph at 0x7f4ebeea4f70>"
      ]
     },
     "execution_count": 14,
     "metadata": {},
     "output_type": "execute_result"
    }
   ],
   "source": [
    "drawPT(parseExp(\"2^~3^~4\"))"
   ]
  },
  {
   "cell_type": "markdown",
   "metadata": {
    "id": "tBZvtkBeT3DZ"
   },
   "source": [
    "#### Do the same compare/contrast exercise for this longer expression."
   ]
  },
  {
   "cell_type": "markdown",
   "metadata": {
    "id": "OEzM2ggBUvu3"
   },
   "source": [
    "I.e., parse it, draw its parse tree, parenthesize the Python version so they match."
   ]
  },
  {
   "cell_type": "code",
   "execution_count": 15,
   "metadata": {
    "id": "6GYuRfEVT7tr"
   },
   "outputs": [
    {
     "data": {
      "text/plain": [
       "0.9914791374956781"
      ]
     },
     "execution_count": 15,
     "metadata": {},
     "output_type": "execute_result"
    }
   ],
   "source": [
    " # The above expression in Python's syntax is below. See what it produces!\n",
    "2**-3**-4"
   ]
  },
  {
   "cell_type": "markdown",
   "metadata": {},
   "source": [
    "Yet again the wrong answer, due to order of operations of the unary minus sign."
   ]
  },
  {
   "cell_type": "code",
   "execution_count": 16,
   "metadata": {},
   "outputs": [
    {
     "data": {
      "text/plain": [
       "1.008594091576999"
      ]
     },
     "execution_count": 16,
     "metadata": {},
     "output_type": "execute_result"
    }
   ],
   "source": [
    "2**(-3)**(-4)"
   ]
  },
  {
   "cell_type": "markdown",
   "metadata": {
    "id": "ybzKjlWyURX-"
   },
   "source": [
    "#### Do the same compare/contrast exercise for this even longer expression."
   ]
  },
  {
   "cell_type": "code",
   "execution_count": 19,
   "metadata": {
    "id": "Ja9ENeMfUV3N"
   },
   "outputs": [
    {
     "name": "stdout",
     "output_type": "stream",
     "text": [
      "Result calculated =  1.1249999999999991\n",
      "Drawing AST for  ('-', (('/', (('*', (('/', (('*', (('NUMBER', '6'), ('NUMBER', '3'))), ('NUMBER', '4'))), ('~', ('NUMBER', '5')))), ('-', (('-', (('-', (('+', (('NUMBER', '2'), ('NUMBER', '3'))), ('NUMBER', '4'))), ('NUMBER', '5'))), ('*', (('/', (('NUMBER', '6'), ('NUMBER', '7'))), ('~', ('NUMBER', '8')))))))), ('~', ('NUMBER', '9'))))\n"
     ]
    },
    {
     "name": "stderr",
     "output_type": "stream",
     "text": [
      "Generating LALR tables\n"
     ]
    },
    {
     "data": {
      "image/svg+xml": [
       "<?xml version=\"1.0\" encoding=\"UTF-8\" standalone=\"no\"?>\n",
       "<!DOCTYPE svg PUBLIC \"-//W3C//DTD SVG 1.1//EN\"\n",
       " \"http://www.w3.org/Graphics/SVG/1.1/DTD/svg11.dtd\">\n",
       "<!-- Generated by graphviz version 2.46.0 (0)\n",
       " -->\n",
       "<!-- Title: PT Pages: 1 -->\n",
       "<svg width=\"879pt\" height=\"548pt\"\n",
       " viewBox=\"0.00 0.00 879.00 548.00\" xmlns=\"http://www.w3.org/2000/svg\" xmlns:xlink=\"http://www.w3.org/1999/xlink\">\n",
       "<g id=\"graph0\" class=\"graph\" transform=\"scale(1 1) rotate(0) translate(4 544)\">\n",
       "<title>PT</title>\n",
       "<polygon fill=\"white\" stroke=\"transparent\" points=\"-4,4 -4,-544 875,-544 875,4 -4,4\"/>\n",
       "<!-- E1&#45;E2_126 -->\n",
       "<g id=\"node1\" class=\"node\">\n",
       "<title>E1&#45;E2_126</title>\n",
       "<ellipse fill=\"none\" stroke=\"black\" cx=\"526\" cy=\"-522\" rx=\"38.99\" ry=\"18\"/>\n",
       "<text text-anchor=\"middle\" x=\"526\" y=\"-518.3\" font-family=\"Times,serif\" font-size=\"14.00\">E1&#45;E2</text>\n",
       "</g>\n",
       "<!-- E1/E2_121 -->\n",
       "<g id=\"node2\" class=\"node\">\n",
       "<title>E1/E2_121</title>\n",
       "<ellipse fill=\"none\" stroke=\"black\" cx=\"442\" cy=\"-450\" rx=\"38.99\" ry=\"18\"/>\n",
       "<text text-anchor=\"middle\" x=\"442\" y=\"-446.3\" font-family=\"Times,serif\" font-size=\"14.00\">E1/E2</text>\n",
       "</g>\n",
       "<!-- E1&#45;E2_126&#45;&gt;E1/E2_121 -->\n",
       "<g id=\"edge40\" class=\"edge\">\n",
       "<title>E1&#45;E2_126&#45;&gt;E1/E2_121</title>\n",
       "<path fill=\"none\" stroke=\"black\" d=\"M507.77,-505.81C496.22,-496.18 481.08,-483.56 468.24,-472.86\"/>\n",
       "<polygon fill=\"black\" stroke=\"black\" points=\"470.11,-469.87 460.19,-466.16 465.63,-475.25 470.11,-469.87\"/>\n",
       "</g>\n",
       "<!-- &#45;_127 -->\n",
       "<g id=\"node3\" class=\"node\">\n",
       "<title>&#45;_127</title>\n",
       "<ellipse fill=\"none\" stroke=\"black\" cx=\"526\" cy=\"-450\" rx=\"27\" ry=\"18\"/>\n",
       "<text text-anchor=\"middle\" x=\"526\" y=\"-446.3\" font-family=\"Times,serif\" font-size=\"14.00\">&#45;</text>\n",
       "</g>\n",
       "<!-- E1&#45;E2_126&#45;&gt;&#45;_127 -->\n",
       "<g id=\"edge41\" class=\"edge\">\n",
       "<title>E1&#45;E2_126&#45;&gt;&#45;_127</title>\n",
       "<path fill=\"none\" stroke=\"black\" d=\"M526,-503.7C526,-495.98 526,-486.71 526,-478.11\"/>\n",
       "<polygon fill=\"black\" stroke=\"black\" points=\"529.5,-478.1 526,-468.1 522.5,-478.1 529.5,-478.1\"/>\n",
       "</g>\n",
       "<!-- ~E_124 -->\n",
       "<g id=\"node4\" class=\"node\">\n",
       "<title>~E_124</title>\n",
       "<ellipse fill=\"none\" stroke=\"black\" cx=\"598\" cy=\"-450\" rx=\"27\" ry=\"18\"/>\n",
       "<text text-anchor=\"middle\" x=\"598\" y=\"-446.3\" font-family=\"Times,serif\" font-size=\"14.00\">~E</text>\n",
       "</g>\n",
       "<!-- E1&#45;E2_126&#45;&gt;~E_124 -->\n",
       "<g id=\"edge42\" class=\"edge\">\n",
       "<title>E1&#45;E2_126&#45;&gt;~E_124</title>\n",
       "<path fill=\"none\" stroke=\"black\" d=\"M541.98,-505.46C551.94,-495.78 564.91,-483.17 575.85,-472.53\"/>\n",
       "<polygon fill=\"black\" stroke=\"black\" points=\"578.32,-475.02 583.05,-465.54 573.44,-470 578.32,-475.02\"/>\n",
       "</g>\n",
       "<!-- E1*E2_95 -->\n",
       "<g id=\"node5\" class=\"node\">\n",
       "<title>E1*E2_95</title>\n",
       "<ellipse fill=\"none\" stroke=\"black\" cx=\"342\" cy=\"-378\" rx=\"40.09\" ry=\"18\"/>\n",
       "<text text-anchor=\"middle\" x=\"342\" y=\"-374.3\" font-family=\"Times,serif\" font-size=\"14.00\">E1*E2</text>\n",
       "</g>\n",
       "<!-- E1/E2_121&#45;&gt;E1*E2_95 -->\n",
       "<g id=\"edge35\" class=\"edge\">\n",
       "<title>E1/E2_121&#45;&gt;E1*E2_95</title>\n",
       "<path fill=\"none\" stroke=\"black\" d=\"M421.28,-434.5C406.8,-424.36 387.26,-410.68 371.2,-399.44\"/>\n",
       "<polygon fill=\"black\" stroke=\"black\" points=\"372.89,-396.35 362.69,-393.49 368.88,-402.09 372.89,-396.35\"/>\n",
       "</g>\n",
       "<!-- /_122 -->\n",
       "<g id=\"node6\" class=\"node\">\n",
       "<title>/_122</title>\n",
       "<ellipse fill=\"none\" stroke=\"black\" cx=\"442\" cy=\"-378\" rx=\"27\" ry=\"18\"/>\n",
       "<text text-anchor=\"middle\" x=\"442\" y=\"-374.3\" font-family=\"Times,serif\" font-size=\"14.00\">/</text>\n",
       "</g>\n",
       "<!-- E1/E2_121&#45;&gt;/_122 -->\n",
       "<g id=\"edge36\" class=\"edge\">\n",
       "<title>E1/E2_121&#45;&gt;/_122</title>\n",
       "<path fill=\"none\" stroke=\"black\" d=\"M442,-431.7C442,-423.98 442,-414.71 442,-406.11\"/>\n",
       "<polygon fill=\"black\" stroke=\"black\" points=\"445.5,-406.1 442,-396.1 438.5,-406.1 445.5,-406.1\"/>\n",
       "</g>\n",
       "<!-- (E)_118 -->\n",
       "<g id=\"node7\" class=\"node\">\n",
       "<title>(E)_118</title>\n",
       "<ellipse fill=\"none\" stroke=\"black\" cx=\"517\" cy=\"-378\" rx=\"27\" ry=\"18\"/>\n",
       "<text text-anchor=\"middle\" x=\"517\" y=\"-374.3\" font-family=\"Times,serif\" font-size=\"14.00\">(E)</text>\n",
       "</g>\n",
       "<!-- E1/E2_121&#45;&gt;(E)_118 -->\n",
       "<g id=\"edge37\" class=\"edge\">\n",
       "<title>E1/E2_121&#45;&gt;(E)_118</title>\n",
       "<path fill=\"none\" stroke=\"black\" d=\"M458.64,-433.46C469.16,-423.65 482.89,-410.83 494.39,-400.1\"/>\n",
       "<polygon fill=\"black\" stroke=\"black\" points=\"497.01,-402.45 501.93,-393.07 492.23,-397.33 497.01,-402.45\"/>\n",
       "</g>\n",
       "<!-- ~_125 -->\n",
       "<g id=\"node42\" class=\"node\">\n",
       "<title>~_125</title>\n",
       "<ellipse fill=\"none\" stroke=\"black\" cx=\"595\" cy=\"-378\" rx=\"27\" ry=\"18\"/>\n",
       "<text text-anchor=\"middle\" x=\"595\" y=\"-374.3\" font-family=\"Times,serif\" font-size=\"14.00\">~</text>\n",
       "</g>\n",
       "<!-- ~E_124&#45;&gt;~_125 -->\n",
       "<g id=\"edge38\" class=\"edge\">\n",
       "<title>~E_124&#45;&gt;~_125</title>\n",
       "<path fill=\"none\" stroke=\"black\" d=\"M597.26,-431.7C596.93,-423.98 596.53,-414.71 596.16,-406.11\"/>\n",
       "<polygon fill=\"black\" stroke=\"black\" points=\"599.66,-405.95 595.73,-396.1 592.66,-406.25 599.66,-405.95\"/>\n",
       "</g>\n",
       "<!-- 9_123 -->\n",
       "<g id=\"node43\" class=\"node\">\n",
       "<title>9_123</title>\n",
       "<ellipse fill=\"none\" stroke=\"black\" cx=\"667\" cy=\"-378\" rx=\"27\" ry=\"18\"/>\n",
       "<text text-anchor=\"middle\" x=\"667\" y=\"-374.3\" font-family=\"Times,serif\" font-size=\"14.00\">9</text>\n",
       "</g>\n",
       "<!-- ~E_124&#45;&gt;9_123 -->\n",
       "<g id=\"edge39\" class=\"edge\">\n",
       "<title>~E_124&#45;&gt;9_123</title>\n",
       "<path fill=\"none\" stroke=\"black\" d=\"M612.3,-434.5C621.92,-424.73 634.78,-411.69 645.61,-400.7\"/>\n",
       "<polygon fill=\"black\" stroke=\"black\" points=\"648.19,-403.06 652.72,-393.49 643.21,-398.15 648.19,-403.06\"/>\n",
       "</g>\n",
       "<!-- E1/E2_90 -->\n",
       "<g id=\"node8\" class=\"node\">\n",
       "<title>E1/E2_90</title>\n",
       "<ellipse fill=\"none\" stroke=\"black\" cx=\"214\" cy=\"-306\" rx=\"38.99\" ry=\"18\"/>\n",
       "<text text-anchor=\"middle\" x=\"214\" y=\"-302.3\" font-family=\"Times,serif\" font-size=\"14.00\">E1/E2</text>\n",
       "</g>\n",
       "<!-- E1*E2_95&#45;&gt;E1/E2_90 -->\n",
       "<g id=\"edge9\" class=\"edge\">\n",
       "<title>E1*E2_95&#45;&gt;E1/E2_90</title>\n",
       "<path fill=\"none\" stroke=\"black\" d=\"M317.32,-363.5C297.36,-352.59 269.07,-337.12 247.14,-325.12\"/>\n",
       "<polygon fill=\"black\" stroke=\"black\" points=\"248.62,-321.95 238.17,-320.22 245.26,-328.09 248.62,-321.95\"/>\n",
       "</g>\n",
       "<!-- *_96 -->\n",
       "<g id=\"node9\" class=\"node\">\n",
       "<title>*_96</title>\n",
       "<ellipse fill=\"none\" stroke=\"black\" cx=\"313\" cy=\"-306\" rx=\"27\" ry=\"18\"/>\n",
       "<text text-anchor=\"middle\" x=\"313\" y=\"-302.3\" font-family=\"Times,serif\" font-size=\"14.00\">*</text>\n",
       "</g>\n",
       "<!-- E1*E2_95&#45;&gt;*_96 -->\n",
       "<g id=\"edge10\" class=\"edge\">\n",
       "<title>E1*E2_95&#45;&gt;*_96</title>\n",
       "<path fill=\"none\" stroke=\"black\" d=\"M334.98,-360.05C331.63,-351.97 327.55,-342.12 323.82,-333.11\"/>\n",
       "<polygon fill=\"black\" stroke=\"black\" points=\"327.02,-331.69 319.96,-323.79 320.55,-334.37 327.02,-331.69\"/>\n",
       "</g>\n",
       "<!-- ~E_93 -->\n",
       "<g id=\"node10\" class=\"node\">\n",
       "<title>~E_93</title>\n",
       "<ellipse fill=\"none\" stroke=\"black\" cx=\"385\" cy=\"-306\" rx=\"27\" ry=\"18\"/>\n",
       "<text text-anchor=\"middle\" x=\"385\" y=\"-302.3\" font-family=\"Times,serif\" font-size=\"14.00\">~E</text>\n",
       "</g>\n",
       "<!-- E1*E2_95&#45;&gt;~E_93 -->\n",
       "<g id=\"edge11\" class=\"edge\">\n",
       "<title>E1*E2_95&#45;&gt;~E_93</title>\n",
       "<path fill=\"none\" stroke=\"black\" d=\"M352.19,-360.41C357.46,-351.83 364,-341.19 369.85,-331.67\"/>\n",
       "<polygon fill=\"black\" stroke=\"black\" points=\"372.93,-333.34 375.18,-322.99 366.96,-329.68 372.93,-333.34\"/>\n",
       "</g>\n",
       "<!-- (_119 -->\n",
       "<g id=\"node19\" class=\"node\">\n",
       "<title>(_119</title>\n",
       "<ellipse fill=\"none\" stroke=\"black\" cx=\"470\" cy=\"-306\" rx=\"27\" ry=\"18\"/>\n",
       "<text text-anchor=\"middle\" x=\"470\" y=\"-302.3\" font-family=\"Times,serif\" font-size=\"14.00\">(</text>\n",
       "</g>\n",
       "<!-- (E)_118&#45;&gt;(_119 -->\n",
       "<g id=\"edge32\" class=\"edge\">\n",
       "<title>(E)_118&#45;&gt;(_119</title>\n",
       "<path fill=\"none\" stroke=\"black\" d=\"M506.33,-361.12C500.45,-352.34 493.01,-341.26 486.39,-331.42\"/>\n",
       "<polygon fill=\"black\" stroke=\"black\" points=\"489.1,-329.17 480.62,-322.82 483.29,-333.07 489.1,-329.17\"/>\n",
       "</g>\n",
       "<!-- E1&#45;E2_116 -->\n",
       "<g id=\"node20\" class=\"node\">\n",
       "<title>E1&#45;E2_116</title>\n",
       "<ellipse fill=\"none\" stroke=\"black\" cx=\"554\" cy=\"-306\" rx=\"38.99\" ry=\"18\"/>\n",
       "<text text-anchor=\"middle\" x=\"554\" y=\"-302.3\" font-family=\"Times,serif\" font-size=\"14.00\">E1&#45;E2</text>\n",
       "</g>\n",
       "<!-- (E)_118&#45;&gt;E1&#45;E2_116 -->\n",
       "<g id=\"edge33\" class=\"edge\">\n",
       "<title>(E)_118&#45;&gt;E1&#45;E2_116</title>\n",
       "<path fill=\"none\" stroke=\"black\" d=\"M525.58,-360.76C530,-352.4 535.49,-342.02 540.47,-332.61\"/>\n",
       "<polygon fill=\"black\" stroke=\"black\" points=\"543.63,-334.11 545.21,-323.63 537.44,-330.84 543.63,-334.11\"/>\n",
       "</g>\n",
       "<!-- )_120 -->\n",
       "<g id=\"node41\" class=\"node\">\n",
       "<title>)_120</title>\n",
       "<ellipse fill=\"none\" stroke=\"black\" cx=\"638\" cy=\"-306\" rx=\"27\" ry=\"18\"/>\n",
       "<text text-anchor=\"middle\" x=\"638\" y=\"-302.3\" font-family=\"Times,serif\" font-size=\"14.00\">)</text>\n",
       "</g>\n",
       "<!-- (E)_118&#45;&gt;)_120 -->\n",
       "<g id=\"edge34\" class=\"edge\">\n",
       "<title>(E)_118&#45;&gt;)_120</title>\n",
       "<path fill=\"none\" stroke=\"black\" d=\"M536.71,-365.6C556.49,-354.16 587.15,-336.42 609.56,-323.46\"/>\n",
       "<polygon fill=\"black\" stroke=\"black\" points=\"611.4,-326.43 618.3,-318.4 607.89,-320.38 611.4,-326.43\"/>\n",
       "</g>\n",
       "<!-- E1*E2_87 -->\n",
       "<g id=\"node11\" class=\"node\">\n",
       "<title>E1*E2_87</title>\n",
       "<ellipse fill=\"none\" stroke=\"black\" cx=\"99\" cy=\"-234\" rx=\"40.09\" ry=\"18\"/>\n",
       "<text text-anchor=\"middle\" x=\"99\" y=\"-230.3\" font-family=\"Times,serif\" font-size=\"14.00\">E1*E2</text>\n",
       "</g>\n",
       "<!-- E1/E2_90&#45;&gt;E1*E2_87 -->\n",
       "<g id=\"edge4\" class=\"edge\">\n",
       "<title>E1/E2_90&#45;&gt;E1*E2_87</title>\n",
       "<path fill=\"none\" stroke=\"black\" d=\"M191.28,-291.17C173.99,-280.64 149.97,-266.03 130.78,-254.34\"/>\n",
       "<polygon fill=\"black\" stroke=\"black\" points=\"132.43,-251.25 122.07,-249.04 128.79,-257.23 132.43,-251.25\"/>\n",
       "</g>\n",
       "<!-- /_91 -->\n",
       "<g id=\"node12\" class=\"node\">\n",
       "<title>/_91</title>\n",
       "<ellipse fill=\"none\" stroke=\"black\" cx=\"184\" cy=\"-234\" rx=\"27\" ry=\"18\"/>\n",
       "<text text-anchor=\"middle\" x=\"184\" y=\"-230.3\" font-family=\"Times,serif\" font-size=\"14.00\">/</text>\n",
       "</g>\n",
       "<!-- E1/E2_90&#45;&gt;/_91 -->\n",
       "<g id=\"edge5\" class=\"edge\">\n",
       "<title>E1/E2_90&#45;&gt;/_91</title>\n",
       "<path fill=\"none\" stroke=\"black\" d=\"M206.74,-288.05C203.27,-279.97 199.05,-270.12 195.19,-261.11\"/>\n",
       "<polygon fill=\"black\" stroke=\"black\" points=\"198.35,-259.6 191.2,-251.79 191.92,-262.36 198.35,-259.6\"/>\n",
       "</g>\n",
       "<!-- 4_89 -->\n",
       "<g id=\"node13\" class=\"node\">\n",
       "<title>4_89</title>\n",
       "<ellipse fill=\"none\" stroke=\"black\" cx=\"256\" cy=\"-234\" rx=\"27\" ry=\"18\"/>\n",
       "<text text-anchor=\"middle\" x=\"256\" y=\"-230.3\" font-family=\"Times,serif\" font-size=\"14.00\">4</text>\n",
       "</g>\n",
       "<!-- E1/E2_90&#45;&gt;4_89 -->\n",
       "<g id=\"edge6\" class=\"edge\">\n",
       "<title>E1/E2_90&#45;&gt;4_89</title>\n",
       "<path fill=\"none\" stroke=\"black\" d=\"M223.95,-288.41C229.1,-279.83 235.49,-269.19 241.2,-259.67\"/>\n",
       "<polygon fill=\"black\" stroke=\"black\" points=\"244.26,-261.36 246.41,-250.99 238.26,-257.76 244.26,-261.36\"/>\n",
       "</g>\n",
       "<!-- ~_94 -->\n",
       "<g id=\"node17\" class=\"node\">\n",
       "<title>~_94</title>\n",
       "<ellipse fill=\"none\" stroke=\"black\" cx=\"328\" cy=\"-234\" rx=\"27\" ry=\"18\"/>\n",
       "<text text-anchor=\"middle\" x=\"328\" y=\"-230.3\" font-family=\"Times,serif\" font-size=\"14.00\">~</text>\n",
       "</g>\n",
       "<!-- ~E_93&#45;&gt;~_94 -->\n",
       "<g id=\"edge7\" class=\"edge\">\n",
       "<title>~E_93&#45;&gt;~_94</title>\n",
       "<path fill=\"none\" stroke=\"black\" d=\"M372.63,-289.81C365.09,-280.55 355.3,-268.52 346.81,-258.09\"/>\n",
       "<polygon fill=\"black\" stroke=\"black\" points=\"349.37,-255.7 340.34,-250.16 343.94,-260.12 349.37,-255.7\"/>\n",
       "</g>\n",
       "<!-- 5_92 -->\n",
       "<g id=\"node18\" class=\"node\">\n",
       "<title>5_92</title>\n",
       "<ellipse fill=\"none\" stroke=\"black\" cx=\"400\" cy=\"-234\" rx=\"27\" ry=\"18\"/>\n",
       "<text text-anchor=\"middle\" x=\"400\" y=\"-230.3\" font-family=\"Times,serif\" font-size=\"14.00\">5</text>\n",
       "</g>\n",
       "<!-- ~E_93&#45;&gt;5_92 -->\n",
       "<g id=\"edge8\" class=\"edge\">\n",
       "<title>~E_93&#45;&gt;5_92</title>\n",
       "<path fill=\"none\" stroke=\"black\" d=\"M388.63,-288.05C390.3,-280.26 392.32,-270.82 394.2,-262.08\"/>\n",
       "<polygon fill=\"black\" stroke=\"black\" points=\"397.63,-262.79 396.3,-252.28 390.78,-261.32 397.63,-262.79\"/>\n",
       "</g>\n",
       "<!-- 6_85 -->\n",
       "<g id=\"node14\" class=\"node\">\n",
       "<title>6_85</title>\n",
       "<ellipse fill=\"none\" stroke=\"black\" cx=\"27\" cy=\"-162\" rx=\"27\" ry=\"18\"/>\n",
       "<text text-anchor=\"middle\" x=\"27\" y=\"-158.3\" font-family=\"Times,serif\" font-size=\"14.00\">6</text>\n",
       "</g>\n",
       "<!-- E1*E2_87&#45;&gt;6_85 -->\n",
       "<g id=\"edge1\" class=\"edge\">\n",
       "<title>E1*E2_87&#45;&gt;6_85</title>\n",
       "<path fill=\"none\" stroke=\"black\" d=\"M83.02,-217.46C73.06,-207.78 60.09,-195.17 49.15,-184.53\"/>\n",
       "<polygon fill=\"black\" stroke=\"black\" points=\"51.56,-182 41.95,-177.54 46.68,-187.02 51.56,-182\"/>\n",
       "</g>\n",
       "<!-- *_88 -->\n",
       "<g id=\"node15\" class=\"node\">\n",
       "<title>*_88</title>\n",
       "<ellipse fill=\"none\" stroke=\"black\" cx=\"99\" cy=\"-162\" rx=\"27\" ry=\"18\"/>\n",
       "<text text-anchor=\"middle\" x=\"99\" y=\"-158.3\" font-family=\"Times,serif\" font-size=\"14.00\">*</text>\n",
       "</g>\n",
       "<!-- E1*E2_87&#45;&gt;*_88 -->\n",
       "<g id=\"edge2\" class=\"edge\">\n",
       "<title>E1*E2_87&#45;&gt;*_88</title>\n",
       "<path fill=\"none\" stroke=\"black\" d=\"M99,-215.7C99,-207.98 99,-198.71 99,-190.11\"/>\n",
       "<polygon fill=\"black\" stroke=\"black\" points=\"102.5,-190.1 99,-180.1 95.5,-190.1 102.5,-190.1\"/>\n",
       "</g>\n",
       "<!-- 3_86 -->\n",
       "<g id=\"node16\" class=\"node\">\n",
       "<title>3_86</title>\n",
       "<ellipse fill=\"none\" stroke=\"black\" cx=\"171\" cy=\"-162\" rx=\"27\" ry=\"18\"/>\n",
       "<text text-anchor=\"middle\" x=\"171\" y=\"-158.3\" font-family=\"Times,serif\" font-size=\"14.00\">3</text>\n",
       "</g>\n",
       "<!-- E1*E2_87&#45;&gt;3_86 -->\n",
       "<g id=\"edge3\" class=\"edge\">\n",
       "<title>E1*E2_87&#45;&gt;3_86</title>\n",
       "<path fill=\"none\" stroke=\"black\" d=\"M114.98,-217.46C124.94,-207.78 137.91,-195.17 148.85,-184.53\"/>\n",
       "<polygon fill=\"black\" stroke=\"black\" points=\"151.32,-187.02 156.05,-177.54 146.44,-182 151.32,-187.02\"/>\n",
       "</g>\n",
       "<!-- E1&#45;E2_105 -->\n",
       "<g id=\"node21\" class=\"node\">\n",
       "<title>E1&#45;E2_105</title>\n",
       "<ellipse fill=\"none\" stroke=\"black\" cx=\"484\" cy=\"-234\" rx=\"38.99\" ry=\"18\"/>\n",
       "<text text-anchor=\"middle\" x=\"484\" y=\"-230.3\" font-family=\"Times,serif\" font-size=\"14.00\">E1&#45;E2</text>\n",
       "</g>\n",
       "<!-- E1&#45;E2_116&#45;&gt;E1&#45;E2_105 -->\n",
       "<g id=\"edge29\" class=\"edge\">\n",
       "<title>E1&#45;E2_116&#45;&gt;E1&#45;E2_105</title>\n",
       "<path fill=\"none\" stroke=\"black\" d=\"M538.46,-289.46C529.26,-280.26 517.42,-268.42 507.13,-258.13\"/>\n",
       "<polygon fill=\"black\" stroke=\"black\" points=\"509.52,-255.57 499.98,-250.98 504.57,-260.52 509.52,-255.57\"/>\n",
       "</g>\n",
       "<!-- &#45;_117 -->\n",
       "<g id=\"node22\" class=\"node\">\n",
       "<title>&#45;_117</title>\n",
       "<ellipse fill=\"none\" stroke=\"black\" cx=\"568\" cy=\"-234\" rx=\"27\" ry=\"18\"/>\n",
       "<text text-anchor=\"middle\" x=\"568\" y=\"-230.3\" font-family=\"Times,serif\" font-size=\"14.00\">&#45;</text>\n",
       "</g>\n",
       "<!-- E1&#45;E2_116&#45;&gt;&#45;_117 -->\n",
       "<g id=\"edge30\" class=\"edge\">\n",
       "<title>E1&#45;E2_116&#45;&gt;&#45;_117</title>\n",
       "<path fill=\"none\" stroke=\"black\" d=\"M557.39,-288.05C558.93,-280.35 560.79,-271.03 562.53,-262.36\"/>\n",
       "<polygon fill=\"black\" stroke=\"black\" points=\"566.02,-262.77 564.54,-252.28 559.15,-261.39 566.02,-262.77\"/>\n",
       "</g>\n",
       "<!-- E1*E2_114 -->\n",
       "<g id=\"node23\" class=\"node\">\n",
       "<title>E1*E2_114</title>\n",
       "<ellipse fill=\"none\" stroke=\"black\" cx=\"688\" cy=\"-234\" rx=\"40.09\" ry=\"18\"/>\n",
       "<text text-anchor=\"middle\" x=\"688\" y=\"-230.3\" font-family=\"Times,serif\" font-size=\"14.00\">E1*E2</text>\n",
       "</g>\n",
       "<!-- E1&#45;E2_116&#45;&gt;E1*E2_114 -->\n",
       "<g id=\"edge31\" class=\"edge\">\n",
       "<title>E1&#45;E2_116&#45;&gt;E1*E2_114</title>\n",
       "<path fill=\"none\" stroke=\"black\" d=\"M578.89,-292C600,-280.97 630.5,-265.04 653.89,-252.82\"/>\n",
       "<polygon fill=\"black\" stroke=\"black\" points=\"655.55,-255.9 662.79,-248.17 652.3,-249.7 655.55,-255.9\"/>\n",
       "</g>\n",
       "<!-- E1&#45;E2_102 -->\n",
       "<g id=\"node24\" class=\"node\">\n",
       "<title>E1&#45;E2_102</title>\n",
       "<ellipse fill=\"none\" stroke=\"black\" cx=\"382\" cy=\"-162\" rx=\"38.99\" ry=\"18\"/>\n",
       "<text text-anchor=\"middle\" x=\"382\" y=\"-158.3\" font-family=\"Times,serif\" font-size=\"14.00\">E1&#45;E2</text>\n",
       "</g>\n",
       "<!-- E1&#45;E2_105&#45;&gt;E1&#45;E2_102 -->\n",
       "<g id=\"edge18\" class=\"edge\">\n",
       "<title>E1&#45;E2_105&#45;&gt;E1&#45;E2_102</title>\n",
       "<path fill=\"none\" stroke=\"black\" d=\"M462.87,-218.5C448,-208.29 427.9,-194.5 411.46,-183.22\"/>\n",
       "<polygon fill=\"black\" stroke=\"black\" points=\"412.98,-180.02 402.76,-177.25 409.02,-185.79 412.98,-180.02\"/>\n",
       "</g>\n",
       "<!-- &#45;_106 -->\n",
       "<g id=\"node25\" class=\"node\">\n",
       "<title>&#45;_106</title>\n",
       "<ellipse fill=\"none\" stroke=\"black\" cx=\"466\" cy=\"-162\" rx=\"27\" ry=\"18\"/>\n",
       "<text text-anchor=\"middle\" x=\"466\" y=\"-158.3\" font-family=\"Times,serif\" font-size=\"14.00\">&#45;</text>\n",
       "</g>\n",
       "<!-- E1&#45;E2_105&#45;&gt;&#45;_106 -->\n",
       "<g id=\"edge19\" class=\"edge\">\n",
       "<title>E1&#45;E2_105&#45;&gt;&#45;_106</title>\n",
       "<path fill=\"none\" stroke=\"black\" d=\"M479.64,-216.05C477.61,-208.14 475.14,-198.54 472.86,-189.69\"/>\n",
       "<polygon fill=\"black\" stroke=\"black\" points=\"476.2,-188.6 470.32,-179.79 469.42,-190.35 476.2,-188.6\"/>\n",
       "</g>\n",
       "<!-- 5_104 -->\n",
       "<g id=\"node26\" class=\"node\">\n",
       "<title>5_104</title>\n",
       "<ellipse fill=\"none\" stroke=\"black\" cx=\"538\" cy=\"-162\" rx=\"27\" ry=\"18\"/>\n",
       "<text text-anchor=\"middle\" x=\"538\" y=\"-158.3\" font-family=\"Times,serif\" font-size=\"14.00\">5</text>\n",
       "</g>\n",
       "<!-- E1&#45;E2_105&#45;&gt;5_104 -->\n",
       "<g id=\"edge20\" class=\"edge\">\n",
       "<title>E1&#45;E2_105&#45;&gt;5_104</title>\n",
       "<path fill=\"none\" stroke=\"black\" d=\"M496.52,-216.76C503.44,-207.8 512.15,-196.51 519.8,-186.59\"/>\n",
       "<polygon fill=\"black\" stroke=\"black\" points=\"522.58,-188.72 525.91,-178.67 517.04,-184.45 522.58,-188.72\"/>\n",
       "</g>\n",
       "<!-- E1/E2_109 -->\n",
       "<g id=\"node33\" class=\"node\">\n",
       "<title>E1/E2_109</title>\n",
       "<ellipse fill=\"none\" stroke=\"black\" cx=\"622\" cy=\"-162\" rx=\"38.99\" ry=\"18\"/>\n",
       "<text text-anchor=\"middle\" x=\"622\" y=\"-158.3\" font-family=\"Times,serif\" font-size=\"14.00\">E1/E2</text>\n",
       "</g>\n",
       "<!-- E1*E2_114&#45;&gt;E1/E2_109 -->\n",
       "<g id=\"edge26\" class=\"edge\">\n",
       "<title>E1*E2_114&#45;&gt;E1/E2_109</title>\n",
       "<path fill=\"none\" stroke=\"black\" d=\"M673.02,-217.12C664.42,-207.99 653.45,-196.36 643.89,-186.22\"/>\n",
       "<polygon fill=\"black\" stroke=\"black\" points=\"646.32,-183.7 636.92,-178.82 641.23,-188.5 646.32,-183.7\"/>\n",
       "</g>\n",
       "<!-- *_115 -->\n",
       "<g id=\"node34\" class=\"node\">\n",
       "<title>*_115</title>\n",
       "<ellipse fill=\"none\" stroke=\"black\" cx=\"706\" cy=\"-162\" rx=\"27\" ry=\"18\"/>\n",
       "<text text-anchor=\"middle\" x=\"706\" y=\"-158.3\" font-family=\"Times,serif\" font-size=\"14.00\">*</text>\n",
       "</g>\n",
       "<!-- E1*E2_114&#45;&gt;*_115 -->\n",
       "<g id=\"edge27\" class=\"edge\">\n",
       "<title>E1*E2_114&#45;&gt;*_115</title>\n",
       "<path fill=\"none\" stroke=\"black\" d=\"M692.36,-216.05C694.39,-208.14 696.86,-198.54 699.14,-189.69\"/>\n",
       "<polygon fill=\"black\" stroke=\"black\" points=\"702.58,-190.35 701.68,-179.79 695.8,-188.6 702.58,-190.35\"/>\n",
       "</g>\n",
       "<!-- ~E_112 -->\n",
       "<g id=\"node35\" class=\"node\">\n",
       "<title>~E_112</title>\n",
       "<ellipse fill=\"none\" stroke=\"black\" cx=\"778\" cy=\"-162\" rx=\"27\" ry=\"18\"/>\n",
       "<text text-anchor=\"middle\" x=\"778\" y=\"-158.3\" font-family=\"Times,serif\" font-size=\"14.00\">~E</text>\n",
       "</g>\n",
       "<!-- E1*E2_114&#45;&gt;~E_112 -->\n",
       "<g id=\"edge28\" class=\"edge\">\n",
       "<title>E1*E2_114&#45;&gt;~E_112</title>\n",
       "<path fill=\"none\" stroke=\"black\" d=\"M707.53,-217.81C720.84,-207.46 738.58,-193.66 752.94,-182.49\"/>\n",
       "<polygon fill=\"black\" stroke=\"black\" points=\"755.19,-185.17 760.94,-176.27 750.89,-179.65 755.19,-185.17\"/>\n",
       "</g>\n",
       "<!-- E1+E2_99 -->\n",
       "<g id=\"node27\" class=\"node\">\n",
       "<title>E1+E2_99</title>\n",
       "<ellipse fill=\"none\" stroke=\"black\" cx=\"293\" cy=\"-90\" rx=\"44.39\" ry=\"18\"/>\n",
       "<text text-anchor=\"middle\" x=\"293\" y=\"-86.3\" font-family=\"Times,serif\" font-size=\"14.00\">E1+E2</text>\n",
       "</g>\n",
       "<!-- E1&#45;E2_102&#45;&gt;E1+E2_99 -->\n",
       "<g id=\"edge15\" class=\"edge\">\n",
       "<title>E1&#45;E2_102&#45;&gt;E1+E2_99</title>\n",
       "<path fill=\"none\" stroke=\"black\" d=\"M363.13,-146.15C350.79,-136.45 334.46,-123.61 320.67,-112.76\"/>\n",
       "<polygon fill=\"black\" stroke=\"black\" points=\"322.49,-109.74 312.46,-106.31 318.16,-115.24 322.49,-109.74\"/>\n",
       "</g>\n",
       "<!-- &#45;_103 -->\n",
       "<g id=\"node28\" class=\"node\">\n",
       "<title>&#45;_103</title>\n",
       "<ellipse fill=\"none\" stroke=\"black\" cx=\"382\" cy=\"-90\" rx=\"27\" ry=\"18\"/>\n",
       "<text text-anchor=\"middle\" x=\"382\" y=\"-86.3\" font-family=\"Times,serif\" font-size=\"14.00\">&#45;</text>\n",
       "</g>\n",
       "<!-- E1&#45;E2_102&#45;&gt;&#45;_103 -->\n",
       "<g id=\"edge16\" class=\"edge\">\n",
       "<title>E1&#45;E2_102&#45;&gt;&#45;_103</title>\n",
       "<path fill=\"none\" stroke=\"black\" d=\"M382,-143.7C382,-135.98 382,-126.71 382,-118.11\"/>\n",
       "<polygon fill=\"black\" stroke=\"black\" points=\"385.5,-118.1 382,-108.1 378.5,-118.1 385.5,-118.1\"/>\n",
       "</g>\n",
       "<!-- 4_101 -->\n",
       "<g id=\"node29\" class=\"node\">\n",
       "<title>4_101</title>\n",
       "<ellipse fill=\"none\" stroke=\"black\" cx=\"454\" cy=\"-90\" rx=\"27\" ry=\"18\"/>\n",
       "<text text-anchor=\"middle\" x=\"454\" y=\"-86.3\" font-family=\"Times,serif\" font-size=\"14.00\">4</text>\n",
       "</g>\n",
       "<!-- E1&#45;E2_102&#45;&gt;4_101 -->\n",
       "<g id=\"edge17\" class=\"edge\">\n",
       "<title>E1&#45;E2_102&#45;&gt;4_101</title>\n",
       "<path fill=\"none\" stroke=\"black\" d=\"M397.98,-145.46C407.94,-135.78 420.91,-123.17 431.85,-112.53\"/>\n",
       "<polygon fill=\"black\" stroke=\"black\" points=\"434.32,-115.02 439.05,-105.54 429.44,-110 434.32,-115.02\"/>\n",
       "</g>\n",
       "<!-- 2_97 -->\n",
       "<g id=\"node30\" class=\"node\">\n",
       "<title>2_97</title>\n",
       "<ellipse fill=\"none\" stroke=\"black\" cx=\"221\" cy=\"-18\" rx=\"27\" ry=\"18\"/>\n",
       "<text text-anchor=\"middle\" x=\"221\" y=\"-14.3\" font-family=\"Times,serif\" font-size=\"14.00\">2</text>\n",
       "</g>\n",
       "<!-- E1+E2_99&#45;&gt;2_97 -->\n",
       "<g id=\"edge12\" class=\"edge\">\n",
       "<title>E1+E2_99&#45;&gt;2_97</title>\n",
       "<path fill=\"none\" stroke=\"black\" d=\"M276.66,-73.12C266.78,-63.51 254.05,-51.13 243.25,-40.63\"/>\n",
       "<polygon fill=\"black\" stroke=\"black\" points=\"245.41,-37.85 235.8,-33.39 240.53,-42.87 245.41,-37.85\"/>\n",
       "</g>\n",
       "<!-- +_100 -->\n",
       "<g id=\"node31\" class=\"node\">\n",
       "<title>+_100</title>\n",
       "<ellipse fill=\"none\" stroke=\"black\" cx=\"293\" cy=\"-18\" rx=\"27\" ry=\"18\"/>\n",
       "<text text-anchor=\"middle\" x=\"293\" y=\"-14.3\" font-family=\"Times,serif\" font-size=\"14.00\">+</text>\n",
       "</g>\n",
       "<!-- E1+E2_99&#45;&gt;+_100 -->\n",
       "<g id=\"edge13\" class=\"edge\">\n",
       "<title>E1+E2_99&#45;&gt;+_100</title>\n",
       "<path fill=\"none\" stroke=\"black\" d=\"M293,-71.7C293,-63.98 293,-54.71 293,-46.11\"/>\n",
       "<polygon fill=\"black\" stroke=\"black\" points=\"296.5,-46.1 293,-36.1 289.5,-46.1 296.5,-46.1\"/>\n",
       "</g>\n",
       "<!-- 3_98 -->\n",
       "<g id=\"node32\" class=\"node\">\n",
       "<title>3_98</title>\n",
       "<ellipse fill=\"none\" stroke=\"black\" cx=\"365\" cy=\"-18\" rx=\"27\" ry=\"18\"/>\n",
       "<text text-anchor=\"middle\" x=\"365\" y=\"-14.3\" font-family=\"Times,serif\" font-size=\"14.00\">3</text>\n",
       "</g>\n",
       "<!-- E1+E2_99&#45;&gt;3_98 -->\n",
       "<g id=\"edge14\" class=\"edge\">\n",
       "<title>E1+E2_99&#45;&gt;3_98</title>\n",
       "<path fill=\"none\" stroke=\"black\" d=\"M309.34,-73.12C319.22,-63.51 331.95,-51.13 342.75,-40.63\"/>\n",
       "<polygon fill=\"black\" stroke=\"black\" points=\"345.47,-42.87 350.2,-33.39 340.59,-37.85 345.47,-42.87\"/>\n",
       "</g>\n",
       "<!-- 6_107 -->\n",
       "<g id=\"node36\" class=\"node\">\n",
       "<title>6_107</title>\n",
       "<ellipse fill=\"none\" stroke=\"black\" cx=\"550\" cy=\"-90\" rx=\"27\" ry=\"18\"/>\n",
       "<text text-anchor=\"middle\" x=\"550\" y=\"-86.3\" font-family=\"Times,serif\" font-size=\"14.00\">6</text>\n",
       "</g>\n",
       "<!-- E1/E2_109&#45;&gt;6_107 -->\n",
       "<g id=\"edge21\" class=\"edge\">\n",
       "<title>E1/E2_109&#45;&gt;6_107</title>\n",
       "<path fill=\"none\" stroke=\"black\" d=\"M606.02,-145.46C596.06,-135.78 583.09,-123.17 572.15,-112.53\"/>\n",
       "<polygon fill=\"black\" stroke=\"black\" points=\"574.56,-110 564.95,-105.54 569.68,-115.02 574.56,-110\"/>\n",
       "</g>\n",
       "<!-- /_110 -->\n",
       "<g id=\"node37\" class=\"node\">\n",
       "<title>/_110</title>\n",
       "<ellipse fill=\"none\" stroke=\"black\" cx=\"622\" cy=\"-90\" rx=\"27\" ry=\"18\"/>\n",
       "<text text-anchor=\"middle\" x=\"622\" y=\"-86.3\" font-family=\"Times,serif\" font-size=\"14.00\">/</text>\n",
       "</g>\n",
       "<!-- E1/E2_109&#45;&gt;/_110 -->\n",
       "<g id=\"edge22\" class=\"edge\">\n",
       "<title>E1/E2_109&#45;&gt;/_110</title>\n",
       "<path fill=\"none\" stroke=\"black\" d=\"M622,-143.7C622,-135.98 622,-126.71 622,-118.11\"/>\n",
       "<polygon fill=\"black\" stroke=\"black\" points=\"625.5,-118.1 622,-108.1 618.5,-118.1 625.5,-118.1\"/>\n",
       "</g>\n",
       "<!-- 7_108 -->\n",
       "<g id=\"node38\" class=\"node\">\n",
       "<title>7_108</title>\n",
       "<ellipse fill=\"none\" stroke=\"black\" cx=\"694\" cy=\"-90\" rx=\"27\" ry=\"18\"/>\n",
       "<text text-anchor=\"middle\" x=\"694\" y=\"-86.3\" font-family=\"Times,serif\" font-size=\"14.00\">7</text>\n",
       "</g>\n",
       "<!-- E1/E2_109&#45;&gt;7_108 -->\n",
       "<g id=\"edge23\" class=\"edge\">\n",
       "<title>E1/E2_109&#45;&gt;7_108</title>\n",
       "<path fill=\"none\" stroke=\"black\" d=\"M637.98,-145.46C647.94,-135.78 660.91,-123.17 671.85,-112.53\"/>\n",
       "<polygon fill=\"black\" stroke=\"black\" points=\"674.32,-115.02 679.05,-105.54 669.44,-110 674.32,-115.02\"/>\n",
       "</g>\n",
       "<!-- ~_113 -->\n",
       "<g id=\"node39\" class=\"node\">\n",
       "<title>~_113</title>\n",
       "<ellipse fill=\"none\" stroke=\"black\" cx=\"772\" cy=\"-90\" rx=\"27\" ry=\"18\"/>\n",
       "<text text-anchor=\"middle\" x=\"772\" y=\"-86.3\" font-family=\"Times,serif\" font-size=\"14.00\">~</text>\n",
       "</g>\n",
       "<!-- ~E_112&#45;&gt;~_113 -->\n",
       "<g id=\"edge24\" class=\"edge\">\n",
       "<title>~E_112&#45;&gt;~_113</title>\n",
       "<path fill=\"none\" stroke=\"black\" d=\"M776.52,-143.7C775.86,-135.98 775.06,-126.71 774.32,-118.11\"/>\n",
       "<polygon fill=\"black\" stroke=\"black\" points=\"777.81,-117.77 773.47,-108.1 770.83,-118.37 777.81,-117.77\"/>\n",
       "</g>\n",
       "<!-- 8_111 -->\n",
       "<g id=\"node40\" class=\"node\">\n",
       "<title>8_111</title>\n",
       "<ellipse fill=\"none\" stroke=\"black\" cx=\"844\" cy=\"-90\" rx=\"27\" ry=\"18\"/>\n",
       "<text text-anchor=\"middle\" x=\"844\" y=\"-86.3\" font-family=\"Times,serif\" font-size=\"14.00\">8</text>\n",
       "</g>\n",
       "<!-- ~E_112&#45;&gt;8_111 -->\n",
       "<g id=\"edge25\" class=\"edge\">\n",
       "<title>~E_112&#45;&gt;8_111</title>\n",
       "<path fill=\"none\" stroke=\"black\" d=\"M792,-146.15C801.01,-136.6 812.89,-123.99 823.02,-113.25\"/>\n",
       "<polygon fill=\"black\" stroke=\"black\" points=\"825.71,-115.5 830.02,-105.82 820.62,-110.7 825.71,-115.5\"/>\n",
       "</g>\n",
       "</g>\n",
       "</svg>\n"
      ],
      "text/plain": [
       "<graphviz.dot.Digraph at 0x7f4ebeea1c70>"
      ]
     },
     "execution_count": 19,
     "metadata": {},
     "output_type": "execute_result"
    }
   ],
   "source": [
    "drawPT(parseExp(\"6*3/4*~5/(2+3-4-5-6/7*~8)-~9\"))"
   ]
  },
  {
   "cell_type": "code",
   "execution_count": 20,
   "metadata": {},
   "outputs": [
    {
     "data": {
      "text/plain": [
       "1.1249999999999991"
      ]
     },
     "execution_count": 20,
     "metadata": {},
     "output_type": "execute_result"
    }
   ],
   "source": [
    "6*3/4*-5/(2+3-4-5-6/7*-8)--9"
   ]
  },
  {
   "cell_type": "markdown",
   "metadata": {},
   "source": [
    "Both the standard python syntax and the calculator returned the same answer without messing with the original syntax of the python operator when converted from the calculator syntax. The unary minus order of operations problem seems to occur only with exponentian."
   ]
  },
  {
   "cell_type": "markdown",
   "metadata": {
    "id": "hbELM_NqVDzK"
   },
   "source": [
    "#### TODO Answer the question"
   ]
  },
  {
   "cell_type": "markdown",
   "metadata": {
    "id": "Ep8g7T7lVIZM"
   },
   "source": [
    "Except for expressions with unary minus and exponentiation, are the two parsers in complete agreement?"
   ]
  },
  {
   "cell_type": "markdown",
   "metadata": {},
   "source": [
    "Based on these experiments, yes."
   ]
  },
  {
   "cell_type": "markdown",
   "metadata": {
    "id": "TiBiqonfVWMe"
   },
   "source": [
    "#### TODO Answer the question"
   ]
  },
  {
   "cell_type": "markdown",
   "metadata": {
    "id": "1IbXemg6VmFD"
   },
   "source": [
    "With regard to parsing arithmetic expressions, how does Python differ from C++ and Google Sheets?"
   ]
  },
  {
   "cell_type": "markdown",
   "metadata": {
    "id": "NjNYVWZuV3FE"
   },
   "source": [
    "Point out the similarities and differences between C++, Python, and Google Sheets when it comes to handling these expressions. Write a few sentences talking about similarities and a few sentences about the differences.\n",
    "\n",
    "Specifically, answer these two questions for each of C++, Python, and Google Sheets:\n",
    "1. What is the associativity of exponentiation, left-associative or right-associative?\n",
    "2. Which is handled first, unary minus or exponentiation?\n",
    "\n",
    "\n",
    "Well, in C++, these is no proper operator for exponentian. You need to use a seperate function to do that. You could expand it out to use multiple * signs or a loop if you were to do it yourself. "
   ]
  }
 ],
 "metadata": {
  "colab": {
   "authorship_tag": "ABX9TyOG2wCwgXB0lHwgZZFuJhLG",
   "collapsed_sections": [],
   "include_colab_link": true,
   "name": "07_2_Calculator_with_Parse_Tree_Drawing.ipynb",
   "provenance": []
  },
  "kernelspec": {
   "display_name": "Python 3",
   "language": "python",
   "name": "python3"
  },
  "language_info": {
   "codemirror_mode": {
    "name": "ipython",
    "version": 3
   },
   "file_extension": ".py",
   "mimetype": "text/x-python",
   "name": "python",
   "nbconvert_exporter": "python",
   "pygments_lexer": "ipython3",
   "version": "3.9.1"
  }
 },
 "nbformat": 4,
 "nbformat_minor": 1
}
