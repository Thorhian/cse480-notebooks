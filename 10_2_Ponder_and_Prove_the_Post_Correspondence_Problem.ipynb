{
 "cells": [
  {
   "cell_type": "markdown",
   "metadata": {
    "id": "c0zTrX71D4o_"
   },
   "source": [
    "# Ponder and Prove the Post Correspondence Problem\n",
    "## And other undecidability proofs\n",
    "### Due: Saturday, 13 March 2021, 11:59 pm"
   ]
  },
  {
   "cell_type": "markdown",
   "metadata": {
    "id": "q2YxGFKZGAp6"
   },
   "source": [
    "## Short Description"
   ]
  },
  {
   "cell_type": "markdown",
   "metadata": {
    "id": "bOIzJGcTGDeQ"
   },
   "source": [
    "The input is a set of *tiles*. Each tile has two ASCII strings written on it, one above the other. For example,\n",
    "\n",
    "$$\\left[\\frac{abc}{yz}\\right]$$\n",
    "\n",
    "is a single tile. So, an example of the problem input would be\n",
    "\n",
    "$$\\left\\{\\left[\\frac{yz}{y}\\right],\\left[\\frac{x}{zx}\\right],\\left[\\frac{zz}{z}\\right],\\left[\\frac{ww}{w}\\right]\\right\\}$$\n",
    "\n",
    "We imagine that we have an infinite supply of each kind of tile in the set.\n",
    "\n",
    "The output of the problem is \"yes\" if some tiles from the supply can be arranged in a sequence (with repetitions permitted) so that the strings on the top and bottom of the sequence are identical.\n",
    "\n",
    "If no such arrangement is possible, the output is \"no\".\n",
    "\n",
    "The example above is a positive (\"yes\") instance, because the following sequence produces the string $yzxzzxyzx$ on the top and bottom:\n",
    "\n",
    "$$\\left[\\frac{yz}{y}\\right]\\left[\\frac{x}{zx}\\right]\\left[\\frac{zz}{z}\\right]\\left[\\frac{x}{zx}\\right]\\left[\\frac{yz}{y}\\right]\\left[\\frac{x}{zx}\\right]$$\n"
   ]
  },
  {
   "cell_type": "markdown",
   "metadata": {
    "id": "-Ci4Wyg_IBDA"
   },
   "source": [
    "## Longer Description"
   ]
  },
  {
   "cell_type": "markdown",
   "metadata": {
    "id": "41H1-k-VIDrB"
   },
   "source": [
    "### Undecidable"
   ]
  },
  {
   "cell_type": "markdown",
   "metadata": {
    "id": "fDpVccwqIdKE"
   },
   "source": [
    "**Undecidability** has been called one of the most philosophically important concepts in the theory of computation.\n",
    "\n",
    "Theoretical computer science identifies specific problems that cannot be solved by any algorithm, because, by their very nature, their solution may never be found. A procedure can be written to search for it, but there's no guarantee it will succeed.\n",
    "\n",
    "As you know, this problem, known as the Halting Problem (or $A_{TM}$, your \"money language\"), is the poster child of undecidability.\n",
    "\n",
    "As we'll see, the Post Correspondence Problem (PCP) is afflicted with the same non-guarantee that the Halting Problem has.\n"
   ]
  },
  {
   "cell_type": "markdown",
   "metadata": {
    "id": "HwQ_0cOIInvs"
   },
   "source": [
    "### The Word Problem"
   ]
  },
  {
   "cell_type": "markdown",
   "metadata": {
    "id": "Gp_yQVZ4IsBO"
   },
   "source": [
    "The Word Problem (WP) is to find whether two equivalent sentences can be generated from a language.\n",
    "\n",
    "The WP is similar to the PCP --- and is also easier to grasp.\n",
    "\n",
    "A.K. Dewdney describes this problem as follows:\n",
    "\n",
    "Suppose you have a sentence in a given language. Pick words at random until you find a sentence with an equivalent meaning. As an example, consider a sentence below.\n",
    "\n",
    "The dog ran home →\n",
    "\n",
    "The canine ran home →\n",
    "\n",
    "The canine hurried home →\n",
    "\n",
    "The canine hurried to his house ...\n",
    "\n",
    "This type of problem is also referred to by Dewdney as a Thue problem, created by Norwegian mathematician Axel Thue. To solve a Thue problem, we use a dictionary to make substitutions until we find an equivalent sentence. It should be noted that the computer cannot determine equivalency; a dictionary must supply mappings of substitutable phrases.\n",
    "\n",
    "This example seems to show that the algorithm of substituting words works! The problem is that this algorithm may never terminate. Why? Dewdney points out that the substitutions made along the way may \"involve intermediate words that are arbitrarily long,\" thus causing substitutions that may go on forever, as in the following example:\n",
    "\n",
    "The boy gave the girl a flower →\n",
    "\n",
    "The boy showed the girl he likes her with a flower →\n",
    "\n",
    "The boy risked it all, acting in the name of the love, by giving the girl flowers.\n",
    "\n",
    "Anyone familiar with dating would realize the first sentence and the last one are equivalent. But look how the sentence grows as equivalent meanings are unearthed! We could easily go on and on forever. Because this solution may take forever to return (if at all), this problem is not decidable."
   ]
  },
  {
   "cell_type": "markdown",
   "metadata": {
    "id": "SVQzdFEW6l3F"
   },
   "source": [
    "### The Post Correspondence Problem"
   ]
  },
  {
   "cell_type": "markdown",
   "metadata": {
    "id": "kwrgYmdr6pRZ"
   },
   "source": [
    "As with the WP, the PCP is (simply) a specific instance of an undecidable problem. Its creator, Emil L. Post, a Polish-born American mathematician, like Church and Turing, also produced a general model of computation.\n",
    "\n",
    "The goal of the PCP is to take a set of tiles $\\left[\\frac{t_1}{b_1}\\right], \\left[\\frac{t_2}{b_2}\\right], \\cdots, \\left[\\frac{t_n}{b_n}\\right]$, and select them (with repetition) in a certain way. A solution is found when the concatenation of the top portion of the arrangement of tiles is equal to the concatenation of the bottom portion of the tiles.\n",
    "\n",
    "Ganesh mentions that the details of the proof he just sketches are to be found elsewhere. It is just these \"technical\" details that make this problem difficult. We'll provide an alternate description that may make it easier to grasp.\n",
    "\n",
    "We first form a Modified Post Correspondence Problem (MPCP). In this construction, we create tiles based on the transition table for an arbitrary TM, and build the following machines:\n",
    "\n",
    "D - An instance of the PCP modified so that the first tile is $\\left[\\frac{t_1}{b_1}\\right]$.\n",
    "\n",
    "M - A Turing Machine constructed by D that accepts a string w.\n",
    "\n",
    "S - Constructs instance D of the MPCP.\n",
    "\n",
    "R - Decides the PCP by constructing S.\n",
    "\n",
    "Note that R is constructed first, then S, then D, then M.\n",
    "\n",
    "R behaves like $A_{TM}$: it accepts if S accepts, otherwise it rejects (the problem being that \"otherwise\" includes the case where S doesn't halt!).\n",
    "\n",
    "Also, $\\left[\\frac{t_1}{b_1}\\right]$ is defined as the initial configuration snapshot (computation history) of M:\n",
    "\n",
    "$$\\left[\\frac{\\#\\hspace{12.5ex}}{\\#q_{0}w_{1}w_{2}\\ldots w_{n}\\#}\\right]$$\n",
    "\n",
    "We construct tiles using computation histories and M's transition function.\n",
    "\n",
    "The rest of the proof involves describing how these tiles are created and used.\n",
    "\n",
    "It is important to understand why we even choose to prove that the PCP is undecidable by using computation histories.\n",
    "\n",
    "As will be shown below, using computation histories allows us to solve the PCP by simulating M on w.\n",
    "\n",
    "Although there may be other possible algorithms, this one works well --- provided that $A_{TM}$ is decidable (of course, it is not --- but we're playing \"what if?\").\n",
    "\n",
    "In order to build R, we construct S such that it builds D according to some rules, as follows:\n",
    "\n",
    "1. Handle moves to the right. This occurs when we are constructing a partial match where the top tile matches the current head location. Expressed formally, this rule is as follows: For every $a, b \\in \\Gamma$ and every $q, r \\in Q$ where $q \\ne q_{reject}$\n",
    "\n",
    "> if $\\delta(q, a) = (r, b, R)$, put $\\left[\\frac{qa}{br}\\right]$ into D.\n",
    "\n",
    "Note that for this and the next rule, we are simply using the transition function to construct tiles that we can use to \"extend the simulation\" --- which just means making tiles that create partial matches.\n",
    "\n",
    "2. Handle moves to the left. This occurs when we find a tape sequence that matches a left movement. For every $a, b, c \\in \\Gamma$ and every $q, r \\in Q$ where $q \\ne q_{reject}$,\n",
    "\n",
    "> if $\\delta(q, a) = (r, b, L)$, put $\\left[\\frac{cqa}{rcb}\\right]$ into D.\n",
    "\n",
    "Note here we may actually create a lot of tiles: one for every $c \\in \\Gamma$ for every $a, b \\in \\Gamma$ that matches the transition rule for a left head movement. We inject this $c$ to satisfy the requirement that the head cannot move past the left end of the tape for this modified problem.\n",
    "\n",
    "3. Handle non-existent moves (tiles for which there is no action). For every $a \\in \\Gamma$ put $\\left[\\frac{a}{a}\\right]$ into D.\n",
    "\n",
    "4. For tacking on #'s to delimit the end of each partial match. We simply provide two tiles:\n",
    "\n",
    "   $\\left[\\frac{\\#}{\\#}\\right]$ and $\\left[\\frac{\\#}{\\sqcup}\\right]$.\n"
   ]
  },
  {
   "cell_type": "markdown",
   "metadata": {
    "id": "C_c_bpYh8HbP"
   },
   "source": [
    "### Example"
   ]
  },
  {
   "cell_type": "markdown",
   "metadata": {
    "id": "m1-73Ign8I5z"
   },
   "source": [
    "Assume M is defined as follows:"
   ]
  },
  {
   "cell_type": "code",
   "execution_count": null,
   "metadata": {
    "id": "YSRNH_CF8Mjk"
   },
   "outputs": [],
   "source": [
    "'''\n",
    "TM\n",
    "q0: 0; 2, R -> q2\n",
    "q1: 0; 2, L -> q3\n",
    "q2: 1; 0, R -> q1\n",
    "q3: 0; 1, R -> qaccept\n",
    "'''"
   ]
  },
  {
   "cell_type": "markdown",
   "metadata": {
    "id": "ZYJSnjH2-8tS"
   },
   "source": [
    "1. The first file, as defined for the MPCP, is:\n",
    "\n",
    "$$\\left[\\frac{\\#\\hspace{3ex}}{\\#q_{0}\\#}\\right]$$\n",
    "\n",
    "2. Tiles created from rule 3:\n",
    "\n",
    "$$\\left[\\frac{0}{0}\\right], \\left[\\frac{1}{1}\\right], \\left[\\frac{2}{2}\\right], \\left[\\frac{\\sqcup}{\\sqcup}\\right]$$\n",
    "\n",
    "3. Tiles created from rule 1:\n",
    "\n",
    "$$\\left[\\frac{q_{0}0}{2q_{2}}\\right], \\left[\\frac{q_{2}1}{0q_{1}}\\right], \\left[\\frac{q_{3}0\\hspace{3ex}}{1q_{accept}}\\right]$$\n",
    "\n",
    "4. Tiles created from rule 2 using the transition function:\n",
    "\n",
    "$$\\left[\\frac{0q_{1}0}{q_{3}02}\\right], \\left[\\frac{1q_{1}0}{q_{3}12}\\right], \\left[\\frac{2q_{1}0}{q_{3}22}\\right], \\left[\\frac{\\sqcup q_{1}0}{q_{3}\\sqcup 2}\\right]$$\n",
    "\n",
    "5. From rule 4 we have:\n",
    "\n",
    "$$\\left[\\frac{\\#}{\\#}\\right]\\ \\mbox{and}\\ \\left[\\frac{\\#}{\\sqcup}\\right].$$\n",
    "\n",
    "6. One final rule applies once we have reached an accept state on the bottom. In this case, we can use the following tiles to \"pinch off\" the top portion. For every $a \\in \\Gamma$, generate the tile-pair:\n",
    "\n",
    "$$\\left[\\frac{aq_{accept}}{q_{accept}}\\right], \\left[\\frac{q_{accept}a}{q_{accept}}\\right]$$\n",
    "\n",
    "Using the generated tiles, we can find the solution to the PCP by selecting partial matches that effectively \"simulate $M$ on $w$\".\n",
    "\n",
    "This can be seen in the following sequence of events:\n",
    "\n",
    "1. From tile set 1,\n",
    "\n",
    "$$\\left[\\frac{\\#\\hspace{7ex}}{\\#q_{0}0100\\#}\\right]$$\n",
    "\n",
    "2. From tile sets 3, 2, 2, 2, and 5 we select\n",
    "\n",
    "$$\\left[\\frac{q_{0}0}{2q_{2}}\\right], \\left[\\frac{1}{1}\\right], \\left[\\frac{0}{0}\\right], \\left[\\frac{0}{0}\\right], \\left[\\frac{\\#}{\\#}\\right]$$\n",
    "\n",
    "respectively and \"smoosh\" them together (to better see their alignment):\n",
    "\n",
    "$$\\left[\\frac{\\#q_{0}0100\\#\\hspace{7ex}}{\\#q_{0}0100\\#2q_{2}100\\#}\\right]$$\n",
    "\n",
    "3. From tile sets 2, 3, 2, 2, 5 we select\n",
    "\n",
    "$$\\left[\\frac{2}{2}\\right], \\left[\\frac{q_{2}1}{0q_{1}}\\right], \\left[\\frac{0}{0}\\right], \\left[\\frac{0}{0}\\right], \\left[\\frac{\\#}{\\#}\\right]$$\n",
    "\n",
    "respectively to get:\n",
    "\n",
    "$$\\left[\\frac{\\#q_{0}0100\\#2q_{2}100\\#\\hspace{7ex}}{\\#q_{0}0100\\#2q_{2}100\\#20q_{1}00\\#}\\right]$$\n",
    "\n",
    "4. From tile sets 2, 4, 2, 5 we select\n",
    "\n",
    "$$\\left[\\frac{2}{2}\\right], \\left[\\frac{q_{3}0}{1q_{accept}}\\right], \\left[\\frac{2}{2}\\right], \\left[\\frac{0}{0}\\right], \\left[\\frac{\\#}{\\#}\\right]$$\n",
    "\n",
    "respectively to get:\n",
    "\n",
    "$$\\left[\\frac{\\#q_{0}0100\\#2q_{2}100\\#20q_{1}00\\#2q_{3}020\\#\\hspace{10ex}}{\\#q_{0}0100\\#2q_{2}100\\#20q_{1}00\\#2q_{3}020\\#21q_{accept}20\\#}\\right]$$\n",
    "\n",
    "5. We can now \"pinch off\" the top since the bottom has reached an accept state. Add tiles from tile set 6 to the previous sequence:\n",
    "\n",
    "$$\\left[\\frac{\\ldots \\#21q_{accept}20\\#2q_{accept}20\\#q_{accept}20\\#q_{accept}0\\#q_{accept}\\#\\#}{\\ldots \\hspace{10ex}\\#2q_{accept}20\\#q_{accept}20\\#q_{accept}0\\#q_{accept}\\#\\#}\\right]$$\n",
    "\n",
    "Note that in this \"simulation\" we are stepping through $M$ on $w$, and by so doing we produce identical strings on the top and bottom, as will be shown.\n",
    "\n",
    "As we make these substitutions, it should be apparent that the individual tile values we use to form these two strings are different; these differences can be thought of as equivalent words.\n",
    "\n",
    "We find at this point a \"solution\" to this particular instance.\n",
    "\n",
    "The PCP is undecidable in general, however.\n",
    "\n",
    "To show this, imagine having a TM that doesn't halt. The substitutions, for example, might go in a circle.\n",
    "\n",
    "The result would be the dreaded **loop of death** that lurks in all undecidable problems.\n",
    "\n",
    "It should also be noted that a complete solution would need an additional step that involves converting D (an instance of the MPCP) to P (an instance of the PCP.) This involves many more technical details that essentially boil down to this idea: manipulate the input so that it earmarks the first tile $\\left[\\frac{t_1}{b_1}\\right]$ so that it is always selected first. The details are omitted because they're not essential to understanding this reduction."
   ]
  },
  {
   "cell_type": "markdown",
   "metadata": {
    "id": "lnYggMlNJgTB"
   },
   "source": [
    "### WP and PCP"
   ]
  },
  {
   "cell_type": "markdown",
   "metadata": {
    "id": "9NiZzRIIJiM_"
   },
   "source": [
    "The PCP can be thought of a Turing Reduction of the WP to a Thue Problem. While the problem of making substitutions is approached in the WP with a dictionary, in the PCP we use tiles. These tiles essentially become entries in a dictionary, with the top of the tile matching the value at the current head position. Thus these problems are \"the same\" problem because one is reducible to the other."
   ]
  },
  {
   "cell_type": "markdown",
   "metadata": {
    "id": "LVnTq15HJpy1"
   },
   "source": [
    "### Conclusion"
   ]
  },
  {
   "cell_type": "markdown",
   "metadata": {
    "id": "7LQp5XDrJrR7"
   },
   "source": [
    "Part of the problem in understanding the PCP is that it is thick with subtle details that are not immediately apparent in a cursory reading. By actually stepping through the simulation, it is possible to expose these details. Thus, it really is a matter of doing versus seeing. Although several readings may enlighten you, getting your hands dirty has a much better chance of giving you a much deeper understanding!"
   ]
  },
  {
   "cell_type": "markdown",
   "metadata": {
    "id": "n5CkXlSeqf4p"
   },
   "source": [
    "## Imports"
   ]
  },
  {
   "cell_type": "code",
   "execution_count": 1,
   "metadata": {
    "id": "y863_jSu1Fad",
    "run_control": {
     "frozen": false,
     "read_only": false
    },
    "scrolled": true
   },
   "outputs": [
    {
     "name": "stdout",
     "output_type": "stream",
     "text": [
      "You may use any of these help commands:\n",
      "help(ResetStNum)\n",
      "help(NxtStateStr)\n",
      "\n",
      "You may use any of these help commands:\n",
      "help(md2mc)\n",
      ".. and if you want to dig more, then ..\n",
      "help(default_line_attr)\n",
      "help(length_ok_input_items)\n",
      "help(union_line_attr_list_fld)\n",
      "help(extend_rsltdict)\n",
      "help(form_delta)\n",
      "help(get_machine_components)\n",
      "\n",
      "You may use any of these help commands:\n",
      "help(mkp_dfa)\n",
      "help(mk_dfa)\n",
      "help(totalize_dfa)\n",
      "help(addtosigma_delta)\n",
      "help(step_dfa)\n",
      "help(run_dfa)\n",
      "help(accepts_dfa)\n",
      "help(comp_dfa)\n",
      "help(union_dfa)\n",
      "help(intersect_dfa)\n",
      "help(pruneUnreach)\n",
      "help(iso_dfa)\n",
      "help(langeq_dfa)\n",
      "help(same_status)\n",
      "help(h_langeq_dfa)\n",
      "help(fixptDist)\n",
      "help(min_dfa)\n",
      "help(pairFR)\n",
      "help(state_combos)\n",
      "help(sepFinNonFin)\n",
      "help(bash_eql_classes)\n",
      "help(listminus)\n",
      "help(bash_1)\n",
      "help(mk_rep_eqc)\n",
      "help(F_of)\n",
      "help(rep_of_s)\n",
      "help(q0_of)\n",
      "help(Delta_of)\n",
      "help(mk_state_eqc_name)\n",
      "\n",
      "You may use any of these help commands:\n",
      "help(mk_nfa)\n",
      "help(totalize_nfa)\n",
      "help(step_nfa)\n",
      "help(run_nfa)\n",
      "help(ec_step_nfa)\n",
      "help(Eclosure)\n",
      "help(Echelp)\n",
      "help(accepts_nfa)\n",
      "help(nfa2dfa)\n",
      "help(n2d)\n",
      "help(inSets)\n",
      "help(rev_dfa)\n",
      "help(min_dfa_brz)\n",
      "\n",
      "You may use any of these help commands:\n",
      "help(RE2Str)\n",
      "help(mk_gnfa)\n",
      "help(mk_gnfa_from_D)\n",
      "help(dfa2nfa)\n",
      "help(del_gnfa_states)\n",
      "help(gnfa_w_REStr)\n",
      "help(del_one_gnfa_state)\n",
      "help(Edges_Exist_Via)\n",
      "help(choose_state_to_del)\n",
      "help(form_alt_RE)\n",
      "help(form_concat_RE)\n",
      "help(form_kleene_RE)\n",
      "\n",
      "You may use any of these help commands:\n",
      "help(re2nfa)\n",
      "\n",
      " \"help(AnimateNFA)\" gives you info on how to use animations with NFA \n"
     ]
    }
   ],
   "source": [
    "#~~~~~~~~~~~~~~~~~~~~~~~~~~~~~~~~~~~~~~~~~~~~~~~~~~~~~~~\n",
    "import sys\n",
    "\n",
    "# -- Detect if in Own Install or in Colab\n",
    "try:\n",
    "    import google.colab\n",
    "    OWN_INSTALL = False\n",
    "except:\n",
    "    OWN_INSTALL = True\n",
    "    \n",
    "if OWN_INSTALL:\n",
    "  \n",
    "  sys.path[0:0] = ['../../../../..',  '../../../../../3rdparty',  \n",
    "                   '../../../..',  '../../../../3rdparty',  \n",
    "                   '../../..',     '../../../3rdparty', \n",
    "                   '../..',        '../../3rdparty',\n",
    "                   '..',           '../3rdparty',\n",
    "                   '../Jove',      '../Jove/jove']\n",
    "\n",
    "else: # In colab\n",
    "  ! if [ ! -d Jove ]; then git clone https://github.com/ganeshutah/Jove Jove; fi\n",
    "  sys.path.append('./Jove')\n",
    "  sys.path.append('./Jove/jove')\n",
    "\n",
    "# -- common imports --\n",
    "from jove.DotBashers import *\n",
    "from jove.Def_md2mc  import *\n",
    "from jove.Def_NFA    import *\n",
    "from jove.Def_DFA    import *\n",
    "from jove.Def_NFA2RE import *\n",
    "from jove.Def_RE2NFA import *\n",
    "from jove.AnimateNFA import *\n",
    "from jove.PcpJupyterNew import *\n",
    "#~~~~~~~~~~~~~~~~~~~~~~~~~~~~~~~~~~~~~~~~~~~~~~~~~~~~~~~"
   ]
  },
  {
   "cell_type": "code",
   "execution_count": 15,
   "metadata": {
    "id": "lZbe-zIQqmUf"
   },
   "outputs": [
    {
     "name": "stdout",
     "output_type": "stream",
     "text": [
      "PCPSolver Ver 0.0.3 by Ling Zhao (zhao@cs.ualberta.ca) Nov 16, 2003\r\n",
      "\r\n",
      "pcp  : Solving tool for instances of Post's correspondence problem\r\n",
      "\r\n",
      "Usage: 1. Solve PCP instances in a file:\r\n",
      "          pcp -d depth -di inc -r run -i inputfile -o outputfile -ni\r\n",
      "\r\n",
      "       2. Scan a PCP subclass:\r\n",
      "          pcp -scan -s size -w width -d depth\r\n",
      "\r\n",
      "       3. Randomly generate difficult solvable instances:\r\n",
      "          pcp -ran -s size -w width -d depth -t times -l sol_lim\r\n",
      "              -o ofilename\r\n",
      "\r\n",
      "          run     - number of runs\r\n",
      "          ni      - no iterative search\r\n",
      "          di      - depth increment\r\n",
      "          depth   - search depth\r\n",
      "          times   - number of instances to be tried\r\n",
      "          sol_lim - min optimal solution length (only instances satisfying\r\n",
      "                    it will be recorded)\r\n",
      "\r\n"
     ]
    }
   ],
   "source": [
    "!../pcb -h"
   ]
  },
  {
   "cell_type": "markdown",
   "metadata": {
    "id": "8W41_rOdEJPM"
   },
   "source": [
    "## TODO Exercises from the Book"
   ]
  },
  {
   "cell_type": "markdown",
   "metadata": {
    "id": "c38WWJ34EL7b"
   },
   "source": [
    "Please do the following Chapter 15 exercises (comments from Ganesh):"
   ]
  },
  {
   "cell_type": "markdown",
   "metadata": {
    "id": "ZiIwjVfHEMRk"
   },
   "source": [
    "### Exercise 15.2.3.1"
   ]
  },
  {
   "cell_type": "markdown",
   "metadata": {
    "id": "dP5E_y2zoZPY"
   },
   "source": [
    "Using the PCP solver in Jove, determine the\n",
    "optimal solution length for the PCP instance\n",
    "$[(100,1), (0,100), (1,0)].$\n",
    "\n"
   ]
  },
  {
   "cell_type": "markdown",
   "metadata": {
    "id": "xae9rMaYEt58"
   },
   "source": [
    "Comment: This exercise is a warmup and encourages the use of the tool."
   ]
  },
  {
   "cell_type": "markdown",
   "metadata": {},
   "source": [
    "#### Kyle's PCP Code:"
   ]
  },
  {
   "cell_type": "code",
   "execution_count": 24,
   "metadata": {},
   "outputs": [
    {
     "name": "stdout",
     "output_type": "stream",
     "text": [
      "3 3 206 1\n",
      "100 0 1\n",
      "1 100 0\n",
      "PCPSolver Ver 0.0.3 by Ling Zhao (zhao@cs.ualberta.ca) Nov 16, 2003\n",
      "\n",
      "Solve instances in file pcp.in\n",
      "(solvable => pcp.out, unsolvable => nosol.txt, unsolved => unsol.txt):\n",
      "\n",
      "Parameters: \n",
      "  Clock per second: 1000000\n",
      "  Cache size      : 8192\n",
      "  Hash table size : 262144\n",
      "  Iterative depth : 1\n",
      "  Maximum depth   : 100\n",
      "\n",
      "\n",
      "Solve instances:\n",
      "1\n",
      "Search to depth: 1\n",
      "node 1 0\n",
      "Search to depth: 2\n",
      "node 1 0\n",
      "Search to depth: 3\n",
      "node 2 0\n",
      "Search to depth: 4\n",
      "node 3 0\n",
      "Search to depth: 5\n",
      "node 4 0\n",
      "Search to depth: 6\n",
      "node 5 0\n",
      "Search to depth: 7\n",
      "node 5 0\n",
      "Search to depth: 8\n",
      "node 9 1\n",
      "Search to depth: 9\n",
      "node 9 1\n",
      "Search to depth: 10\n",
      "node 11 1\n",
      "Search to depth: 11\n",
      "node 13 1\n",
      "Search to depth: 12\n",
      "node 18 2\n",
      "Search to depth: 13\n",
      "node 21 2\n",
      "Search to depth: 14\n",
      "node 23 2\n",
      "Search to depth: 15\n",
      "node 27 2\n",
      "Search to depth: 16\n",
      "node 32 2\n",
      "Search to depth: 17\n",
      "node 34 2\n",
      "Search to depth: 18\n",
      "node 37 2\n",
      "Search to depth: 19\n",
      "node 40 2\n",
      "Search to depth: 20\n",
      "node 49 3\n",
      "Search to depth: 21\n",
      "node 53 3\n",
      "Search to depth: 22\n",
      "node 58 3\n",
      "Search to depth: 23\n",
      "node 66 3\n",
      "Search to depth: 24\n",
      "node 80 3\n",
      "Search to depth: 25\n",
      "node 92 4\n",
      "Search to depth: 26\n",
      "node 103 4\n",
      "Search to depth: 27\n",
      "node 124 4\n",
      "Search to depth: 28\n",
      "node 152 6\n",
      "Search to depth: 29\n",
      "node 179 7\n",
      "Search to depth: 30\n",
      "node 212 9\n",
      "Search to depth: 31\n",
      "node 256 9\n",
      "Search to depth: 32\n",
      "node 327 12\n",
      "Search to depth: 33\n",
      "node 378 14\n",
      "Search to depth: 34\n",
      "node 451 15\n",
      "Search to depth: 35\n",
      "node 537 16\n",
      "Search to depth: 36\n",
      "node 661 20\n",
      "Search to depth: 37\n",
      "node 781 24\n",
      "Search to depth: 38\n",
      "node 906 27\n",
      "Search to depth: 39\n",
      "node 1085 30\n",
      "Search to depth: 40\n",
      "node 1290 33\n",
      "Search to depth: 41\n",
      "node 1527 38\n",
      "Search to depth: 42\n",
      "node 1786 51\n",
      "Search to depth: 43\n",
      "node 2112 55\n",
      "Search to depth: 44\n",
      "node 2506 60\n",
      "Search to depth: 45\n",
      "node 2985 75\n",
      "Search to depth: 46\n",
      "node 3517 98\n",
      "Search to depth: 47\n",
      "node 4137 108\n",
      "Search to depth: 48\n",
      "node 4885 114\n",
      "Search to depth: 49\n",
      "node 5875 150\n",
      "Search to depth: 50\n",
      "node 6872 185\n",
      "Search to depth: 51\n",
      "node 8054 203\n",
      "Search to depth: 52\n",
      "node 9499 233\n",
      "Search to depth: 53\n",
      "node 11386 278\n",
      "Search to depth: 54\n",
      "node 13293 335\n",
      "Search to depth: 55\n",
      "node 15764 365\n",
      "Search to depth: 56\n",
      "node 18978 422\n",
      "Search to depth: 57\n",
      "node 23512 409\n",
      "Search to depth: 58\n",
      "node 27629 463\n",
      "Search to depth: 59\n",
      "node 31852 538\n",
      "Search to depth: 60\n",
      "node 37666 647\n",
      "Search to depth: 61\n",
      "node 45069 715\n",
      "Search to depth: 62\n",
      "node 53358 800\n",
      "Search to depth: 63\n",
      "node 63954 917\n",
      "Search to depth: 64\n",
      "node 75024 1045\n",
      "Search to depth: 65\n",
      "node 88716 1126\n",
      "Search to depth: 66\n",
      "node 105937 1284\n",
      "Search to depth: 67\n",
      "node 126730 1471\n",
      "Search to depth: 68\n",
      "node 148998 1728\n",
      "Search to depth: 69\n",
      "node 183511 1877\n",
      "Search to depth: 70\n",
      "node 247381 1753\n",
      "Search to depth: 71\n",
      "node 291651 1994\n",
      "Search to depth: 72\n",
      "node 342291 2367\n",
      "Search to depth: 73\n",
      "node 386493 2606\n",
      "Search to depth: 74\n",
      "node 451617 2875\n",
      "Search to depth: 75\n",
      "node 536449 3438\n",
      "\n",
      "Total nodes searched: 3389149\n",
      "1 instances:\n",
      "  1 solvable.\n",
      "  0 unsolvable.\n",
      "  0 unsolved.\n",
      "time: 0.124910\n",
      "\n",
      "Total time spent: 0 seconds.\n",
      " Instance 1:\n",
      "3 3 75 2 0.124712\n",
      "100  0    1    \n",
      "1    100  0    \n",
      "\n",
      "Solvable!\n",
      "\n",
      " 1 0 0\n",
      " 0 1 0\n",
      "Gcd: 2\n",
      "Original Direction: downmask \n",
      "Reverse Direction: upmask \n",
      "Visited node in original direction: 1290\n",
      "Visited node in reverse direction: 1882\n",
      "Choose the original direction:\n",
      "Find the solution in depth: 75 (depth threshold: 75)\n",
      "  1  3  3  1  1  2  1  3  3  3  2  1  1  1  3  2  1  3  3  2\n",
      "  1  3  2  1  1  3  2  1  3  1  3  3  2  1  3  2  1  1  3  3\n",
      "  1  1  3  2  1  3  2  2  1  1  2  2  1  3  2  2  2  2  3  3\n",
      "  2  2  3  3  1  2  1  1  2  3  2  2  3  2  2\n",
      "Find the solution in depth: 75 (depth threshold: 75)\n",
      "  1  3  3  1  1  2  1  3  3  3  2  1  1  1  3  1  3  3  2  2\n",
      "  1  2  1  2  2  3  1  3  3  3  3  1  2  1  1  1  1  2  3  2\n",
      "  1  3  3  2  2  3  1  3  2  1  2  1  1  3  3  1  3  2  3  2\n",
      "  2  1  1  2  1  3  2  2  2  3  2  2  3  2  2\n",
      "Time spent: 0.124712 seconds.\n",
      "\n",
      "\n",
      "visited node: 3389149, last iteration: 536449\n",
      "cutoff node : 31092, last iteration: 3438\n",
      "time: 0.124712, last iteration: 0.019422\n",
      "Search speed: 27.176M/s, laster iteration: 27.621M/s\n",
      "\n",
      "Total nodes searched: 3389149\n"
     ]
    }
   ],
   "source": [
    "pcp_instance = [(\"100\",\"1\"),(\"0\",\"100\"),(\"1\",\"0\")]\n",
    "\n",
    "transpose = lambda l:[*zip(*l)]\n",
    "\n",
    "table = transpose(pcp_instance)\n",
    "\n",
    "def pcp_input_file_maker(table,depth,di):\n",
    "  size = len(table[0])\n",
    "  width = max(*map(lambda t:max([*map(len,t)]),table))\n",
    "  top_row = ' '.join(table[0])\n",
    "  bottom_row = ' '.join(table[1])\n",
    "  f = open(\"pcp.in\",\"w\")\n",
    "  f.write(f\"{size} {width} {depth} {di}\\n{top_row}\\n{bottom_row}\\n\")\n",
    "  f.close()\n",
    "\n",
    "pcp_input_file_maker(table,206,1)\n",
    "\n",
    "!cat pcp.in\n",
    "!../pcp -i pcp.in -o pcp.out -di 1 -d 100\n",
    "!cat pcp.out"
   ]
  },
  {
   "cell_type": "markdown",
   "metadata": {},
   "source": [
    "The optimal solution appears to be 75 tiles in length, while any other solution uses more tiles. The PCP code is checking in depth incremements of 1 so we don't skip a depth level where another solution might be hiding."
   ]
  },
  {
   "cell_type": "markdown",
   "metadata": {
    "id": "q93Y92NjEuOW"
   },
   "source": [
    "### Exercise 15.2.3.4"
   ]
  },
  {
   "cell_type": "markdown",
   "metadata": {
    "id": "E_l1m_fTrCu6"
   },
   "source": [
    "Answer the following questions with respect to \n",
    " the unary PCP instance:\n",
    "\n",
    "1. Using Jove, solve the following unary PCP instance (i.e., where the alphabet is a singleton, namely $\\{0\\}$): $[(000,00), (0,0000), (0000,000), (0,0000), (000000,0)].$\n",
    "2. Argue that the unary PCP problem --- PCP over a singleton alphabet ($|\\Sigma|=1$) --- is decidable. Do it in two stages:\n",
    "\n",
    "> (a) Suppose for all tiles $T_i$ in the unary PCP instance we have $len(T_i[0]) < len(T_i[1])$ or $len(T_i[0]) > len(T_i[1])$. Then what can you say about the unary PCP instance's solutions?\n",
    "\n",
    "> (b) Suppose the above condition does not hold; that is, there are two distinct tiles $T_j$ and $T_k$ in the instance with $len(T_j[0]) < len(T_j[1])$ and $len(T_k[0]) > len(T_k[1])$. Then what can you say about the unary PCP instance's solutions?"
   ]
  },
  {
   "cell_type": "markdown",
   "metadata": {},
   "source": [
    "#### Work for 1:"
   ]
  },
  {
   "cell_type": "code",
   "execution_count": 29,
   "metadata": {},
   "outputs": [
    {
     "name": "stdout",
     "output_type": "stream",
     "text": [
      "5 6 400 1\n",
      "000 0 0000 0 000000\n",
      "00 0000 000 0000 0\n",
      "PCPSolver Ver 0.0.3 by Ling Zhao (zhao@cs.ualberta.ca) Nov 16, 2003\n",
      "\n",
      "Solve instances in file pcp.in\n",
      "(solvable => pcp.out, unsolvable => nosol.txt, unsolved => unsol.txt):\n",
      "\n",
      "Parameters: \n",
      "  Clock per second: 1000000\n",
      "  Cache size      : 8192\n",
      "  Hash table size : 262144\n",
      "  Iterative depth : 20\n",
      "  Maximum depth   : 320\n",
      "\n",
      "\n",
      "Solve instances:\n",
      "1\n",
      "Search to depth: 20\n",
      "node 150 25\n",
      "\n",
      "Total nodes searched: 150\n",
      "1 instances:\n",
      "  1 solvable.\n",
      "  0 unsolvable.\n",
      "  0 unsolved.\n",
      "time: 0.000676\n",
      "\n",
      "Total time spent: 0 seconds.\n",
      " Instance 1:\n",
      "5 6 4 160 0.000492\n",
      "000     0       0000    0       000000  \n",
      "00      0000    000     0000    0       \n",
      "\n",
      "Solvable!\n",
      "\n",
      " 1 1 1 1 1\n",
      " 1 1 1 1 1\n",
      "Gcd: 1\n",
      "Visited node in original direction: 150\n",
      "Visited node in reverse direction: 150\n",
      "Choose the original direction:\n",
      "Find the solution in depth: 4 (depth threshold: 20)\n",
      "  1  1  2  1\n",
      "Find the solution in depth: 4 (depth threshold: 4)\n",
      "  1  1  2  3\n",
      "Find the solution in depth: 4 (depth threshold: 4)\n",
      "  1  1  4  1\n",
      "Find the solution in depth: 4 (depth threshold: 4)\n",
      "  1  1  4  3\n",
      "Find the solution in depth: 4 (depth threshold: 4)\n",
      "  1  1  3  2\n",
      "Find the solution in depth: 4 (depth threshold: 4)\n",
      "  1  1  3  4\n",
      "Find the solution in depth: 4 (depth threshold: 4)\n",
      "  1  1  1  2\n",
      "Find the solution in depth: 4 (depth threshold: 4)\n",
      "  1  1  1  4\n",
      "Find the solution in depth: 4 (depth threshold: 4)\n",
      "  1  2  1  1\n",
      "Find the solution in depth: 4 (depth threshold: 4)\n",
      "  1  2  1  3\n",
      "Find the solution in depth: 4 (depth threshold: 4)\n",
      "  1  2  3  1\n",
      "Find the solution in depth: 4 (depth threshold: 4)\n",
      "  1  2  3  3\n",
      "Find the solution in depth: 4 (depth threshold: 4)\n",
      "  1  2  5  2\n",
      "Find the solution in depth: 4 (depth threshold: 4)\n",
      "  1  2  5  4\n",
      "Find the solution in depth: 4 (depth threshold: 4)\n",
      "  1  2  4  5\n",
      "Find the solution in depth: 4 (depth threshold: 4)\n",
      "  1  2  2  5\n",
      "Find the solution in depth: 4 (depth threshold: 4)\n",
      "  1  3  2  1\n",
      "Find the solution in depth: 4 (depth threshold: 4)\n",
      "  1  3  2  3\n",
      "Find the solution in depth: 4 (depth threshold: 4)\n",
      "  1  3  4  1\n",
      "Find the solution in depth: 4 (depth threshold: 4)\n",
      "  1  3  4  3\n",
      "Find the solution in depth: 4 (depth threshold: 4)\n",
      "  1  3  3  2\n",
      "Find the solution in depth: 4 (depth threshold: 4)\n",
      "  1  3  3  4\n",
      "Find the solution in depth: 4 (depth threshold: 4)\n",
      "  1  3  1  2\n",
      "Find the solution in depth: 4 (depth threshold: 4)\n",
      "  1  3  1  4\n",
      "Find the solution in depth: 4 (depth threshold: 4)\n",
      "  1  4  1  1\n",
      "Find the solution in depth: 4 (depth threshold: 4)\n",
      "  1  4  1  3\n",
      "Find the solution in depth: 4 (depth threshold: 4)\n",
      "  1  4  3  1\n",
      "Find the solution in depth: 4 (depth threshold: 4)\n",
      "  1  4  3  3\n",
      "Find the solution in depth: 4 (depth threshold: 4)\n",
      "  1  4  5  2\n",
      "Find the solution in depth: 4 (depth threshold: 4)\n",
      "  1  4  5  4\n",
      "Find the solution in depth: 4 (depth threshold: 4)\n",
      "  1  4  4  5\n",
      "Find the solution in depth: 4 (depth threshold: 4)\n",
      "  1  4  2  5\n",
      "Find the solution in depth: 4 (depth threshold: 4)\n",
      "  1  5  2  2\n",
      "Find the solution in depth: 4 (depth threshold: 4)\n",
      "  1  5  2  4\n",
      "Find the solution in depth: 4 (depth threshold: 4)\n",
      "  1  5  4  2\n",
      "Find the solution in depth: 4 (depth threshold: 4)\n",
      "  1  5  4  4\n",
      "Find the solution in depth: 4 (depth threshold: 4)\n",
      "  2  1  1  1\n",
      "Find the solution in depth: 4 (depth threshold: 4)\n",
      "  2  1  1  3\n",
      "Find the solution in depth: 4 (depth threshold: 4)\n",
      "  2  1  3  1\n",
      "Find the solution in depth: 4 (depth threshold: 4)\n",
      "  2  1  3  3\n",
      "Find the solution in depth: 4 (depth threshold: 4)\n",
      "  2  1  5  2\n",
      "Find the solution in depth: 4 (depth threshold: 4)\n",
      "  2  1  5  4\n",
      "Find the solution in depth: 4 (depth threshold: 4)\n",
      "  2  1  4  5\n",
      "Find the solution in depth: 4 (depth threshold: 4)\n",
      "  2  1  2  5\n",
      "Find the solution in depth: 4 (depth threshold: 4)\n",
      "  2  3  1  1\n",
      "Find the solution in depth: 4 (depth threshold: 4)\n",
      "  2  3  1  3\n",
      "Find the solution in depth: 4 (depth threshold: 4)\n",
      "  2  3  3  1\n",
      "Find the solution in depth: 4 (depth threshold: 4)\n",
      "  2  3  3  3\n",
      "Find the solution in depth: 4 (depth threshold: 4)\n",
      "  2  3  5  2\n",
      "Find the solution in depth: 4 (depth threshold: 4)\n",
      "  2  3  5  4\n",
      "Find the solution in depth: 4 (depth threshold: 4)\n",
      "  2  3  4  5\n",
      "Find the solution in depth: 4 (depth threshold: 4)\n",
      "  2  3  2  5\n",
      "Find the solution in depth: 4 (depth threshold: 4)\n",
      "  2  5  2  1\n",
      "Find the solution in depth: 4 (depth threshold: 4)\n",
      "  2  5  2  3\n",
      "Find the solution in depth: 4 (depth threshold: 4)\n",
      "  2  5  4  1\n",
      "Find the solution in depth: 4 (depth threshold: 4)\n",
      "  2  5  4  3\n",
      "Find the solution in depth: 4 (depth threshold: 4)\n",
      "  2  5  3  2\n",
      "Find the solution in depth: 4 (depth threshold: 4)\n",
      "  2  5  3  4\n",
      "Find the solution in depth: 4 (depth threshold: 4)\n",
      "  2  5  1  2\n",
      "Find the solution in depth: 4 (depth threshold: 4)\n",
      "  2  5  1  4\n",
      "Find the solution in depth: 4 (depth threshold: 4)\n",
      "  2  4  5  1\n",
      "Find the solution in depth: 4 (depth threshold: 4)\n",
      "  2  4  5  3\n",
      "Find the solution in depth: 4 (depth threshold: 4)\n",
      "  2  4  3  5\n",
      "Find the solution in depth: 4 (depth threshold: 4)\n",
      "  2  4  1  5\n",
      "Find the solution in depth: 4 (depth threshold: 4)\n",
      "  2  2  5  1\n",
      "Find the solution in depth: 4 (depth threshold: 4)\n",
      "  2  2  5  3\n",
      "Find the solution in depth: 4 (depth threshold: 4)\n",
      "  2  2  3  5\n",
      "Find the solution in depth: 4 (depth threshold: 4)\n",
      "  2  2  1  5\n",
      "Find the solution in depth: 4 (depth threshold: 4)\n",
      "  3  1  2  1\n",
      "Find the solution in depth: 4 (depth threshold: 4)\n",
      "  3  1  2  3\n",
      "Find the solution in depth: 4 (depth threshold: 4)\n",
      "  3  1  4  1\n",
      "Find the solution in depth: 4 (depth threshold: 4)\n",
      "  3  1  4  3\n",
      "Find the solution in depth: 4 (depth threshold: 4)\n",
      "  3  1  3  2\n",
      "Find the solution in depth: 4 (depth threshold: 4)\n",
      "  3  1  3  4\n",
      "Find the solution in depth: 4 (depth threshold: 4)\n",
      "  3  1  1  2\n",
      "Find the solution in depth: 4 (depth threshold: 4)\n",
      "  3  1  1  4\n",
      "Find the solution in depth: 4 (depth threshold: 4)\n",
      "  3  2  1  1\n",
      "Find the solution in depth: 4 (depth threshold: 4)\n",
      "  3  2  1  3\n",
      "Find the solution in depth: 4 (depth threshold: 4)\n",
      "  3  2  3  1\n",
      "Find the solution in depth: 4 (depth threshold: 4)\n",
      "  3  2  3  3\n",
      "Find the solution in depth: 4 (depth threshold: 4)\n",
      "  3  2  5  2\n",
      "Find the solution in depth: 4 (depth threshold: 4)\n",
      "  3  2  5  4\n",
      "Find the solution in depth: 4 (depth threshold: 4)\n",
      "  3  2  4  5\n",
      "Find the solution in depth: 4 (depth threshold: 4)\n",
      "  3  2  2  5\n",
      "Find the solution in depth: 4 (depth threshold: 4)\n",
      "  3  3  2  1\n",
      "Find the solution in depth: 4 (depth threshold: 4)\n",
      "  3  3  2  3\n",
      "Find the solution in depth: 4 (depth threshold: 4)\n",
      "  3  3  4  1\n",
      "Find the solution in depth: 4 (depth threshold: 4)\n",
      "  3  3  4  3\n",
      "Find the solution in depth: 4 (depth threshold: 4)\n",
      "  3  3  3  2\n",
      "Find the solution in depth: 4 (depth threshold: 4)\n",
      "  3  3  3  4\n",
      "Find the solution in depth: 4 (depth threshold: 4)\n",
      "  3  3  1  2\n",
      "Find the solution in depth: 4 (depth threshold: 4)\n",
      "  3  3  1  4\n",
      "Find the solution in depth: 4 (depth threshold: 4)\n",
      "  3  4  1  1\n",
      "Find the solution in depth: 4 (depth threshold: 4)\n",
      "  3  4  1  3\n",
      "Find the solution in depth: 4 (depth threshold: 4)\n",
      "  3  4  3  1\n",
      "Find the solution in depth: 4 (depth threshold: 4)\n",
      "  3  4  3  3\n",
      "Find the solution in depth: 4 (depth threshold: 4)\n",
      "  3  4  5  2\n",
      "Find the solution in depth: 4 (depth threshold: 4)\n",
      "  3  4  5  4\n",
      "Find the solution in depth: 4 (depth threshold: 4)\n",
      "  3  4  4  5\n",
      "Find the solution in depth: 4 (depth threshold: 4)\n",
      "  3  4  2  5\n",
      "Find the solution in depth: 4 (depth threshold: 4)\n",
      "  3  5  2  2\n",
      "Find the solution in depth: 4 (depth threshold: 4)\n",
      "  3  5  2  4\n",
      "Find the solution in depth: 4 (depth threshold: 4)\n",
      "  3  5  4  2\n",
      "Find the solution in depth: 4 (depth threshold: 4)\n",
      "  3  5  4  4\n",
      "Find the solution in depth: 4 (depth threshold: 4)\n",
      "  4  1  1  1\n",
      "Find the solution in depth: 4 (depth threshold: 4)\n",
      "  4  1  1  3\n",
      "Find the solution in depth: 4 (depth threshold: 4)\n",
      "  4  1  3  1\n",
      "Find the solution in depth: 4 (depth threshold: 4)\n",
      "  4  1  3  3\n",
      "Find the solution in depth: 4 (depth threshold: 4)\n",
      "  4  1  5  2\n",
      "Find the solution in depth: 4 (depth threshold: 4)\n",
      "  4  1  5  4\n",
      "Find the solution in depth: 4 (depth threshold: 4)\n",
      "  4  1  4  5\n",
      "Find the solution in depth: 4 (depth threshold: 4)\n",
      "  4  1  2  5\n",
      "Find the solution in depth: 4 (depth threshold: 4)\n",
      "  4  3  1  1\n",
      "Find the solution in depth: 4 (depth threshold: 4)\n",
      "  4  3  1  3\n",
      "Find the solution in depth: 4 (depth threshold: 4)\n",
      "  4  3  3  1\n",
      "Find the solution in depth: 4 (depth threshold: 4)\n",
      "  4  3  3  3\n",
      "Find the solution in depth: 4 (depth threshold: 4)\n",
      "  4  3  5  2\n",
      "Find the solution in depth: 4 (depth threshold: 4)\n",
      "  4  3  5  4\n",
      "Find the solution in depth: 4 (depth threshold: 4)\n",
      "  4  3  4  5\n",
      "Find the solution in depth: 4 (depth threshold: 4)\n",
      "  4  3  2  5\n",
      "Find the solution in depth: 4 (depth threshold: 4)\n",
      "  4  5  2  1\n",
      "Find the solution in depth: 4 (depth threshold: 4)\n",
      "  4  5  2  3\n",
      "Find the solution in depth: 4 (depth threshold: 4)\n",
      "  4  5  4  1\n",
      "Find the solution in depth: 4 (depth threshold: 4)\n",
      "  4  5  4  3\n",
      "Find the solution in depth: 4 (depth threshold: 4)\n",
      "  4  5  3  2\n",
      "Find the solution in depth: 4 (depth threshold: 4)\n",
      "  4  5  3  4\n",
      "Find the solution in depth: 4 (depth threshold: 4)\n",
      "  4  5  1  2\n",
      "Find the solution in depth: 4 (depth threshold: 4)\n",
      "  4  5  1  4\n",
      "Find the solution in depth: 4 (depth threshold: 4)\n",
      "  4  4  5  1\n",
      "Find the solution in depth: 4 (depth threshold: 4)\n",
      "  4  4  5  3\n",
      "Find the solution in depth: 4 (depth threshold: 4)\n",
      "  4  4  3  5\n",
      "Find the solution in depth: 4 (depth threshold: 4)\n",
      "  4  4  1  5\n",
      "Find the solution in depth: 4 (depth threshold: 4)\n",
      "  4  2  5  1\n",
      "Find the solution in depth: 4 (depth threshold: 4)\n",
      "  4  2  5  3\n",
      "Find the solution in depth: 4 (depth threshold: 4)\n",
      "  4  2  3  5\n",
      "Find the solution in depth: 4 (depth threshold: 4)\n",
      "  4  2  1  5\n",
      "Find the solution in depth: 4 (depth threshold: 4)\n",
      "  5  2  2  1\n",
      "Find the solution in depth: 4 (depth threshold: 4)\n",
      "  5  2  2  3\n",
      "Find the solution in depth: 4 (depth threshold: 4)\n",
      "  5  2  4  1\n",
      "Find the solution in depth: 4 (depth threshold: 4)\n",
      "  5  2  4  3\n",
      "Find the solution in depth: 4 (depth threshold: 4)\n",
      "  5  2  3  2\n",
      "Find the solution in depth: 4 (depth threshold: 4)\n",
      "  5  2  3  4\n",
      "Find the solution in depth: 4 (depth threshold: 4)\n",
      "  5  2  1  2\n",
      "Find the solution in depth: 4 (depth threshold: 4)\n",
      "  5  2  1  4\n",
      "Find the solution in depth: 4 (depth threshold: 4)\n",
      "  5  4  2  1\n",
      "Find the solution in depth: 4 (depth threshold: 4)\n",
      "  5  4  2  3\n",
      "Find the solution in depth: 4 (depth threshold: 4)\n",
      "  5  4  4  1\n",
      "Find the solution in depth: 4 (depth threshold: 4)\n",
      "  5  4  4  3\n",
      "Find the solution in depth: 4 (depth threshold: 4)\n",
      "  5  4  3  2\n",
      "Find the solution in depth: 4 (depth threshold: 4)\n",
      "  5  4  3  4\n",
      "Find the solution in depth: 4 (depth threshold: 4)\n",
      "  5  4  1  2\n",
      "Find the solution in depth: 4 (depth threshold: 4)\n",
      "  5  4  1  4\n",
      "Find the solution in depth: 4 (depth threshold: 4)\n",
      "  5  3  2  2\n",
      "Find the solution in depth: 4 (depth threshold: 4)\n",
      "  5  3  2  4\n",
      "Find the solution in depth: 4 (depth threshold: 4)\n",
      "  5  3  4  2\n",
      "Find the solution in depth: 4 (depth threshold: 4)\n",
      "  5  3  4  4\n",
      "Find the solution in depth: 4 (depth threshold: 4)\n",
      "  5  1  2  2\n",
      "Find the solution in depth: 4 (depth threshold: 4)\n",
      "  5  1  2  4\n",
      "Find the solution in depth: 4 (depth threshold: 4)\n",
      "  5  1  4  2\n",
      "Find the solution in depth: 4 (depth threshold: 4)\n",
      "  5  1  4  4\n",
      "Time spent: 0.000492 seconds.\n",
      "\n",
      "\n",
      "visited node: 150, last iteration: 150\n",
      "cutoff node : 25, last iteration: 25\n",
      "time: 0.000492, last iteration: 0.000145\n",
      "Search speed: 0.305M/s, laster iteration: 1.034M/s\n",
      "\n",
      "Total nodes searched: 150\n"
     ]
    }
   ],
   "source": [
    "unary_pcp = [(\"000\", \"00\"), (\"0\", \"0000\"), (\"0000\", \"000\"), (\"0\", \"0000\"), (\"000000\", \"0\")]\n",
    "unary_table = transpose(unary_pcp)\n",
    "pcp_input_file_maker(unary_table,400,1)\n",
    "\n",
    "!cat pcp.in\n",
    "!../pcp -i pcp.in -o pcp.out\n",
    "!cat pcp.out"
   ]
  },
  {
   "cell_type": "markdown",
   "metadata": {},
   "source": [
    "#### Work for 2:"
   ]
  },
  {
   "cell_type": "markdown",
   "metadata": {},
   "source": [
    "a. If the condition of $len(T_i[0]) < len(T_i[1])$ or $len(T_i[0]) > len(T_i[1])$ is satisfied for a given PCP set of tiles, then no solution can exist.\n",
    "\n",
    "b. If the condition is not met, then there must be at least one unique solution to the problem along with infinitely many more by simply concatenating a unique solution multiple times. Multiple unique solutions can also be concatenated together. Kyle notes that unique solutions could be compared to prime numbers while the concatenated solutions could be compared to compound numbers."
   ]
  },
  {
   "cell_type": "markdown",
   "metadata": {
    "id": "Zv13bKO_ExoU"
   },
   "source": [
    "### Exercise 15.2.3.5"
   ]
  },
  {
   "cell_type": "markdown",
   "metadata": {},
   "source": [
    "Here is how we can build a mapping reduction from PCP to CFG grammar ambiguity; please fill in missing steps (if any) and argue that the mapping reduction actually works (achieves its purpose). Let\n",
    "\n",
    "$$A = w_1,w_2,...,w_n$$\n",
    "\n",
    "and\n",
    "\n",
    "$$B=x_1,x_2,...,x_n$$\n",
    "\n",
    "be two lists of words over a finite alphabet $\\Sigma$. Let $a_1,a_2,...,a_n$ be symbols that do not appear in any of the $w_i$ or $x_i$. Let $G$ be a CFG\n",
    "\n",
    "$$(\\{S,S_A,S_B\\},\\Sigma \\cup \\{a_1,...,a_n\\},P,S),$$\n",
    "\n",
    "where $P$ contains the productions\n",
    "\n",
    "$S \\rightarrow S_A,$\n",
    "\n",
    "$S \\rightarrow S_B,$\n",
    "\n",
    "For $1 \\le i \\le n, S_A \\rightarrow w_{i}S_{A}a_{i}$\n",
    "\n",
    "For $1 \\le i \\le n, S_A \\rightarrow w_{i}a_{i}$\n",
    "\n",
    "For $1 \\le i \\le n, S_B \\rightarrow x_{i}S_{B}a_{i}$, and\n",
    "\n",
    "For $1 \\le i \\le n, S_B \\rightarrow x_{i}a_{i}$.\n",
    "\n",
    "#### The missing link\n",
    "The current explanation fails to show why this CFG is the result of or the mapping reduction of the PCP problem to the CFG grammar. Mainly, it should be specified that A and B are the tops and bottems of the tiles in a given PCP instance. If A and B are a solution, then the grammar is satisfied. The reason why it works is because of the question and statement below.\n",
    "\n",
    "Now, argue that $G$ is ambiguous if and only if the PCP instance $(A,B)$ has a solution (thus, we may view the process of going from $(A,B)$ to $G$ as a mapping reduction).\n",
    "\n",
    "#### The Argument\n",
    "\n",
    "If the PCP instance has a solution, then the rules of $S_A$ and $S_B$ will result in valid solutions to the grammer with the given inputs of A and B. This means that for that given input, their will be two valid parse trees for this CFG grammar for a single input instance. If A and B aren't a solution to the PCP problem, then only one of S_A or S_B will be the correct \"path\" if any exist."
   ]
  },
  {
   "cell_type": "markdown",
   "metadata": {
    "id": "zUHkPEUQE0rP"
   },
   "source": [
    "### Exercise 15.5.1.3"
   ]
  },
  {
   "cell_type": "markdown",
   "metadata": {},
   "source": [
    "In 15.5, we described a mapping reduction from $A_{TM}$ to $Halt_{TM}$ by producing a machine $M'$ such that checking for the halting of $M'$ on input $w$ is tantamount to checking whether the original machine $M$ accepts $w$. In the same vein, describe a mapping reduction from $Halt_{TM}$ to $A_{TM}$ by producing a machine $M\"$ such that checking whether $M\"$ accepts $w$ is tantamount to answering whether $M$ halts on $w$. $\\textbf{Hint:}$ Make a copy $M_C$ of $M$, and modify the accept or reject label (figure out which) of $M_C$ suitably. Now, amalgamate both machines $M$ and $M_C$ into one single machine (call it $M_{combined}$) such that essentially both machines get run."
   ]
  },
  {
   "cell_type": "markdown",
   "metadata": {
    "id": "_mXGzB4OE6lg"
   },
   "source": [
    "Comment: This exercise is good, as it builds on something already done, and it shows how \"label surgery\" on a TM is done."
   ]
  },
  {
   "cell_type": "markdown",
   "metadata": {},
   "source": [
    "#### Student's note\n",
    "After some time together, Kyle and I didn't really figure this out in time. Thankfully we have been working together a lot more this week."
   ]
  },
  {
   "cell_type": "markdown",
   "metadata": {
    "id": "93YbY3EDE64f"
   },
   "source": [
    "### Exercise 15.5.1.5"
   ]
  },
  {
   "cell_type": "markdown",
   "metadata": {},
   "source": [
    "Define\n",
    "\n",
    "$CFL_{TM} = \\{\\langle M \\rangle : M $ is a TM whose language is context-free.$\\}$\n",
    "\n",
    "Specify a mapping reduction from $A_{TM}$ to $CFL_{TM}$. Please take ideas from the construction in Figure 15.10.\n"
   ]
  },
  {
   "cell_type": "markdown",
   "metadata": {
    "id": "S1SIFmS6E8le"
   },
   "source": [
    "Comment: This exercise is good and not that hard (resembles Fig 15.10) as it does cause some mental pushups to be exercised."
   ]
  }
 ],
 "metadata": {
  "colab": {
   "authorship_tag": "ABX9TyP2n8+4bzBNX5BPl8ojTxmo",
   "include_colab_link": true,
   "name": "10_2_Ponder_and_Prove_the_Post_Correspondence_Problem.ipynb",
   "provenance": []
  },
  "kernelspec": {
   "display_name": "Python 3",
   "language": "python",
   "name": "python3"
  },
  "language_info": {
   "codemirror_mode": {
    "name": "ipython",
    "version": 3
   },
   "file_extension": ".py",
   "mimetype": "text/x-python",
   "name": "python",
   "nbconvert_exporter": "python",
   "pygments_lexer": "ipython3",
   "version": "3.9.2"
  }
 },
 "nbformat": 4,
 "nbformat_minor": 1
}
