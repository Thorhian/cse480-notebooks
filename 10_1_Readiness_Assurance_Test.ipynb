{
 "cells": [
  {
   "cell_type": "markdown",
   "metadata": {
    "colab_type": "text",
    "id": "view-in-github"
   },
   "source": [
    "<a href=\"https://colab.research.google.com/github/byui-cse/cse480-notebooks/blob/master/10_1_Readiness_Assurance_Test.ipynb\" target=\"_parent\"><img src=\"https://colab.research.google.com/assets/colab-badge.svg\" alt=\"Open In Colab\"/></a>"
   ]
  },
  {
   "cell_type": "markdown",
   "metadata": {
    "id": "jug4eoqslAqU"
   },
   "source": [
    "# Readiness Assurance Test\n",
    "## Computability\n",
    "### Monday, 8 March 2021"
   ]
  },
  {
   "cell_type": "markdown",
   "metadata": {
    "id": "6DtETZpNlVef"
   },
   "source": [
    "Keeping in mind what you have learned about computability, which of four statements below is the best statement or explanation for classifying the following function as computable or not computable?"
   ]
  },
  {
   "cell_type": "markdown",
   "metadata": {
    "id": "1SBaBrfSlHVy"
   },
   "source": [
    "Let $T$ be the function from the set of positive integers to $\\{0, 1\\}$ defined by letting $T(n) = 0$ if the number $0$ is in the range of the function computed by the $n^{th}$ Turing Machine program (where we list them in numeric order); and letting $T(n) = 1$ otherwise.\n"
   ]
  },
  {
   "cell_type": "markdown",
   "metadata": {
    "id": "KM6Umy4amJ3F"
   },
   "source": [
    "1. The number of Turing Machine programs is countable. Therefore $T$ is computable.\n",
    "2. The function $T$ is computable because Turing Machine programs are listable.\n",
    "3. The function $T$ is not computable because there are an uncountable number of numbers between 0 and 1, but there are only a countable number of programs. Because there is an element in the constraints of this function that is uncountable, $T$ can't compute every element, and thus can't be computable.\n",
    "4. In order for $T$ to be computable the Halting Problem would have to be decidable. The Halting Problem is not decidable, therefore $T$ is not computable."
   ]
  },
  {
   "cell_type": "markdown",
   "metadata": {
    "id": "aNjws7h8mjS7"
   },
   "source": [
    "Enter your answer here."
   ]
  },
  {
   "cell_type": "markdown",
   "metadata": {},
   "source": [
    "The answer would be 4, since you won't know if a given nth turing machine will halt and return 0 or not."
   ]
  }
 ],
 "metadata": {
  "colab": {
   "authorship_tag": "ABX9TyPs8UOamFJ/Mm6oDnEQUyDh",
   "include_colab_link": true,
   "name": "10_1_Readiness_Assurance_Test.ipynb",
   "provenance": []
  },
  "kernelspec": {
   "display_name": "Python 3",
   "language": "python",
   "name": "python3"
  },
  "language_info": {
   "codemirror_mode": {
    "name": "ipython",
    "version": 3
   },
   "file_extension": ".py",
   "mimetype": "text/x-python",
   "name": "python",
   "nbconvert_exporter": "python",
   "pygments_lexer": "ipython3",
   "version": "3.9.2"
  }
 },
 "nbformat": 4,
 "nbformat_minor": 1
}
