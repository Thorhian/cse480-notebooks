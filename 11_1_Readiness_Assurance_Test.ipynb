{
 "cells": [
  {
   "cell_type": "markdown",
   "metadata": {
    "colab_type": "text",
    "id": "view-in-github"
   },
   "source": [
    "<a href=\"https://colab.research.google.com/github/byui-cse/cse480-notebooks/blob/master/11_1_Readiness_Assurance_Test.ipynb\" target=\"_parent\"><img src=\"https://colab.research.google.com/assets/colab-badge.svg\" alt=\"Open In Colab\"/></a>"
   ]
  },
  {
   "cell_type": "markdown",
   "metadata": {
    "id": "aMa2AgML52ze"
   },
   "source": [
    "# Readiness Assurance Test\n",
    "## 15 March 2021"
   ]
  },
  {
   "cell_type": "markdown",
   "metadata": {
    "id": "54mbJDOn_L32"
   },
   "source": [
    "# Answer the Following Questions"
   ]
  },
  {
   "cell_type": "markdown",
   "metadata": {
    "id": "xDxfy-x8_Tn2"
   },
   "source": [
    "## Best Analogy"
   ]
  },
  {
   "cell_type": "markdown",
   "metadata": {
    "id": "HPDsSGym_Xf2"
   },
   "source": [
    "Which of the following is the best analogy for reducing an **old** language to a new one, rather than the other way around, in order to prove undecidability?"
   ]
  },
  {
   "cell_type": "markdown",
   "metadata": {
    "id": "B0drDVYs_sJY"
   },
   "source": [
    "A. Proving an old proven very large number is indeed very large by showing it is less than or equal to a known very large number is futile.\n",
    "\n",
    "B. Proving (by contradiction, following reduction) that IF an existing undecidable language is decidable, THEN we will have shown the new language to be undecidable.\n",
    "\n",
    "C. Proving a **new** purported very large number is indeed very large by showing it is less than or equal to a known very large number is futile.\n",
    "\n",
    "D. Proving (by contradiction, following reduction) that IF an existing decidable language is undecidable, THEN we will have shown the new language to be decidable."
   ]
  },
  {
   "cell_type": "markdown",
   "metadata": {},
   "source": [
    "I am going with A, since even though B is stating that it is a proof by contradiction, the wording is not clear. If A isn't it, just know that B would be my next choice."
   ]
  },
  {
   "cell_type": "markdown",
   "metadata": {
    "id": "aQQyZfw6_vvg"
   },
   "source": [
    "### Enter your answer in the text cell below"
   ]
  },
  {
   "cell_type": "markdown",
   "metadata": {
    "id": "5XZZU5CE_17z"
   },
   "source": []
  },
  {
   "cell_type": "markdown",
   "metadata": {},
   "source": [
    "$a^2$ ????"
   ]
  },
  {
   "cell_type": "markdown",
   "metadata": {
    "id": "aEDPQMYR_2-y"
   },
   "source": [
    "#### Hint"
   ]
  },
  {
   "cell_type": "markdown",
   "metadata": {
    "id": "ZqxWxRbc_49s"
   },
   "source": [
    "Read the footnote on page 2 of the How-to-Create-Mapping-Reductions.pdf document found in the outside chat."
   ]
  },
  {
   "cell_type": "markdown",
   "metadata": {
    "id": "7Zvl4irMAUQU"
   },
   "source": [
    "## Show Understanding"
   ]
  },
  {
   "cell_type": "markdown",
   "metadata": {
    "id": "afaB5rBGAjQl"
   },
   "source": [
    "Remember, another way to say Recursively Enumerable is **Turing-recognizable**. Also, a language is **co-Turing-recognizable** if its **complement** is Turing-recognizable.\n",
    "\n",
    "Use any of the following three theorems as appropriate: "
   ]
  },
  {
   "cell_type": "markdown",
   "metadata": {
    "id": "PL21rGNBA8r6"
   },
   "source": [
    "### Theorem 1"
   ]
  },
  {
   "cell_type": "markdown",
   "metadata": {
    "id": "m_OiyBYoA_5f"
   },
   "source": [
    "A language is decidable iff it is Turing-recognizable and co-Turing-recognizable."
   ]
  },
  {
   "cell_type": "markdown",
   "metadata": {
    "id": "JUBtFh7yBBdR"
   },
   "source": [
    "### Theorem 2"
   ]
  },
  {
   "cell_type": "markdown",
   "metadata": {
    "id": "6NiAZRFVBBdS"
   },
   "source": [
    "If $A \\le_m B$ and $B$ is Turing-recognizable, then $A$ is Turing-recognizable."
   ]
  },
  {
   "cell_type": "markdown",
   "metadata": {
    "id": "Eb54ot48BBpX"
   },
   "source": [
    "### Theorem 3"
   ]
  },
  {
   "cell_type": "markdown",
   "metadata": {
    "id": "hkB7SQkrBBpY"
   },
   "source": [
    "If $L$ is a regular language, and $A$ is mapping reducible to it, then $A$ is decidable."
   ]
  },
  {
   "cell_type": "markdown",
   "metadata": {
    "id": "2qTWkoA6BzrV"
   },
   "source": [
    "### Show NON-mapping reducibility"
   ]
  },
  {
   "cell_type": "markdown",
   "metadata": {
    "id": "rboXuUgOB5QW"
   },
   "source": [
    "Show that $A_{TM}$ is **not** mapping reducible to $E_{TM}$.\n",
    "\n",
    "In other words, show that no computable function reduces $A_{TM}$ to $E_{TM}$."
   ]
  },
  {
   "cell_type": "markdown",
   "metadata": {
    "id": "66DtcJ1XGbXW"
   },
   "source": [
    "I honestly don't know $E_{TM}$ well enough to do that."
   ]
  },
  {
   "cell_type": "markdown",
   "metadata": {
    "id": "LKzOBzeNCKKX"
   },
   "source": [
    "#### Hint"
   ]
  },
  {
   "cell_type": "markdown",
   "metadata": {
    "id": "gfYyj0Y2CMMR"
   },
   "source": [
    "Use a proof by contradiction, and facts you already know about $A_{TM}$ and $E_{TM}$ --- plus a fact that follows from the definition of mapping reducibility."
   ]
  },
  {
   "cell_type": "markdown",
   "metadata": {
    "id": "VlUP0Ry9CpBi"
   },
   "source": [
    "### Show decidability"
   ]
  },
  {
   "cell_type": "markdown",
   "metadata": {
    "id": "-rf89iKzCsDQ"
   },
   "source": [
    "Show that $A$ is decidable iff $A \\le_m 0^{*}1^{*}$."
   ]
  },
  {
   "cell_type": "markdown",
   "metadata": {
    "id": "gtrgGv2SGZZd"
   },
   "source": [
    "$0^{*}1^{*}$ is a regular language. If $A$ is $\\le_m $0^{*}1^{*}$, then $A$ must be decidable."
   ]
  },
  {
   "cell_type": "markdown",
   "metadata": {
    "id": "qxIfKZeHC5nO"
   },
   "source": [
    "### Show Turing-**recognizability**"
   ]
  },
  {
   "cell_type": "markdown",
   "metadata": {
    "id": "YSrU9EkoC_I1"
   },
   "source": [
    "Show that $A$ is Turing-recognizable iff $A \\le_m A_{TM}$."
   ]
  },
  {
   "cell_type": "markdown",
   "metadata": {
    "id": "GkRUYH0NGMf1"
   },
   "source": [
    "$A_{TM}$ is Turing-recognizable, therefore, if $A \\le_m A_{TM}$, then A must be Turing-recognizable as well."
   ]
  },
  {
   "cell_type": "markdown",
   "metadata": {
    "id": "jMr7dJ7DDcrJ"
   },
   "source": [
    "### Show NON-Turing-recognizability"
   ]
  },
  {
   "cell_type": "markdown",
   "metadata": {
    "id": "mKeiRvO1DfOO"
   },
   "source": [
    "Let $J = \\{w \\mid\\ \\mathbf{either}\\ w = 0x\\ \\mbox{for some}\\ x \\in A_{TM},\\ \\mathbf{or}\\ w = 1y\\ \\mbox{for some}\\ y \\in \\overline{A_{TM}}\\}$."
   ]
  },
  {
   "cell_type": "markdown",
   "metadata": {
    "id": "HqS1vPFKEde7"
   },
   "source": [
    "Show that neither $J$ nor $\\overline{J}$ is Turing-recognizable."
   ]
  },
  {
   "cell_type": "markdown",
   "metadata": {
    "id": "eSpZsashGPZd"
   },
   "source": [
    "Your answer goes here."
   ]
  },
  {
   "cell_type": "markdown",
   "metadata": {
    "id": "AVZBzgZ2EiSX"
   },
   "source": [
    "#### Hint"
   ]
  },
  {
   "cell_type": "markdown",
   "metadata": {
    "id": "y-g2LxszEpVv"
   },
   "source": [
    "To prove that $J$ is not Turing-recognizable, show that $\\overline{A_{TM}} \\le_m J$. \n",
    "\n",
    "You must actually define the mapping reduction --- i.e., say \"the reduction maps any string $y$ to the string _______.\" (Fill in the blank.)\n",
    "\n",
    "To prove that $\\overline{J}$ is not Turing-recognizable, show that $A_{TM} \\le_m J$. (Note $A_{TM} \\le_m J$ iff $\\overline{A_{TM}} \\le_m \\overline{J}$.)\n",
    "\n",
    "You must actually define the mapping reduction --- i.e., say \"the reduction maps any string $x$ to the string _______.\" (Fill in the blank.)"
   ]
  }
 ],
 "metadata": {
  "colab": {
   "authorship_tag": "ABX9TyNUJhCfWSSDVR3TO1aEqP1L",
   "include_colab_link": true,
   "name": "11_1_Readiness_Assurance_Test.ipynb",
   "provenance": []
  },
  "kernelspec": {
   "display_name": "Python 3",
   "language": "python",
   "name": "python3"
  },
  "language_info": {
   "codemirror_mode": {
    "name": "ipython",
    "version": 3
   },
   "file_extension": ".py",
   "mimetype": "text/x-python",
   "name": "python",
   "nbconvert_exporter": "python",
   "pygments_lexer": "ipython3",
   "version": "3.9.2"
  }
 },
 "nbformat": 4,
 "nbformat_minor": 1
}
